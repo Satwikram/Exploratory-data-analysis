{
  "nbformat": 4,
  "nbformat_minor": 0,
  "metadata": {
    "colab": {
      "name": "Numpy.ipynb",
      "provenance": [],
      "collapsed_sections": [],
      "toc_visible": true,
      "authorship_tag": "ABX9TyOZd8NA1CT0yqUrrIuS5YvG",
      "include_colab_link": true
    },
    "kernelspec": {
      "name": "python3",
      "display_name": "Python 3"
    },
    "accelerator": "TPU"
  },
  "cells": [
    {
      "cell_type": "markdown",
      "metadata": {
        "id": "view-in-github",
        "colab_type": "text"
      },
      "source": [
        "<a href=\"https://colab.research.google.com/github/Satwikram/Exploratory-data-analysis/blob/master/Numpy/Numpy.ipynb\" target=\"_parent\"><img src=\"https://colab.research.google.com/assets/colab-badge.svg\" alt=\"Open In Colab\"/></a>"
      ]
    },
    {
      "cell_type": "markdown",
      "metadata": {
        "id": "HeQkHllPA1XC"
      },
      "source": [
        "### Author: Satwik Ram K\n"
      ]
    },
    {
      "cell_type": "markdown",
      "metadata": {
        "id": "Ss38EmEGA69X"
      },
      "source": [
        "### Numpy Array"
      ]
    },
    {
      "cell_type": "markdown",
      "metadata": {
        "id": "vgSc8oGUBC7C"
      },
      "source": [
        "Numpy is a Linear Algebra Library used for Multidimensional arrays manipulation.\n",
        "\n",
        "Numpy is best for two things:\n",
        "\n",
        "1. Computational Efficiency\n",
        "2. Easy Syntax"
      ]
    },
    {
      "cell_type": "markdown",
      "metadata": {
        "id": "vGf3AdrYC8I9"
      },
      "source": [
        "### Lets Import numpy"
      ]
    },
    {
      "cell_type": "code",
      "metadata": {
        "id": "WDThwthrDCWT"
      },
      "source": [
        "import numpy as np"
      ],
      "execution_count": null,
      "outputs": []
    },
    {
      "cell_type": "markdown",
      "metadata": {
        "id": "CUGzLoazBtke"
      },
      "source": [
        "### Lets Define a one-dimensional Array."
      ]
    },
    {
      "cell_type": "markdown",
      "metadata": {
        "id": "74cuNjzXDTgY"
      },
      "source": [
        "**Creating List first**"
      ]
    },
    {
      "cell_type": "code",
      "metadata": {
        "id": "Wwn6eLoIA6Jx",
        "outputId": "a6d4a688-3bd1-4d88-f4cf-a4abc5aedeb6",
        "colab": {
          "base_uri": "https://localhost:8080/",
          "height": 51
        }
      },
      "source": [
        "my_list = [10, 20, 30, 40, 50]\n",
        "print(my_list)\n",
        "print(type(my_list))"
      ],
      "execution_count": null,
      "outputs": [
        {
          "output_type": "stream",
          "text": [
            "[10, 20, 30, 40, 50]\n",
            "<class 'list'>\n"
          ],
          "name": "stdout"
        }
      ]
    },
    {
      "cell_type": "markdown",
      "metadata": {
        "id": "C6nGd_4EDh-i"
      },
      "source": [
        "**Creating Numpy array from List \"my_list\"**"
      ]
    },
    {
      "cell_type": "code",
      "metadata": {
        "id": "yd42yKEIDPK8",
        "outputId": "690cb164-412a-49ec-8b1c-e17976a08619",
        "colab": {
          "base_uri": "https://localhost:8080/",
          "height": 51
        }
      },
      "source": [
        "x = np.array(my_list)\n",
        "print(x)\n",
        "print(type(x))"
      ],
      "execution_count": null,
      "outputs": [
        {
          "output_type": "stream",
          "text": [
            "[10 20 30 40 50]\n",
            "<class 'numpy.ndarray'>\n"
          ],
          "name": "stdout"
        }
      ]
    },
    {
      "cell_type": "markdown",
      "metadata": {
        "id": "W-TX_GBaEHez"
      },
      "source": [
        "### Multidimensional Array"
      ]
    },
    {
      "cell_type": "markdown",
      "metadata": {
        "id": "H0XqA8iWERL3"
      },
      "source": [
        "**Matrix Defination**"
      ]
    },
    {
      "cell_type": "code",
      "metadata": {
        "id": "BKplUGhZDz6g"
      },
      "source": [
        "matrix  = np.array([[1,2,3,4], [5,6,7,8]]) #2x4 Matrix"
      ],
      "execution_count": null,
      "outputs": []
    },
    {
      "cell_type": "code",
      "metadata": {
        "id": "WQOoiCOjEjHk",
        "outputId": "8adbd16f-71d3-401c-eab1-e3b4417bdfa5",
        "colab": {
          "base_uri": "https://localhost:8080/",
          "height": 51
        }
      },
      "source": [
        "matrix"
      ],
      "execution_count": null,
      "outputs": [
        {
          "output_type": "execute_result",
          "data": {
            "text/plain": [
              "array([[1, 2, 3, 4],\n",
              "       [5, 6, 7, 8]])"
            ]
          },
          "metadata": {
            "tags": []
          },
          "execution_count": 9
        }
      ]
    },
    {
      "cell_type": "code",
      "metadata": {
        "id": "vxMcT81nElff",
        "outputId": "3f956c5e-712f-42f0-dd71-1441b56e2f78",
        "colab": {
          "base_uri": "https://localhost:8080/",
          "height": 34
        }
      },
      "source": [
        "type(matrix)"
      ],
      "execution_count": null,
      "outputs": [
        {
          "output_type": "execute_result",
          "data": {
            "text/plain": [
              "numpy.ndarray"
            ]
          },
          "metadata": {
            "tags": []
          },
          "execution_count": 10
        }
      ]
    },
    {
      "cell_type": "markdown",
      "metadata": {
        "id": "FYQfQUQTFLVL"
      },
      "source": [
        "### BUILT-IN Methods and Functions"
      ]
    },
    {
      "cell_type": "markdown",
      "metadata": {
        "id": "Zo51PBqgFYUA"
      },
      "source": [
        "#### Random Function"
      ]
    },
    {
      "cell_type": "markdown",
      "metadata": {
        "id": "sn6XpzkYFmCD"
      },
      "source": [
        "**\"rand()\" function produces uniform distrubution between 0 and 1**"
      ]
    },
    {
      "cell_type": "code",
      "metadata": {
        "id": "DiM3speSFFdS"
      },
      "source": [
        "a = np.random.rand(15)"
      ],
      "execution_count": null,
      "outputs": []
    },
    {
      "cell_type": "code",
      "metadata": {
        "id": "4VYh7h7iGBdU",
        "outputId": "e06fefdf-3f8b-4ca4-8c00-0a87bc68e1d3",
        "colab": {
          "base_uri": "https://localhost:8080/",
          "height": 68
        }
      },
      "source": [
        "a"
      ],
      "execution_count": null,
      "outputs": [
        {
          "output_type": "execute_result",
          "data": {
            "text/plain": [
              "array([0.871634  , 0.78342463, 0.89595116, 0.30201572, 0.06737247,\n",
              "       0.19970894, 0.91956304, 0.48545196, 0.14363807, 0.51151821,\n",
              "       0.87253295, 0.02116295, 0.44537912, 0.98589674, 0.207863  ])"
            ]
          },
          "metadata": {
            "tags": []
          },
          "execution_count": 12
        }
      ]
    },
    {
      "cell_type": "markdown",
      "metadata": {
        "id": "L-EcCgb8GRv4"
      },
      "source": [
        "**We can Create a Matrix of random number as well**"
      ]
    },
    {
      "cell_type": "code",
      "metadata": {
        "id": "buxOwrVhGCz4"
      },
      "source": [
        "b = np.random.rand(5,5) #5x5 Matrix"
      ],
      "execution_count": null,
      "outputs": []
    },
    {
      "cell_type": "code",
      "metadata": {
        "id": "4c0ulLCBGlCH",
        "outputId": "b3c313ef-b2e5-4ee6-9003-57b473b1f226",
        "colab": {
          "base_uri": "https://localhost:8080/",
          "height": 102
        }
      },
      "source": [
        "b"
      ],
      "execution_count": null,
      "outputs": [
        {
          "output_type": "execute_result",
          "data": {
            "text/plain": [
              "array([[0.63446017, 0.82057827, 0.03532889, 0.24440806, 0.40439231],\n",
              "       [0.42490751, 0.99065514, 0.77887232, 0.04042732, 0.67569228],\n",
              "       [0.18858009, 0.06132092, 0.15564405, 0.67898546, 0.26667891],\n",
              "       [0.76626681, 0.66341839, 0.49916014, 0.21551807, 0.18756049],\n",
              "       [0.79331997, 0.21621015, 0.67429588, 0.13782899, 0.49957634]])"
            ]
          },
          "metadata": {
            "tags": []
          },
          "execution_count": 14
        }
      ]
    },
    {
      "cell_type": "markdown",
      "metadata": {
        "id": "zjJtovUI8f56"
      },
      "source": [
        "***\"randn()\" function produces normal distrubution between 0 and 1***"
      ]
    },
    {
      "cell_type": "code",
      "metadata": {
        "id": "8qhh5_cWGmhQ"
      },
      "source": [
        "c = np.random.randn(20)"
      ],
      "execution_count": null,
      "outputs": []
    },
    {
      "cell_type": "code",
      "metadata": {
        "id": "J3KSmgTEGoxD",
        "outputId": "dc2ba1cc-a2ef-4f98-8270-1ec5ab3b5c4b",
        "colab": {
          "base_uri": "https://localhost:8080/",
          "height": 85
        }
      },
      "source": [
        "c"
      ],
      "execution_count": null,
      "outputs": [
        {
          "output_type": "execute_result",
          "data": {
            "text/plain": [
              "array([ 0.30003324,  0.80921967,  1.96416891,  1.14567026, -0.05383723,\n",
              "        0.49966441, -2.05221645,  0.83776173, -0.1303152 , -0.87451314,\n",
              "        1.87675703,  0.22924203, -0.18359214, -0.96062893,  0.96474072,\n",
              "       -1.62534264, -1.08805871, -0.38841431, -0.43896274,  0.09633057])"
            ]
          },
          "metadata": {
            "tags": []
          },
          "execution_count": 16
        }
      ]
    },
    {
      "cell_type": "markdown",
      "metadata": {
        "id": "_ZH-VihH9th7"
      },
      "source": [
        "**Lets Visulize the normally distributed data.**"
      ]
    },
    {
      "cell_type": "code",
      "metadata": {
        "id": "UIdaAp6e85e7",
        "outputId": "234e5141-7885-44a3-c74a-67ad11f533da",
        "colab": {
          "base_uri": "https://localhost:8080/",
          "height": 283
        }
      },
      "source": [
        "import pandas as pd\n",
        "pd.DataFrame(c).plot(kind='density')"
      ],
      "execution_count": null,
      "outputs": [
        {
          "output_type": "execute_result",
          "data": {
            "text/plain": [
              "<matplotlib.axes._subplots.AxesSubplot at 0x7f480d31e2e8>"
            ]
          },
          "metadata": {
            "tags": []
          },
          "execution_count": 17
        },
        {
          "output_type": "display_data",
          "data": {
            "image/png": "[encoded data removed]",
            "text/plain": [
              "<Figure size 432x288 with 1 Axes>"
            ]
          },
          "metadata": {
            "tags": [],
            "needs_background": "light"
          }
        }
      ]
    },
    {
      "cell_type": "code",
      "metadata": {
        "id": "Leos-omM9ALw",
        "outputId": "8cd1258e-c9e6-4197-cdab-215720f73899",
        "colab": {
          "base_uri": "https://localhost:8080/",
          "height": 51
        }
      },
      "source": [
        "print(c.std())\n",
        "c.mean()"
      ],
      "execution_count": null,
      "outputs": [
        {
          "output_type": "stream",
          "text": [
            "1.035870433552354\n"
          ],
          "name": "stdout"
        },
        {
          "output_type": "execute_result",
          "data": {
            "text/plain": [
              "0.0463853530734399"
            ]
          },
          "metadata": {
            "tags": []
          },
          "execution_count": 18
        }
      ]
    },
    {
      "cell_type": "markdown",
      "metadata": {
        "id": "nAeSl3Ht-zm1"
      },
      "source": [
        "**\"randint()\" is used to generate random numbers between upper bound and lower bound**"
      ]
    },
    {
      "cell_type": "code",
      "metadata": {
        "id": "w1NBvcti94Tl"
      },
      "source": [
        "d = np.random.randint(1, 10)"
      ],
      "execution_count": null,
      "outputs": []
    },
    {
      "cell_type": "code",
      "metadata": {
        "id": "GWNI14NE_Cmj",
        "outputId": "ea914f55-5884-4c9a-b80e-eaf8d422fa5f",
        "colab": {
          "base_uri": "https://localhost:8080/",
          "height": 34
        }
      },
      "source": [
        "print(d)"
      ],
      "execution_count": null,
      "outputs": [
        {
          "output_type": "stream",
          "text": [
            "8\n"
          ],
          "name": "stdout"
        }
      ]
    },
    {
      "cell_type": "markdown",
      "metadata": {
        "id": "HjuQrDoR_ZgY"
      },
      "source": [
        "**randint() can be used to generate specific random numbers also**\n",
        "\n"
      ]
    },
    {
      "cell_type": "code",
      "metadata": {
        "id": "lHGoAMEK_Dfx"
      },
      "source": [
        "d = np.random.randint(1, 100, 20)"
      ],
      "execution_count": null,
      "outputs": []
    },
    {
      "cell_type": "code",
      "metadata": {
        "id": "qd_OW7ZZ_mEV",
        "outputId": "b9d5a5d8-0ef3-4eec-b454-e6879a8df2c6",
        "colab": {
          "base_uri": "https://localhost:8080/",
          "height": 51
        }
      },
      "source": [
        "print(d)\n",
        "print(type(d))"
      ],
      "execution_count": null,
      "outputs": [
        {
          "output_type": "stream",
          "text": [
            "[89 47 27 87 55 98 75 76  4 93 34 19 19  8 75 19 77 15  9  9]\n",
            "<class 'numpy.ndarray'>\n"
          ],
          "name": "stdout"
        }
      ]
    },
    {
      "cell_type": "markdown",
      "metadata": {
        "id": "zm3Wm0tV_0gL"
      },
      "source": [
        "### Evenly Spaced Numbers"
      ]
    },
    {
      "cell_type": "markdown",
      "metadata": {
        "id": "HTiV8RnrAGK2"
      },
      "source": [
        "**\"arange()\" creates an evelnly spaced values within the interval**"
      ]
    },
    {
      "cell_type": "code",
      "metadata": {
        "id": "3mFwEYHa_pPj"
      },
      "source": [
        "a = np.arange(1, 50)"
      ],
      "execution_count": null,
      "outputs": []
    },
    {
      "cell_type": "code",
      "metadata": {
        "id": "4lVmPErpAQ78",
        "outputId": "8b918c53-7d70-4cae-9056-1eaf8cc34a9c",
        "colab": {
          "base_uri": "https://localhost:8080/",
          "height": 85
        }
      },
      "source": [
        "print(a)\n",
        "print(type(a))"
      ],
      "execution_count": null,
      "outputs": [
        {
          "output_type": "stream",
          "text": [
            "[ 1  2  3  4  5  6  7  8  9 10 11 12 13 14 15 16 17 18 19 20 21 22 23 24\n",
            " 25 26 27 28 29 30 31 32 33 34 35 36 37 38 39 40 41 42 43 44 45 46 47 48\n",
            " 49]\n",
            "<class 'numpy.ndarray'>\n"
          ],
          "name": "stdout"
        }
      ]
    },
    {
      "cell_type": "markdown",
      "metadata": {
        "id": "Djdq6BpWAZv3"
      },
      "source": [
        "**Creating evenly spaced values with step size**"
      ]
    },
    {
      "cell_type": "code",
      "metadata": {
        "id": "ijEwo3w4AT_Y"
      },
      "source": [
        "b = np.arange(1, 50, 5)"
      ],
      "execution_count": null,
      "outputs": []
    },
    {
      "cell_type": "code",
      "metadata": {
        "id": "7_-gl95VAjkV",
        "outputId": "31aff236-c6a1-4622-9668-fedf30645b3b",
        "colab": {
          "base_uri": "https://localhost:8080/",
          "height": 51
        }
      },
      "source": [
        "print(b)\n",
        "print(type(b))"
      ],
      "execution_count": null,
      "outputs": [
        {
          "output_type": "stream",
          "text": [
            "[ 1  6 11 16 21 26 31 36 41 46]\n",
            "<class 'numpy.ndarray'>\n"
          ],
          "name": "stdout"
        }
      ]
    },
    {
      "cell_type": "markdown",
      "metadata": {
        "id": "dVHdvZ7gBFcf"
      },
      "source": [
        "### Creating Diagnoal Matrix"
      ]
    },
    {
      "cell_type": "markdown",
      "metadata": {
        "id": "9Dha41hoBN7g"
      },
      "source": [
        "**\"eye()\" creates a diagonal of ones and zeros everywhere else**"
      ]
    },
    {
      "cell_type": "code",
      "metadata": {
        "id": "NuaXRThSAmcs"
      },
      "source": [
        "x = np.eye(15) #15*15 Square Matrix!"
      ],
      "execution_count": null,
      "outputs": []
    },
    {
      "cell_type": "code",
      "metadata": {
        "id": "G7gmMQCKBhhV",
        "outputId": "a526e9f1-377b-4023-b897-0c2e59cdf7a1",
        "colab": {
          "base_uri": "https://localhost:8080/",
          "height": 272
        }
      },
      "source": [
        "x"
      ],
      "execution_count": null,
      "outputs": [
        {
          "output_type": "execute_result",
          "data": {
            "text/plain": [
              "array([[1., 0., 0., 0., 0., 0., 0., 0., 0., 0., 0., 0., 0., 0., 0.],\n",
              "       [0., 1., 0., 0., 0., 0., 0., 0., 0., 0., 0., 0., 0., 0., 0.],\n",
              "       [0., 0., 1., 0., 0., 0., 0., 0., 0., 0., 0., 0., 0., 0., 0.],\n",
              "       [0., 0., 0., 1., 0., 0., 0., 0., 0., 0., 0., 0., 0., 0., 0.],\n",
              "       [0., 0., 0., 0., 1., 0., 0., 0., 0., 0., 0., 0., 0., 0., 0.],\n",
              "       [0., 0., 0., 0., 0., 1., 0., 0., 0., 0., 0., 0., 0., 0., 0.],\n",
              "       [0., 0., 0., 0., 0., 0., 1., 0., 0., 0., 0., 0., 0., 0., 0.],\n",
              "       [0., 0., 0., 0., 0., 0., 0., 1., 0., 0., 0., 0., 0., 0., 0.],\n",
              "       [0., 0., 0., 0., 0., 0., 0., 0., 1., 0., 0., 0., 0., 0., 0.],\n",
              "       [0., 0., 0., 0., 0., 0., 0., 0., 0., 1., 0., 0., 0., 0., 0.],\n",
              "       [0., 0., 0., 0., 0., 0., 0., 0., 0., 0., 1., 0., 0., 0., 0.],\n",
              "       [0., 0., 0., 0., 0., 0., 0., 0., 0., 0., 0., 1., 0., 0., 0.],\n",
              "       [0., 0., 0., 0., 0., 0., 0., 0., 0., 0., 0., 0., 1., 0., 0.],\n",
              "       [0., 0., 0., 0., 0., 0., 0., 0., 0., 0., 0., 0., 0., 1., 0.],\n",
              "       [0., 0., 0., 0., 0., 0., 0., 0., 0., 0., 0., 0., 0., 0., 1.]])"
            ]
          },
          "metadata": {
            "tags": []
          },
          "execution_count": 28
        }
      ]
    },
    {
      "cell_type": "markdown",
      "metadata": {
        "id": "xhtsWzXtBxXq"
      },
      "source": [
        "### Array of Ones"
      ]
    },
    {
      "cell_type": "code",
      "metadata": {
        "id": "QZYQfZNiBlyE",
        "outputId": "69419cdb-dd52-43a1-c9df-dc9fc5322c0c",
        "colab": {
          "base_uri": "https://localhost:8080/",
          "height": 34
        }
      },
      "source": [
        "np.ones(10)"
      ],
      "execution_count": null,
      "outputs": [
        {
          "output_type": "execute_result",
          "data": {
            "text/plain": [
              "array([1., 1., 1., 1., 1., 1., 1., 1., 1., 1.])"
            ]
          },
          "metadata": {
            "tags": []
          },
          "execution_count": 29
        }
      ]
    },
    {
      "cell_type": "markdown",
      "metadata": {
        "id": "Frb3QXUFB9qW"
      },
      "source": [
        "### Matrix of ones"
      ]
    },
    {
      "cell_type": "code",
      "metadata": {
        "id": "ro1gCH19B5IO",
        "outputId": "fa4b0c3f-ae5e-4d2d-ea66-753b22ae6b24",
        "colab": {
          "base_uri": "https://localhost:8080/",
          "height": 102
        }
      },
      "source": [
        "np.ones((5, 5))"
      ],
      "execution_count": null,
      "outputs": [
        {
          "output_type": "execute_result",
          "data": {
            "text/plain": [
              "array([[1., 1., 1., 1., 1.],\n",
              "       [1., 1., 1., 1., 1.],\n",
              "       [1., 1., 1., 1., 1.],\n",
              "       [1., 1., 1., 1., 1.],\n",
              "       [1., 1., 1., 1., 1.]])"
            ]
          },
          "metadata": {
            "tags": []
          },
          "execution_count": 30
        }
      ]
    },
    {
      "cell_type": "markdown",
      "metadata": {
        "id": "zzfECncQCTt_"
      },
      "source": [
        "### Array of Zeroes"
      ]
    },
    {
      "cell_type": "markdown",
      "metadata": {
        "id": "DNVl2po2CWU4"
      },
      "source": [
        "**Same like ones**"
      ]
    },
    {
      "cell_type": "code",
      "metadata": {
        "id": "-PYR7KOcCEa_",
        "outputId": "96199ea2-273c-4161-f724-fd8f8705b3e1",
        "colab": {
          "base_uri": "https://localhost:8080/",
          "height": 34
        }
      },
      "source": [
        "np.zeros(10)"
      ],
      "execution_count": null,
      "outputs": [
        {
          "output_type": "execute_result",
          "data": {
            "text/plain": [
              "array([0., 0., 0., 0., 0., 0., 0., 0., 0., 0.])"
            ]
          },
          "metadata": {
            "tags": []
          },
          "execution_count": 31
        }
      ]
    },
    {
      "cell_type": "markdown",
      "metadata": {
        "id": "JAFwQIbmDZxs"
      },
      "source": [
        "### SHAPE, LENGTH, TYPE, RESHAPE, AND MAX/MIN VALUES"
      ]
    },
    {
      "cell_type": "markdown",
      "metadata": {
        "id": "CgDh8R_qDvkR"
      },
      "source": [
        "**Let's define a one-dimensional array**"
      ]
    },
    {
      "cell_type": "code",
      "metadata": {
        "id": "njG_rxMYCcYB",
        "outputId": "f36a01d8-885e-4de0-bf39-985a63e18fca",
        "colab": {
          "base_uri": "https://localhost:8080/",
          "height": 51
        }
      },
      "source": [
        "my_list = [10, 20, 30, 40, 50, 60, 70, 80]\n",
        "print(my_list)\n",
        "print(type(my_list))"
      ],
      "execution_count": null,
      "outputs": [
        {
          "output_type": "stream",
          "text": [
            "[10, 20, 30, 40, 50, 60, 70, 80]\n",
            "<class 'list'>\n"
          ],
          "name": "stdout"
        }
      ]
    },
    {
      "cell_type": "code",
      "metadata": {
        "id": "Jm3OG6HJD-pp"
      },
      "source": [
        "x = np.array(my_list)"
      ],
      "execution_count": null,
      "outputs": []
    },
    {
      "cell_type": "markdown",
      "metadata": {
        "id": "4_KUYtB8ELN9"
      },
      "source": [
        "**Get Length of a numpy array**"
      ]
    },
    {
      "cell_type": "code",
      "metadata": {
        "id": "sngylCRYEDte",
        "outputId": "eb3642bb-faf3-47b3-af1e-8f362a5dbca2",
        "colab": {
          "base_uri": "https://localhost:8080/",
          "height": 34
        }
      },
      "source": [
        "len(x)"
      ],
      "execution_count": null,
      "outputs": [
        {
          "output_type": "execute_result",
          "data": {
            "text/plain": [
              "8"
            ]
          },
          "metadata": {
            "tags": []
          },
          "execution_count": 34
        }
      ]
    },
    {
      "cell_type": "markdown",
      "metadata": {
        "id": "1QJjXLOpES9P"
      },
      "source": [
        "**Get Shape**"
      ]
    },
    {
      "cell_type": "code",
      "metadata": {
        "id": "Q4zfxmhMEPRi",
        "outputId": "ca049622-5555-49b7-9149-1386f7cf35d2",
        "colab": {
          "base_uri": "https://localhost:8080/",
          "height": 34
        }
      },
      "source": [
        "x.shape"
      ],
      "execution_count": null,
      "outputs": [
        {
          "output_type": "execute_result",
          "data": {
            "text/plain": [
              "(8,)"
            ]
          },
          "metadata": {
            "tags": []
          },
          "execution_count": 35
        }
      ]
    },
    {
      "cell_type": "markdown",
      "metadata": {
        "id": "oEH_V1eZEdF8"
      },
      "source": [
        "**Obtain the Datatype**"
      ]
    },
    {
      "cell_type": "code",
      "metadata": {
        "id": "Lk-2BA4eEYS7",
        "outputId": "cd78fec8-25e9-4ff5-822d-19587b5a876e",
        "colab": {
          "base_uri": "https://localhost:8080/",
          "height": 34
        }
      },
      "source": [
        "x.dtype"
      ],
      "execution_count": null,
      "outputs": [
        {
          "output_type": "execute_result",
          "data": {
            "text/plain": [
              "dtype('int64')"
            ]
          },
          "metadata": {
            "tags": []
          },
          "execution_count": 36
        }
      ]
    },
    {
      "cell_type": "code",
      "metadata": {
        "id": "w61fmA5WEgQ3",
        "outputId": "b1d59cf6-18e4-4c7a-98be-ac71a96c6ffa",
        "colab": {
          "base_uri": "https://localhost:8080/",
          "height": 34
        }
      },
      "source": [
        "x[0].dtype"
      ],
      "execution_count": null,
      "outputs": [
        {
          "output_type": "execute_result",
          "data": {
            "text/plain": [
              "dtype('int64')"
            ]
          },
          "metadata": {
            "tags": []
          },
          "execution_count": 37
        }
      ]
    },
    {
      "cell_type": "markdown",
      "metadata": {
        "id": "XEZo7phYErU4"
      },
      "source": [
        "**Reshaping 1D Array into Matrix**"
      ]
    },
    {
      "cell_type": "code",
      "metadata": {
        "id": "v8zxJkbzEjfq"
      },
      "source": [
        "z = np.reshape(x, (2,4))"
      ],
      "execution_count": null,
      "outputs": []
    },
    {
      "cell_type": "code",
      "metadata": {
        "id": "uKgESSfZE4pH",
        "outputId": "4c0171c0-ce43-4f0e-e471-56d3141ec950",
        "colab": {
          "base_uri": "https://localhost:8080/",
          "height": 51
        }
      },
      "source": [
        "z"
      ],
      "execution_count": null,
      "outputs": [
        {
          "output_type": "execute_result",
          "data": {
            "text/plain": [
              "array([[10, 20, 30, 40],\n",
              "       [50, 60, 70, 80]])"
            ]
          },
          "metadata": {
            "tags": []
          },
          "execution_count": 39
        }
      ]
    },
    {
      "cell_type": "markdown",
      "metadata": {
        "id": "pUGUHVrHFXYI"
      },
      "source": [
        "**Obtain Max and Min Value**"
      ]
    },
    {
      "cell_type": "code",
      "metadata": {
        "id": "2ynjpdoQE76Q",
        "outputId": "b49c93b5-72ba-4465-d5a6-a6ca0ab85a9e",
        "colab": {
          "base_uri": "https://localhost:8080/",
          "height": 51
        }
      },
      "source": [
        "print(x.max())\n",
        "print(x.min())"
      ],
      "execution_count": null,
      "outputs": [
        {
          "output_type": "stream",
          "text": [
            "80\n",
            "10\n"
          ],
          "name": "stdout"
        }
      ]
    },
    {
      "cell_type": "markdown",
      "metadata": {
        "id": "FJAoNB3QFusM"
      },
      "source": [
        "**Obtain the location of the Max and Min**"
      ]
    },
    {
      "cell_type": "code",
      "metadata": {
        "id": "TRC9KZQ2Fbjc"
      },
      "source": [
        "classes = np.array([1, 2, 3, 4, 5])"
      ],
      "execution_count": null,
      "outputs": []
    },
    {
      "cell_type": "code",
      "metadata": {
        "id": "f_nyCApUGLcW"
      },
      "source": [
        "prediction = np.array([-0.111, -0.1, -0.9988, -.7848, -0.9998])"
      ],
      "execution_count": null,
      "outputs": []
    },
    {
      "cell_type": "code",
      "metadata": {
        "id": "3UJiqM7KGb75",
        "outputId": "2df2b320-aaf6-40d4-e9f7-87ea6892d2f0",
        "colab": {
          "base_uri": "https://localhost:8080/",
          "height": 34
        }
      },
      "source": [
        "np.argmax(prediction)"
      ],
      "execution_count": null,
      "outputs": [
        {
          "output_type": "execute_result",
          "data": {
            "text/plain": [
              "1"
            ]
          },
          "metadata": {
            "tags": []
          },
          "execution_count": 43
        }
      ]
    },
    {
      "cell_type": "code",
      "metadata": {
        "id": "YOAcptIgGf1s",
        "outputId": "3682b3ce-9e25-4243-c765-8bd37901111c",
        "colab": {
          "base_uri": "https://localhost:8080/",
          "height": 34
        }
      },
      "source": [
        "classes[np.argmax(prediction)]"
      ],
      "execution_count": null,
      "outputs": [
        {
          "output_type": "execute_result",
          "data": {
            "text/plain": [
              "2"
            ]
          },
          "metadata": {
            "tags": []
          },
          "execution_count": 44
        }
      ]
    },
    {
      "cell_type": "code",
      "metadata": {
        "id": "9s5RcGSIGoWA",
        "outputId": "e37d57e9-ed1a-4b53-ab80-f740cdebd0a0",
        "colab": {
          "base_uri": "https://localhost:8080/",
          "height": 34
        }
      },
      "source": [
        "np.argmin(prediction)"
      ],
      "execution_count": null,
      "outputs": [
        {
          "output_type": "execute_result",
          "data": {
            "text/plain": [
              "4"
            ]
          },
          "metadata": {
            "tags": []
          },
          "execution_count": 45
        }
      ]
    },
    {
      "cell_type": "markdown",
      "metadata": {
        "id": "wVIffGmrHeyV"
      },
      "source": [
        "### Mathematical Operations"
      ]
    },
    {
      "cell_type": "code",
      "metadata": {
        "id": "y8YKygHoHAXm",
        "outputId": "2cea9e22-e188-44cc-ced5-6181e8fd3525",
        "colab": {
          "base_uri": "https://localhost:8080/",
          "height": 34
        }
      },
      "source": [
        "x = np.arange(1, 10)\n",
        "x"
      ],
      "execution_count": null,
      "outputs": [
        {
          "output_type": "execute_result",
          "data": {
            "text/plain": [
              "array([1, 2, 3, 4, 5, 6, 7, 8, 9])"
            ]
          },
          "metadata": {
            "tags": []
          },
          "execution_count": 46
        }
      ]
    },
    {
      "cell_type": "code",
      "metadata": {
        "id": "atZBq6abHrZ9",
        "outputId": "a3511cbc-15a3-4d8c-ad86-ae34c366a3cb",
        "colab": {
          "base_uri": "https://localhost:8080/",
          "height": 34
        }
      },
      "source": [
        "y = np.arange(1, 10)\n",
        "y"
      ],
      "execution_count": null,
      "outputs": [
        {
          "output_type": "execute_result",
          "data": {
            "text/plain": [
              "array([1, 2, 3, 4, 5, 6, 7, 8, 9])"
            ]
          },
          "metadata": {
            "tags": []
          },
          "execution_count": 47
        }
      ]
    },
    {
      "cell_type": "markdown",
      "metadata": {
        "id": "_nL63GQZH2Fu"
      },
      "source": [
        "**Adding Two Numpy Arrays**"
      ]
    },
    {
      "cell_type": "code",
      "metadata": {
        "id": "14MQlA-3Hvs1",
        "outputId": "c26076db-1c8c-4f67-9cbb-5946e6fe4040",
        "colab": {
          "base_uri": "https://localhost:8080/",
          "height": 34
        }
      },
      "source": [
        "sum = x + y\n",
        "sum"
      ],
      "execution_count": null,
      "outputs": [
        {
          "output_type": "execute_result",
          "data": {
            "text/plain": [
              "array([ 2,  4,  6,  8, 10, 12, 14, 16, 18])"
            ]
          },
          "metadata": {
            "tags": []
          },
          "execution_count": 48
        }
      ]
    },
    {
      "cell_type": "markdown",
      "metadata": {
        "id": "UYb8bXe8IDGt"
      },
      "source": [
        "**Squaring**"
      ]
    },
    {
      "cell_type": "code",
      "metadata": {
        "id": "RekqkTt4H7JL",
        "outputId": "9d06dd47-edf3-4c59-9300-a8841d649c5f",
        "colab": {
          "base_uri": "https://localhost:8080/",
          "height": 34
        }
      },
      "source": [
        "squared = x**2\n",
        "squared"
      ],
      "execution_count": null,
      "outputs": [
        {
          "output_type": "execute_result",
          "data": {
            "text/plain": [
              "array([ 1,  4,  9, 16, 25, 36, 49, 64, 81])"
            ]
          },
          "metadata": {
            "tags": []
          },
          "execution_count": 49
        }
      ]
    },
    {
      "cell_type": "markdown",
      "metadata": {
        "id": "T6vSm_ksITWe"
      },
      "source": [
        "**Square Root**"
      ]
    },
    {
      "cell_type": "code",
      "metadata": {
        "id": "hjA7nYN-IHCE",
        "outputId": "fcf384f3-5c17-4091-c05c-ad6524bedf5d",
        "colab": {
          "base_uri": "https://localhost:8080/",
          "height": 34
        }
      },
      "source": [
        "sqrt = np.sqrt(squared)\n",
        "sqrt"
      ],
      "execution_count": null,
      "outputs": [
        {
          "output_type": "execute_result",
          "data": {
            "text/plain": [
              "array([1., 2., 3., 4., 5., 6., 7., 8., 9.])"
            ]
          },
          "metadata": {
            "tags": []
          },
          "execution_count": 50
        }
      ]
    },
    {
      "cell_type": "markdown",
      "metadata": {
        "id": "DviLW2aEIoil"
      },
      "source": [
        "**Exponential**"
      ]
    },
    {
      "cell_type": "code",
      "metadata": {
        "id": "8zSKGx-UIXrY",
        "outputId": "ab0a8742-9a54-45e3-9bb3-d97e0e0f35f5",
        "colab": {
          "base_uri": "https://localhost:8080/",
          "height": 68
        }
      },
      "source": [
        "exp = np.exp(y)\n",
        "exp"
      ],
      "execution_count": null,
      "outputs": [
        {
          "output_type": "execute_result",
          "data": {
            "text/plain": [
              "array([2.71828183e+00, 7.38905610e+00, 2.00855369e+01, 5.45981500e+01,\n",
              "       1.48413159e+02, 4.03428793e+02, 1.09663316e+03, 2.98095799e+03,\n",
              "       8.10308393e+03])"
            ]
          },
          "metadata": {
            "tags": []
          },
          "execution_count": 51
        }
      ]
    },
    {
      "cell_type": "markdown",
      "metadata": {
        "id": "UrkJrUuDB7TH"
      },
      "source": [
        "### Slicing and Indexing"
      ]
    },
    {
      "cell_type": "code",
      "metadata": {
        "id": "naPQpABoItM2",
        "outputId": "40a51474-93a0-47ee-ee17-2a2ce1b8a09c",
        "colab": {
          "base_uri": "https://localhost:8080/",
          "height": 34
        }
      },
      "source": [
        "arr = np.array([10, 20, 30, 40, 50])\n",
        "arr"
      ],
      "execution_count": null,
      "outputs": [
        {
          "output_type": "execute_result",
          "data": {
            "text/plain": [
              "array([10, 20, 30, 40, 50])"
            ]
          },
          "metadata": {
            "tags": []
          },
          "execution_count": 53
        }
      ]
    },
    {
      "cell_type": "markdown",
      "metadata": {
        "id": "3ITQcOr7CPkm"
      },
      "source": [
        "**Accesing Specific Index**"
      ]
    },
    {
      "cell_type": "code",
      "metadata": {
        "id": "GNmUISK-CKv1",
        "outputId": "4fb080af-5f20-4e36-a824-c415cc4c4bea",
        "colab": {
          "base_uri": "https://localhost:8080/",
          "height": 187
        }
      },
      "source": [
        "for i in range(len(arr)):\n",
        "  print(arr[i])\n",
        "  print(\"--\")"
      ],
      "execution_count": null,
      "outputs": [
        {
          "output_type": "stream",
          "text": [
            "10\n",
            "--\n",
            "20\n",
            "--\n",
            "30\n",
            "--\n",
            "40\n",
            "--\n",
            "50\n",
            "--\n"
          ],
          "name": "stdout"
        }
      ]
    },
    {
      "cell_type": "markdown",
      "metadata": {
        "id": "IPHS8ZvtCsfI"
      },
      "source": [
        "**Accesing from a given range**"
      ]
    },
    {
      "cell_type": "code",
      "metadata": {
        "id": "7c8qCZyoCfMG",
        "outputId": "56d7345b-97c9-4b0a-b4e1-bcb4fa5eb676",
        "colab": {
          "base_uri": "https://localhost:8080/",
          "height": 34
        }
      },
      "source": [
        "arr[:3]"
      ],
      "execution_count": null,
      "outputs": [
        {
          "output_type": "execute_result",
          "data": {
            "text/plain": [
              "array([10, 20, 30])"
            ]
          },
          "metadata": {
            "tags": []
          },
          "execution_count": 55
        }
      ]
    },
    {
      "cell_type": "markdown",
      "metadata": {
        "id": "rnBZRW_GDMml"
      },
      "source": [
        "**Broadcasting, altering several values at once**"
      ]
    },
    {
      "cell_type": "code",
      "metadata": {
        "id": "WMZNOuR9CzQd",
        "outputId": "ffb5e3ce-3753-4eb1-82d0-cea9a2be2c95",
        "colab": {
          "base_uri": "https://localhost:8080/",
          "height": 34
        }
      },
      "source": [
        "arr[:3] = 10\n",
        "arr"
      ],
      "execution_count": null,
      "outputs": [
        {
          "output_type": "execute_result",
          "data": {
            "text/plain": [
              "array([10, 10, 10, 40, 50])"
            ]
          },
          "metadata": {
            "tags": []
          },
          "execution_count": 56
        }
      ]
    },
    {
      "cell_type": "markdown",
      "metadata": {
        "id": "J1l1LHTFDjyK"
      },
      "source": [
        "Defifning 2-D Array"
      ]
    },
    {
      "cell_type": "code",
      "metadata": {
        "id": "8qnn_M8RDdKb",
        "outputId": "4c1d4942-1c0c-4387-8361-e0567c5866fb",
        "colab": {
          "base_uri": "https://localhost:8080/",
          "height": 102
        }
      },
      "source": [
        "matrix = np.random.randint(1, 10, (5,5))\n",
        "matrix"
      ],
      "execution_count": null,
      "outputs": [
        {
          "output_type": "execute_result",
          "data": {
            "text/plain": [
              "array([[8, 4, 7, 3, 2],\n",
              "       [1, 1, 9, 8, 8],\n",
              "       [3, 4, 9, 7, 4],\n",
              "       [9, 4, 5, 8, 4],\n",
              "       [3, 7, 8, 2, 8]])"
            ]
          },
          "metadata": {
            "tags": []
          },
          "execution_count": 59
        }
      ]
    },
    {
      "cell_type": "markdown",
      "metadata": {
        "id": "C2_vx5sOErbX"
      },
      "source": [
        "**Getting a specific rows and cols from matrix**"
      ]
    },
    {
      "cell_type": "code",
      "metadata": {
        "id": "J1HMuSKhEmEh",
        "outputId": "bc7d3035-a197-4691-c91d-da1bcace7008",
        "colab": {
          "base_uri": "https://localhost:8080/",
          "height": 102
        }
      },
      "source": [
        "matrix[:, :2]"
      ],
      "execution_count": null,
      "outputs": [
        {
          "output_type": "execute_result",
          "data": {
            "text/plain": [
              "array([[8, 4],\n",
              "       [1, 1],\n",
              "       [3, 4],\n",
              "       [9, 4],\n",
              "       [3, 7]])"
            ]
          },
          "metadata": {
            "tags": []
          },
          "execution_count": 60
        }
      ]
    },
    {
      "cell_type": "markdown",
      "metadata": {
        "id": "EuAOvdT7FWUo"
      },
      "source": [
        "**Getting a specific number**"
      ]
    },
    {
      "cell_type": "code",
      "metadata": {
        "id": "SS7jFLcVFIbg",
        "outputId": "077f90c6-ccd5-40be-f377-383b85d9a5f2",
        "colab": {
          "base_uri": "https://localhost:8080/",
          "height": 34
        }
      },
      "source": [
        "matrix[2][3]"
      ],
      "execution_count": null,
      "outputs": [
        {
          "output_type": "execute_result",
          "data": {
            "text/plain": [
              "7"
            ]
          },
          "metadata": {
            "tags": []
          },
          "execution_count": 61
        }
      ]
    },
    {
      "cell_type": "markdown",
      "metadata": {
        "id": "2GQio0_RGiBW"
      },
      "source": [
        "### Elements Selection (Conditional)"
      ]
    },
    {
      "cell_type": "code",
      "metadata": {
        "id": "y9TPMgfpFgDJ",
        "outputId": "2140fb01-4bfc-470e-9b40-280edb61e081",
        "colab": {
          "base_uri": "https://localhost:8080/",
          "height": 102
        }
      },
      "source": [
        "matrix"
      ],
      "execution_count": null,
      "outputs": [
        {
          "output_type": "execute_result",
          "data": {
            "text/plain": [
              "array([[8, 4, 7, 3, 2],\n",
              "       [1, 1, 9, 8, 8],\n",
              "       [3, 4, 9, 7, 4],\n",
              "       [9, 4, 5, 8, 4],\n",
              "       [3, 7, 8, 2, 8]])"
            ]
          },
          "metadata": {
            "tags": []
          },
          "execution_count": 62
        }
      ]
    },
    {
      "cell_type": "code",
      "metadata": {
        "id": "ztqPDHZGHinM",
        "outputId": "765b332d-b9cf-4468-a32d-7f4e9760eb64",
        "colab": {
          "base_uri": "https://localhost:8080/",
          "height": 34
        }
      },
      "source": [
        "matrix[matrix > 3]"
      ],
      "execution_count": null,
      "outputs": [
        {
          "output_type": "execute_result",
          "data": {
            "text/plain": [
              "array([8, 4, 7, 9, 8, 8, 4, 9, 7, 4, 9, 4, 5, 8, 4, 7, 8, 8])"
            ]
          },
          "metadata": {
            "tags": []
          },
          "execution_count": 63
        }
      ]
    },
    {
      "cell_type": "code",
      "metadata": {
        "id": "dWAHZzGtHlSz",
        "outputId": "320454df-e95d-44a9-bdf0-f7960de030c2",
        "colab": {
          "base_uri": "https://localhost:8080/",
          "height": 34
        }
      },
      "source": [
        "matrix[matrix % 2 == 0]"
      ],
      "execution_count": null,
      "outputs": [
        {
          "output_type": "execute_result",
          "data": {
            "text/plain": [
              "array([8, 4, 2, 8, 8, 4, 4, 4, 8, 4, 8, 2, 8])"
            ]
          },
          "metadata": {
            "tags": []
          },
          "execution_count": 65
        }
      ]
    },
    {
      "cell_type": "markdown",
      "metadata": {
        "id": "yA86yIJlKBFD"
      },
      "source": [
        "### Creating linespaces"
      ]
    },
    {
      "cell_type": "code",
      "metadata": {
        "id": "PSyTWBYDJdRX",
        "outputId": "9d3211ff-9371-499f-ba4f-1c08e72d574a",
        "colab": {
          "base_uri": "https://localhost:8080/",
          "height": 34
        }
      },
      "source": [
        "np.linspace(2.0, 3.0, num=6)"
      ],
      "execution_count": 69,
      "outputs": [
        {
          "output_type": "execute_result",
          "data": {
            "text/plain": [
              "array([2. , 2.2, 2.4, 2.6, 2.8, 3. ])"
            ]
          },
          "metadata": {
            "tags": []
          },
          "execution_count": 69
        }
      ]
    },
    {
      "cell_type": "code",
      "metadata": {
        "id": "2zkSnL-CKsXp",
        "outputId": "2e52941e-902a-4c6a-c5a8-b6d3b5d268c0",
        "colab": {
          "base_uri": "https://localhost:8080/",
          "height": 34
        }
      },
      "source": [
        "(3-2)/6"
      ],
      "execution_count": 75,
      "outputs": [
        {
          "output_type": "execute_result",
          "data": {
            "text/plain": [
              "0.16666666666666666"
            ]
          },
          "metadata": {
            "tags": []
          },
          "execution_count": 75
        }
      ]
    },
    {
      "cell_type": "code",
      "metadata": {
        "id": "gcuaIHc3KJum",
        "outputId": "ca8ac5df-c87b-42f2-cc3d-596f0dd7c7cf",
        "colab": {
          "base_uri": "https://localhost:8080/",
          "height": 51
        }
      },
      "source": [
        "np.linspace(2.0, 3.0, num = 6, endpoint=False)"
      ],
      "execution_count": 74,
      "outputs": [
        {
          "output_type": "execute_result",
          "data": {
            "text/plain": [
              "array([2.        , 2.16666667, 2.33333333, 2.5       , 2.66666667,\n",
              "       2.83333333])"
            ]
          },
          "metadata": {
            "tags": []
          },
          "execution_count": 74
        }
      ]
    },
    {
      "cell_type": "code",
      "metadata": {
        "id": "xJ8ebREaKQoW",
        "outputId": "350243a2-4955-4e5c-cbcc-55bbc9c17bde",
        "colab": {
          "base_uri": "https://localhost:8080/",
          "height": 34
        }
      },
      "source": [
        "np.linspace(2.0, 3.0, num = 6 , retstep = True)"
      ],
      "execution_count": 78,
      "outputs": [
        {
          "output_type": "execute_result",
          "data": {
            "text/plain": [
              "(array([2. , 2.2, 2.4, 2.6, 2.8, 3. ]), 0.2)"
            ]
          },
          "metadata": {
            "tags": []
          },
          "execution_count": 78
        }
      ]
    },
    {
      "cell_type": "code",
      "metadata": {
        "id": "y-xG3E1zK32D",
        "outputId": "ca6c3045-a971-46e0-8f7e-727bb68e7cc5",
        "colab": {
          "base_uri": "https://localhost:8080/",
          "height": 51
        }
      },
      "source": [
        "np.linspace(2.0, 3.0, num = 6 , endpoint = False, retstep = True)"
      ],
      "execution_count": 80,
      "outputs": [
        {
          "output_type": "execute_result",
          "data": {
            "text/plain": [
              "(array([2.        , 2.16666667, 2.33333333, 2.5       , 2.66666667,\n",
              "        2.83333333]), 0.16666666666666666)"
            ]
          },
          "metadata": {
            "tags": []
          },
          "execution_count": 80
        }
      ]
    },
    {
      "cell_type": "markdown",
      "metadata": {
        "id": "JEnaq3jALPfa"
      },
      "source": [
        "**Return numbers spaced evenly on a log scale.**"
      ]
    },
    {
      "cell_type": "code",
      "metadata": {
        "id": "7Xlz0OFkLFxO",
        "outputId": "53fcb3cf-0b35-4364-e9fa-45ac82cf45d2",
        "colab": {
          "base_uri": "https://localhost:8080/",
          "height": 51
        }
      },
      "source": [
        "np.logspace(2.0, 3.0, num = 6)"
      ],
      "execution_count": 81,
      "outputs": [
        {
          "output_type": "execute_result",
          "data": {
            "text/plain": [
              "array([ 100.        ,  158.48931925,  251.18864315,  398.10717055,\n",
              "        630.95734448, 1000.        ])"
            ]
          },
          "metadata": {
            "tags": []
          },
          "execution_count": 81
        }
      ]
    },
    {
      "cell_type": "code",
      "metadata": {
        "id": "QYY62RfMLgI0",
        "outputId": "70b7e3ba-fa1d-4287-d8c6-b7e028206644",
        "colab": {
          "base_uri": "https://localhost:8080/",
          "height": 34
        }
      },
      "source": [
        "np.log(100)"
      ],
      "execution_count": 84,
      "outputs": [
        {
          "output_type": "execute_result",
          "data": {
            "text/plain": [
              "4.605170185988092"
            ]
          },
          "metadata": {
            "tags": []
          },
          "execution_count": 84
        }
      ]
    },
    {
      "cell_type": "markdown",
      "metadata": {
        "id": "9--HinApNLGG"
      },
      "source": [
        "### Changing Data Type"
      ]
    },
    {
      "cell_type": "code",
      "metadata": {
        "id": "3CqaXCrdLjt3"
      },
      "source": [
        "a = np.array([1,2,3,4, 5], dtype = np.string_)"
      ],
      "execution_count": 92,
      "outputs": []
    },
    {
      "cell_type": "code",
      "metadata": {
        "id": "nDf3h7_DNU7h",
        "outputId": "b0b3ca55-0a8f-4a3d-912d-594ca734f355",
        "colab": {
          "base_uri": "https://localhost:8080/",
          "height": 34
        }
      },
      "source": [
        "a.dtype"
      ],
      "execution_count": 93,
      "outputs": [
        {
          "output_type": "execute_result",
          "data": {
            "text/plain": [
              "dtype('S1')"
            ]
          },
          "metadata": {
            "tags": []
          },
          "execution_count": 93
        }
      ]
    },
    {
      "cell_type": "code",
      "metadata": {
        "id": "fBXbbTi8NWyf"
      },
      "source": [
        "a = np.array([1,2,3,4, 5], dtype = np.float128)"
      ],
      "execution_count": 87,
      "outputs": []
    },
    {
      "cell_type": "code",
      "metadata": {
        "id": "XR8bKKPWNfNh",
        "outputId": "de37a0eb-9724-419a-8ef1-0d5fbb73854f",
        "colab": {
          "base_uri": "https://localhost:8080/",
          "height": 34
        }
      },
      "source": [
        "a.dtype"
      ],
      "execution_count": 88,
      "outputs": [
        {
          "output_type": "execute_result",
          "data": {
            "text/plain": [
              "dtype('float128')"
            ]
          },
          "metadata": {
            "tags": []
          },
          "execution_count": 88
        }
      ]
    },
    {
      "cell_type": "code",
      "metadata": {
        "id": "H-2VxYeXNhRi"
      },
      "source": [
        ""
      ],
      "execution_count": null,
      "outputs": []
    }
  ]
}