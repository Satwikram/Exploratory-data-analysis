{
  "nbformat": 4,
  "nbformat_minor": 0,
  "metadata": {
    "colab": {
      "name": "Numpy.ipynb",
      "provenance": [],
      "collapsed_sections": [],
      "authorship_tag": "ABX9TyMR97I83IIU0l+7WiXxUNgp",
      "include_colab_link": true
    },
    "kernelspec": {
      "name": "python3",
      "display_name": "Python 3"
    },
    "accelerator": "TPU"
  },
  "cells": [
    {
      "cell_type": "markdown",
      "metadata": {
        "id": "view-in-github",
        "colab_type": "text"
      },
      "source": [
        "<a href=\"https://colab.research.google.com/github/Satwikram/Exploratory-data-analysis/blob/master/Numpy/Numpy.ipynb\" target=\"_parent\"><img src=\"https://colab.research.google.com/assets/colab-badge.svg\" alt=\"Open In Colab\"/></a>"
      ]
    },
    {
      "cell_type": "markdown",
      "metadata": {
        "id": "HeQkHllPA1XC"
      },
      "source": [
        "### Author: Satwik Ram K\n"
      ]
    },
    {
      "cell_type": "markdown",
      "metadata": {
        "id": "Ss38EmEGA69X"
      },
      "source": [
        "### Numpy Array"
      ]
    },
    {
      "cell_type": "markdown",
      "metadata": {
        "id": "vgSc8oGUBC7C"
      },
      "source": [
        "Numpy is a Linear Algebra Library used for Multidimensional arrays manipulation.\n",
        "\n",
        "Numpy is best for two things:\n",
        "\n",
        "1. Computational Efficiency\n",
        "2. Easy Syntax"
      ]
    },
    {
      "cell_type": "markdown",
      "metadata": {
        "id": "vGf3AdrYC8I9"
      },
      "source": [
        "### Lets Import numpy"
      ]
    },
    {
      "cell_type": "code",
      "metadata": {
        "id": "WDThwthrDCWT"
      },
      "source": [
        "import numpy as np"
      ],
      "execution_count": 1,
      "outputs": []
    },
    {
      "cell_type": "markdown",
      "metadata": {
        "id": "CUGzLoazBtke"
      },
      "source": [
        "### Lets Define a one-dimensional Array."
      ]
    },
    {
      "cell_type": "markdown",
      "metadata": {
        "id": "74cuNjzXDTgY"
      },
      "source": [
        "Creating List first"
      ]
    },
    {
      "cell_type": "code",
      "metadata": {
        "id": "Wwn6eLoIA6Jx",
        "outputId": "f510ab4b-6bdd-4adf-a058-86c94b3b874e",
        "colab": {
          "base_uri": "https://localhost:8080/",
          "height": 51
        }
      },
      "source": [
        "my_list = [10, 20, 30, 40, 50]\n",
        "print(my_list)\n",
        "print(type(my_list))"
      ],
      "execution_count": 2,
      "outputs": [
        {
          "output_type": "stream",
          "text": [
            "[10, 20, 30, 40, 50]\n",
            "<class 'list'>\n"
          ],
          "name": "stdout"
        }
      ]
    },
    {
      "cell_type": "markdown",
      "metadata": {
        "id": "C6nGd_4EDh-i"
      },
      "source": [
        "Creating Numpy array from List \"my_list\""
      ]
    },
    {
      "cell_type": "code",
      "metadata": {
        "id": "yd42yKEIDPK8",
        "outputId": "c1277093-3c44-4355-b4a2-193361825a51",
        "colab": {
          "base_uri": "https://localhost:8080/",
          "height": 51
        }
      },
      "source": [
        "x = np.array(my_list)\n",
        "print(x)\n",
        "print(type(x))"
      ],
      "execution_count": 3,
      "outputs": [
        {
          "output_type": "stream",
          "text": [
            "[10 20 30 40 50]\n",
            "<class 'numpy.ndarray'>\n"
          ],
          "name": "stdout"
        }
      ]
    },
    {
      "cell_type": "markdown",
      "metadata": {
        "id": "W-TX_GBaEHez"
      },
      "source": [
        "### Multidimensional Array"
      ]
    },
    {
      "cell_type": "markdown",
      "metadata": {
        "id": "H0XqA8iWERL3"
      },
      "source": [
        "Matrix Defination"
      ]
    },
    {
      "cell_type": "code",
      "metadata": {
        "id": "BKplUGhZDz6g"
      },
      "source": [
        "matrix  = np.array([[1,2,3,4], [5,6,7,8]]) #2x4 Matrix"
      ],
      "execution_count": 4,
      "outputs": []
    },
    {
      "cell_type": "code",
      "metadata": {
        "id": "WQOoiCOjEjHk",
        "outputId": "dc7919a5-27db-4809-efcf-8217c755884a",
        "colab": {
          "base_uri": "https://localhost:8080/",
          "height": 51
        }
      },
      "source": [
        "matrix"
      ],
      "execution_count": 5,
      "outputs": [
        {
          "output_type": "execute_result",
          "data": {
            "text/plain": [
              "array([[1, 2, 3, 4],\n",
              "       [5, 6, 7, 8]])"
            ]
          },
          "metadata": {
            "tags": []
          },
          "execution_count": 5
        }
      ]
    },
    {
      "cell_type": "code",
      "metadata": {
        "id": "vxMcT81nElff",
        "outputId": "6a36c729-7012-4e74-af46-6f3f68c3fe33",
        "colab": {
          "base_uri": "https://localhost:8080/",
          "height": 34
        }
      },
      "source": [
        "type(matrix)"
      ],
      "execution_count": 6,
      "outputs": [
        {
          "output_type": "execute_result",
          "data": {
            "text/plain": [
              "numpy.ndarray"
            ]
          },
          "metadata": {
            "tags": []
          },
          "execution_count": 6
        }
      ]
    },
    {
      "cell_type": "markdown",
      "metadata": {
        "id": "FYQfQUQTFLVL"
      },
      "source": [
        "### BUILT-IN Methods and Functions"
      ]
    },
    {
      "cell_type": "markdown",
      "metadata": {
        "id": "Zo51PBqgFYUA"
      },
      "source": [
        "#### Random Function"
      ]
    },
    {
      "cell_type": "markdown",
      "metadata": {
        "id": "sn6XpzkYFmCD"
      },
      "source": [
        "\"rand()\" function produces uniform distrubution between 0 and 1 "
      ]
    },
    {
      "cell_type": "code",
      "metadata": {
        "id": "DiM3speSFFdS"
      },
      "source": [
        "a = np.random.rand(15)"
      ],
      "execution_count": 7,
      "outputs": []
    },
    {
      "cell_type": "code",
      "metadata": {
        "id": "4VYh7h7iGBdU",
        "outputId": "8133b4b3-a54a-46ec-8c93-baee498224bb",
        "colab": {
          "base_uri": "https://localhost:8080/",
          "height": 68
        }
      },
      "source": [
        "a"
      ],
      "execution_count": 13,
      "outputs": [
        {
          "output_type": "execute_result",
          "data": {
            "text/plain": [
              "array([0.76670617, 0.29184321, 0.84617789, 0.00664233, 0.6214295 ,\n",
              "       0.45997333, 0.71438366, 0.38954927, 0.72053228, 0.67507726,\n",
              "       0.63263607, 0.12043625, 0.93076302, 0.08065214, 0.44513995])"
            ]
          },
          "metadata": {
            "tags": []
          },
          "execution_count": 13
        }
      ]
    },
    {
      "cell_type": "markdown",
      "metadata": {
        "id": "L-EcCgb8GRv4"
      },
      "source": [
        "We can Create a Matrix of random number as well\n"
      ]
    },
    {
      "cell_type": "code",
      "metadata": {
        "id": "buxOwrVhGCz4"
      },
      "source": [
        "b = np.random.rand(5,5) #5x5 Matrix"
      ],
      "execution_count": 14,
      "outputs": []
    },
    {
      "cell_type": "code",
      "metadata": {
        "id": "4c0ulLCBGlCH",
        "outputId": "e341d805-8c93-4bda-e94b-1d9233dc6bae",
        "colab": {
          "base_uri": "https://localhost:8080/",
          "height": 102
        }
      },
      "source": [
        "b"
      ],
      "execution_count": 15,
      "outputs": [
        {
          "output_type": "execute_result",
          "data": {
            "text/plain": [
              "array([[0.61465421, 0.89949935, 0.54445627, 0.83475522, 0.84094521],\n",
              "       [0.02656717, 0.8968211 , 0.87311431, 0.06984003, 0.46631699],\n",
              "       [0.38021656, 0.58792104, 0.91436091, 0.44383743, 0.92764413],\n",
              "       [0.24293764, 0.0088111 , 0.7399816 , 0.61978972, 0.4446204 ],\n",
              "       [0.41325547, 0.62626047, 0.68297786, 0.50199111, 0.33275369]])"
            ]
          },
          "metadata": {
            "tags": []
          },
          "execution_count": 15
        }
      ]
    },
    {
      "cell_type": "markdown",
      "metadata": {
        "id": "zjJtovUI8f56"
      },
      "source": [
        "\"randn()\" function produces normal distrubution between 0 and 1"
      ]
    },
    {
      "cell_type": "code",
      "metadata": {
        "id": "8qhh5_cWGmhQ"
      },
      "source": [
        "c = np.random.randn(20)"
      ],
      "execution_count": 20,
      "outputs": []
    },
    {
      "cell_type": "code",
      "metadata": {
        "id": "J3KSmgTEGoxD",
        "outputId": "cc7081b2-6b19-4fff-c2d6-1969149cff01",
        "colab": {
          "base_uri": "https://localhost:8080/",
          "height": 85
        }
      },
      "source": [
        "c"
      ],
      "execution_count": 21,
      "outputs": [
        {
          "output_type": "execute_result",
          "data": {
            "text/plain": [
              "array([ 0.87521362,  0.16257534, -1.53813355,  0.79707714, -0.13244695,\n",
              "        0.50178312, -1.12694521,  0.24951776,  0.69167394, -1.55740735,\n",
              "       -0.73350772, -0.37554334, -0.8868615 ,  0.22029555, -0.34663368,\n",
              "       -1.25051431, -0.86115443,  0.16826923, -0.69036726, -1.06638739])"
            ]
          },
          "metadata": {
            "tags": []
          },
          "execution_count": 21
        }
      ]
    },
    {
      "cell_type": "markdown",
      "metadata": {
        "id": "_ZH-VihH9th7"
      },
      "source": [
        "Lets Visulize the normally distributed data."
      ]
    },
    {
      "cell_type": "code",
      "metadata": {
        "id": "UIdaAp6e85e7",
        "outputId": "d9d13770-89e9-4427-db28-661c6f51574e",
        "colab": {
          "base_uri": "https://localhost:8080/",
          "height": 284
        }
      },
      "source": [
        "import pandas as pd\n",
        "pd.DataFrame(c).plot(kind='density')"
      ],
      "execution_count": 22,
      "outputs": [
        {
          "output_type": "execute_result",
          "data": {
            "text/plain": [
              "<matplotlib.axes._subplots.AxesSubplot at 0x7fce9d3790f0>"
            ]
          },
          "metadata": {
            "tags": []
          },
          "execution_count": 22
        },
        {
          "output_type": "display_data",
          "data": {
            "image/png": "[encoded data removed]",
            "text/plain": [
              "<Figure size 432x288 with 1 Axes>"
            ]
          },
          "metadata": {
            "tags": [],
            "needs_background": "light"
          }
        }
      ]
    },
    {
      "cell_type": "code",
      "metadata": {
        "id": "Leos-omM9ALw",
        "outputId": "f7c5c0db-75ce-4107-f8b6-674e77407cbc",
        "colab": {
          "base_uri": "https://localhost:8080/",
          "height": 51
        }
      },
      "source": [
        "print(c.std())\n",
        "c.mean()"
      ],
      "execution_count": 23,
      "outputs": [
        {
          "output_type": "stream",
          "text": [
            "0.7583118867142187\n"
          ],
          "name": "stdout"
        },
        {
          "output_type": "execute_result",
          "data": {
            "text/plain": [
              "-0.34497484869375944"
            ]
          },
          "metadata": {
            "tags": []
          },
          "execution_count": 23
        }
      ]
    },
    {
      "cell_type": "markdown",
      "metadata": {
        "id": "nAeSl3Ht-zm1"
      },
      "source": [
        "\"randint()\" is used to generate random numbers between upper bound and lower bound"
      ]
    },
    {
      "cell_type": "code",
      "metadata": {
        "id": "w1NBvcti94Tl"
      },
      "source": [
        "d = np.random.randint(1, 10)"
      ],
      "execution_count": 24,
      "outputs": []
    },
    {
      "cell_type": "code",
      "metadata": {
        "id": "GWNI14NE_Cmj",
        "outputId": "015b2095-1acf-4b32-a2d5-36da5246cc4d",
        "colab": {
          "base_uri": "https://localhost:8080/",
          "height": 34
        }
      },
      "source": [
        "print(d)"
      ],
      "execution_count": 27,
      "outputs": [
        {
          "output_type": "stream",
          "text": [
            "6\n"
          ],
          "name": "stdout"
        }
      ]
    },
    {
      "cell_type": "markdown",
      "metadata": {
        "id": "HjuQrDoR_ZgY"
      },
      "source": [
        "\"randint()\" can be used to generate specific random numbers also "
      ]
    },
    {
      "cell_type": "code",
      "metadata": {
        "id": "lHGoAMEK_Dfx"
      },
      "source": [
        "d = np.random.randint(1, 100, 20)"
      ],
      "execution_count": 28,
      "outputs": []
    },
    {
      "cell_type": "code",
      "metadata": {
        "id": "qd_OW7ZZ_mEV",
        "outputId": "356f6d2d-fe58-47ff-a92a-5032a4d1d6a8",
        "colab": {
          "base_uri": "https://localhost:8080/",
          "height": 51
        }
      },
      "source": [
        "print(d)\n",
        "print(type(d))"
      ],
      "execution_count": 29,
      "outputs": [
        {
          "output_type": "stream",
          "text": [
            "[42 72 28 31 44 68 38 61 20 87 38 29 27 33 32 26 15 38 94 47]\n",
            "<class 'numpy.ndarray'>\n"
          ],
          "name": "stdout"
        }
      ]
    },
    {
      "cell_type": "markdown",
      "metadata": {
        "id": "zm3Wm0tV_0gL"
      },
      "source": [
        "### Evenly Spaced Numbers"
      ]
    },
    {
      "cell_type": "markdown",
      "metadata": {
        "id": "HTiV8RnrAGK2"
      },
      "source": [
        "\"arange()\" creates an evelnly spaced values within the interval"
      ]
    },
    {
      "cell_type": "code",
      "metadata": {
        "id": "3mFwEYHa_pPj"
      },
      "source": [
        "a = np.arange(1, 50)"
      ],
      "execution_count": 30,
      "outputs": []
    },
    {
      "cell_type": "code",
      "metadata": {
        "id": "4lVmPErpAQ78",
        "outputId": "92d701d8-ccd5-4de4-f63e-1dba39726df6",
        "colab": {
          "base_uri": "https://localhost:8080/",
          "height": 85
        }
      },
      "source": [
        "print(a)\n",
        "print(type(a))"
      ],
      "execution_count": 31,
      "outputs": [
        {
          "output_type": "stream",
          "text": [
            "[ 1  2  3  4  5  6  7  8  9 10 11 12 13 14 15 16 17 18 19 20 21 22 23 24\n",
            " 25 26 27 28 29 30 31 32 33 34 35 36 37 38 39 40 41 42 43 44 45 46 47 48\n",
            " 49]\n",
            "<class 'numpy.ndarray'>\n"
          ],
          "name": "stdout"
        }
      ]
    },
    {
      "cell_type": "markdown",
      "metadata": {
        "id": "Djdq6BpWAZv3"
      },
      "source": [
        "Creating evenly spaced values with step size"
      ]
    },
    {
      "cell_type": "code",
      "metadata": {
        "id": "ijEwo3w4AT_Y"
      },
      "source": [
        "b = np.arange(1, 50, 5)"
      ],
      "execution_count": 34,
      "outputs": []
    },
    {
      "cell_type": "code",
      "metadata": {
        "id": "7_-gl95VAjkV",
        "outputId": "3806f0d2-fd2b-4e21-ae72-a2f4bc8ecc07",
        "colab": {
          "base_uri": "https://localhost:8080/",
          "height": 51
        }
      },
      "source": [
        "print(b)\n",
        "print(type(b))"
      ],
      "execution_count": 35,
      "outputs": [
        {
          "output_type": "stream",
          "text": [
            "[ 1  6 11 16 21 26 31 36 41 46]\n",
            "<class 'numpy.ndarray'>\n"
          ],
          "name": "stdout"
        }
      ]
    },
    {
      "cell_type": "markdown",
      "metadata": {
        "id": "dVHdvZ7gBFcf"
      },
      "source": [
        "### Creating Diagnoal Matrix"
      ]
    },
    {
      "cell_type": "markdown",
      "metadata": {
        "id": "9Dha41hoBN7g"
      },
      "source": [
        "\"eye()\" creates a diagonal of ones and zeros everywhere else"
      ]
    },
    {
      "cell_type": "code",
      "metadata": {
        "id": "NuaXRThSAmcs"
      },
      "source": [
        "x = np.eye(15) #15*15 Square Matrix!"
      ],
      "execution_count": 37,
      "outputs": []
    },
    {
      "cell_type": "code",
      "metadata": {
        "id": "G7gmMQCKBhhV",
        "outputId": "2a40e542-9ca5-46bd-d7f2-30ea9315a015",
        "colab": {
          "base_uri": "https://localhost:8080/",
          "height": 272
        }
      },
      "source": [
        "x"
      ],
      "execution_count": 38,
      "outputs": [
        {
          "output_type": "execute_result",
          "data": {
            "text/plain": [
              "array([[1., 0., 0., 0., 0., 0., 0., 0., 0., 0., 0., 0., 0., 0., 0.],\n",
              "       [0., 1., 0., 0., 0., 0., 0., 0., 0., 0., 0., 0., 0., 0., 0.],\n",
              "       [0., 0., 1., 0., 0., 0., 0., 0., 0., 0., 0., 0., 0., 0., 0.],\n",
              "       [0., 0., 0., 1., 0., 0., 0., 0., 0., 0., 0., 0., 0., 0., 0.],\n",
              "       [0., 0., 0., 0., 1., 0., 0., 0., 0., 0., 0., 0., 0., 0., 0.],\n",
              "       [0., 0., 0., 0., 0., 1., 0., 0., 0., 0., 0., 0., 0., 0., 0.],\n",
              "       [0., 0., 0., 0., 0., 0., 1., 0., 0., 0., 0., 0., 0., 0., 0.],\n",
              "       [0., 0., 0., 0., 0., 0., 0., 1., 0., 0., 0., 0., 0., 0., 0.],\n",
              "       [0., 0., 0., 0., 0., 0., 0., 0., 1., 0., 0., 0., 0., 0., 0.],\n",
              "       [0., 0., 0., 0., 0., 0., 0., 0., 0., 1., 0., 0., 0., 0., 0.],\n",
              "       [0., 0., 0., 0., 0., 0., 0., 0., 0., 0., 1., 0., 0., 0., 0.],\n",
              "       [0., 0., 0., 0., 0., 0., 0., 0., 0., 0., 0., 1., 0., 0., 0.],\n",
              "       [0., 0., 0., 0., 0., 0., 0., 0., 0., 0., 0., 0., 1., 0., 0.],\n",
              "       [0., 0., 0., 0., 0., 0., 0., 0., 0., 0., 0., 0., 0., 1., 0.],\n",
              "       [0., 0., 0., 0., 0., 0., 0., 0., 0., 0., 0., 0., 0., 0., 1.]])"
            ]
          },
          "metadata": {
            "tags": []
          },
          "execution_count": 38
        }
      ]
    },
    {
      "cell_type": "markdown",
      "metadata": {
        "id": "xhtsWzXtBxXq"
      },
      "source": [
        "### Array of Ones"
      ]
    },
    {
      "cell_type": "code",
      "metadata": {
        "id": "QZYQfZNiBlyE",
        "outputId": "a1252eb0-8e8e-4107-c55e-d3e1f4cf165f",
        "colab": {
          "base_uri": "https://localhost:8080/",
          "height": 34
        }
      },
      "source": [
        "np.ones(10)"
      ],
      "execution_count": 39,
      "outputs": [
        {
          "output_type": "execute_result",
          "data": {
            "text/plain": [
              "array([1., 1., 1., 1., 1., 1., 1., 1., 1., 1.])"
            ]
          },
          "metadata": {
            "tags": []
          },
          "execution_count": 39
        }
      ]
    },
    {
      "cell_type": "markdown",
      "metadata": {
        "id": "Frb3QXUFB9qW"
      },
      "source": [
        "### Matrix of ones"
      ]
    },
    {
      "cell_type": "code",
      "metadata": {
        "id": "ro1gCH19B5IO",
        "outputId": "7b8db704-ea52-4d84-e465-a4dfc3ed9c57",
        "colab": {
          "base_uri": "https://localhost:8080/",
          "height": 102
        }
      },
      "source": [
        "np.ones((5, 5))"
      ],
      "execution_count": 45,
      "outputs": [
        {
          "output_type": "execute_result",
          "data": {
            "text/plain": [
              "array([[1., 1., 1., 1., 1.],\n",
              "       [1., 1., 1., 1., 1.],\n",
              "       [1., 1., 1., 1., 1.],\n",
              "       [1., 1., 1., 1., 1.],\n",
              "       [1., 1., 1., 1., 1.]])"
            ]
          },
          "metadata": {
            "tags": []
          },
          "execution_count": 45
        }
      ]
    },
    {
      "cell_type": "markdown",
      "metadata": {
        "id": "zzfECncQCTt_"
      },
      "source": [
        "### Array of Zeroes"
      ]
    },
    {
      "cell_type": "markdown",
      "metadata": {
        "id": "DNVl2po2CWU4"
      },
      "source": [
        "Same like ones"
      ]
    },
    {
      "cell_type": "code",
      "metadata": {
        "id": "-PYR7KOcCEa_",
        "outputId": "a4917652-ed27-47a6-d07c-ba245b4f72b7",
        "colab": {
          "base_uri": "https://localhost:8080/",
          "height": 34
        }
      },
      "source": [
        "np.zeros(10)"
      ],
      "execution_count": 46,
      "outputs": [
        {
          "output_type": "execute_result",
          "data": {
            "text/plain": [
              "array([0., 0., 0., 0., 0., 0., 0., 0., 0., 0.])"
            ]
          },
          "metadata": {
            "tags": []
          },
          "execution_count": 46
        }
      ]
    },
    {
      "cell_type": "markdown",
      "metadata": {
        "id": "JAFwQIbmDZxs"
      },
      "source": [
        "### SHAPE, LENGTH, TYPE, RESHAPE, AND MAX/MIN VALUES"
      ]
    },
    {
      "cell_type": "markdown",
      "metadata": {
        "id": "CgDh8R_qDvkR"
      },
      "source": [
        "Let's define a one-dimensional array "
      ]
    },
    {
      "cell_type": "code",
      "metadata": {
        "id": "njG_rxMYCcYB",
        "outputId": "44277bb3-e32c-40c7-8c34-629025ffb408",
        "colab": {
          "base_uri": "https://localhost:8080/",
          "height": 51
        }
      },
      "source": [
        "my_list = [10, 20, 30, 40, 50, 60, 70, 80]\n",
        "print(my_list)\n",
        "print(type(my_list))"
      ],
      "execution_count": 59,
      "outputs": [
        {
          "output_type": "stream",
          "text": [
            "[10, 20, 30, 40, 50, 60, 70, 80]\n",
            "<class 'list'>\n"
          ],
          "name": "stdout"
        }
      ]
    },
    {
      "cell_type": "code",
      "metadata": {
        "id": "Jm3OG6HJD-pp"
      },
      "source": [
        "x = np.array(my_list)"
      ],
      "execution_count": 60,
      "outputs": []
    },
    {
      "cell_type": "markdown",
      "metadata": {
        "id": "4_KUYtB8ELN9"
      },
      "source": [
        "Get Length of a numpy array"
      ]
    },
    {
      "cell_type": "code",
      "metadata": {
        "id": "sngylCRYEDte",
        "outputId": "254975b4-9119-4f7a-d824-1c27a3dc157a",
        "colab": {
          "base_uri": "https://localhost:8080/",
          "height": 34
        }
      },
      "source": [
        "len(x)"
      ],
      "execution_count": 61,
      "outputs": [
        {
          "output_type": "execute_result",
          "data": {
            "text/plain": [
              "8"
            ]
          },
          "metadata": {
            "tags": []
          },
          "execution_count": 61
        }
      ]
    },
    {
      "cell_type": "markdown",
      "metadata": {
        "id": "1QJjXLOpES9P"
      },
      "source": [
        "Get Shape"
      ]
    },
    {
      "cell_type": "code",
      "metadata": {
        "id": "Q4zfxmhMEPRi",
        "outputId": "f1d21a5c-3b89-4048-e8cb-cb8d0f1951fc",
        "colab": {
          "base_uri": "https://localhost:8080/",
          "height": 34
        }
      },
      "source": [
        "x.shape"
      ],
      "execution_count": 62,
      "outputs": [
        {
          "output_type": "execute_result",
          "data": {
            "text/plain": [
              "(8,)"
            ]
          },
          "metadata": {
            "tags": []
          },
          "execution_count": 62
        }
      ]
    },
    {
      "cell_type": "markdown",
      "metadata": {
        "id": "oEH_V1eZEdF8"
      },
      "source": [
        "Obtain the Datatype"
      ]
    },
    {
      "cell_type": "code",
      "metadata": {
        "id": "Lk-2BA4eEYS7",
        "outputId": "91eb3f42-4b14-42ae-97e4-887d6d7b6105",
        "colab": {
          "base_uri": "https://localhost:8080/",
          "height": 34
        }
      },
      "source": [
        "x.dtype"
      ],
      "execution_count": 63,
      "outputs": [
        {
          "output_type": "execute_result",
          "data": {
            "text/plain": [
              "dtype('int64')"
            ]
          },
          "metadata": {
            "tags": []
          },
          "execution_count": 63
        }
      ]
    },
    {
      "cell_type": "code",
      "metadata": {
        "id": "w61fmA5WEgQ3",
        "outputId": "65079f39-6363-4b58-8a40-6854834eff6a",
        "colab": {
          "base_uri": "https://localhost:8080/",
          "height": 34
        }
      },
      "source": [
        "x[0].dtype"
      ],
      "execution_count": 64,
      "outputs": [
        {
          "output_type": "execute_result",
          "data": {
            "text/plain": [
              "dtype('int64')"
            ]
          },
          "metadata": {
            "tags": []
          },
          "execution_count": 64
        }
      ]
    },
    {
      "cell_type": "markdown",
      "metadata": {
        "id": "XEZo7phYErU4"
      },
      "source": [
        "Reshaping 1D Array into Matrix"
      ]
    },
    {
      "cell_type": "code",
      "metadata": {
        "id": "v8zxJkbzEjfq"
      },
      "source": [
        "z = np.reshape(x, (2,4))"
      ],
      "execution_count": 65,
      "outputs": []
    },
    {
      "cell_type": "code",
      "metadata": {
        "id": "uKgESSfZE4pH",
        "outputId": "ab91c5f3-d3a2-42e4-e9e7-d58129a46ad1",
        "colab": {
          "base_uri": "https://localhost:8080/",
          "height": 51
        }
      },
      "source": [
        "z"
      ],
      "execution_count": 66,
      "outputs": [
        {
          "output_type": "execute_result",
          "data": {
            "text/plain": [
              "array([[10, 20, 30, 40],\n",
              "       [50, 60, 70, 80]])"
            ]
          },
          "metadata": {
            "tags": []
          },
          "execution_count": 66
        }
      ]
    },
    {
      "cell_type": "markdown",
      "metadata": {
        "id": "pUGUHVrHFXYI"
      },
      "source": [
        "Obtain Max and Min Value"
      ]
    },
    {
      "cell_type": "code",
      "metadata": {
        "id": "2ynjpdoQE76Q",
        "outputId": "76493bb0-57a3-47e8-9948-112e40af9d99",
        "colab": {
          "base_uri": "https://localhost:8080/",
          "height": 51
        }
      },
      "source": [
        "print(x.max())\n",
        "print(x.min())"
      ],
      "execution_count": 70,
      "outputs": [
        {
          "output_type": "stream",
          "text": [
            "80\n",
            "10\n"
          ],
          "name": "stdout"
        }
      ]
    },
    {
      "cell_type": "markdown",
      "metadata": {
        "id": "FJAoNB3QFusM"
      },
      "source": [
        "Obtain the location of the Max and Min"
      ]
    },
    {
      "cell_type": "code",
      "metadata": {
        "id": "TRC9KZQ2Fbjc"
      },
      "source": [
        "classes = np.array([1, 2, 3, 4, 5])"
      ],
      "execution_count": 81,
      "outputs": []
    },
    {
      "cell_type": "code",
      "metadata": {
        "id": "f_nyCApUGLcW"
      },
      "source": [
        "prediction = np.array([-0.111, -0.1, -0.9988, -.7848, -0.9998])"
      ],
      "execution_count": 82,
      "outputs": []
    },
    {
      "cell_type": "code",
      "metadata": {
        "id": "3UJiqM7KGb75",
        "outputId": "1c89d6d8-45fd-4a17-e91a-56dee9561bc7",
        "colab": {
          "base_uri": "https://localhost:8080/",
          "height": 34
        }
      },
      "source": [
        "np.argmax(prediction)"
      ],
      "execution_count": 83,
      "outputs": [
        {
          "output_type": "execute_result",
          "data": {
            "text/plain": [
              "1"
            ]
          },
          "metadata": {
            "tags": []
          },
          "execution_count": 83
        }
      ]
    },
    {
      "cell_type": "code",
      "metadata": {
        "id": "YOAcptIgGf1s",
        "outputId": "ef2dc1f2-a6cc-4aa2-9ad5-83bd5ea07049",
        "colab": {
          "base_uri": "https://localhost:8080/",
          "height": 34
        }
      },
      "source": [
        "classes[np.argmax(prediction)]"
      ],
      "execution_count": 84,
      "outputs": [
        {
          "output_type": "execute_result",
          "data": {
            "text/plain": [
              "2"
            ]
          },
          "metadata": {
            "tags": []
          },
          "execution_count": 84
        }
      ]
    },
    {
      "cell_type": "code",
      "metadata": {
        "id": "9s5RcGSIGoWA",
        "outputId": "1fe9aae6-34ef-45ba-e46b-ed1365548575",
        "colab": {
          "base_uri": "https://localhost:8080/",
          "height": 34
        }
      },
      "source": [
        "np.argmin(prediction)"
      ],
      "execution_count": 85,
      "outputs": [
        {
          "output_type": "execute_result",
          "data": {
            "text/plain": [
              "4"
            ]
          },
          "metadata": {
            "tags": []
          },
          "execution_count": 85
        }
      ]
    },
    {
      "cell_type": "markdown",
      "metadata": {
        "id": "wVIffGmrHeyV"
      },
      "source": [
        "### Mathematical Operations"
      ]
    },
    {
      "cell_type": "code",
      "metadata": {
        "id": "y8YKygHoHAXm",
        "outputId": "d22caef9-9765-4199-c702-0630258c8b97",
        "colab": {
          "base_uri": "https://localhost:8080/",
          "height": 34
        }
      },
      "source": [
        "x = np.arange(1, 10)\n",
        "x"
      ],
      "execution_count": 87,
      "outputs": [
        {
          "output_type": "execute_result",
          "data": {
            "text/plain": [
              "array([1, 2, 3, 4, 5, 6, 7, 8, 9])"
            ]
          },
          "metadata": {
            "tags": []
          },
          "execution_count": 87
        }
      ]
    },
    {
      "cell_type": "code",
      "metadata": {
        "id": "atZBq6abHrZ9",
        "outputId": "09eead82-fce4-4057-bdbf-b44731f0406a",
        "colab": {
          "base_uri": "https://localhost:8080/",
          "height": 34
        }
      },
      "source": [
        "y = np.arange(1, 10)\n",
        "y"
      ],
      "execution_count": 89,
      "outputs": [
        {
          "output_type": "execute_result",
          "data": {
            "text/plain": [
              "array([1, 2, 3, 4, 5, 6, 7, 8, 9])"
            ]
          },
          "metadata": {
            "tags": []
          },
          "execution_count": 89
        }
      ]
    },
    {
      "cell_type": "markdown",
      "metadata": {
        "id": "_nL63GQZH2Fu"
      },
      "source": [
        "Adding Two Numpy Arrays"
      ]
    },
    {
      "cell_type": "code",
      "metadata": {
        "id": "14MQlA-3Hvs1",
        "outputId": "84401006-11a3-4cfa-d942-3c7982ebfce6",
        "colab": {
          "base_uri": "https://localhost:8080/",
          "height": 34
        }
      },
      "source": [
        "sum = x + y\n",
        "sum"
      ],
      "execution_count": 90,
      "outputs": [
        {
          "output_type": "execute_result",
          "data": {
            "text/plain": [
              "array([ 2,  4,  6,  8, 10, 12, 14, 16, 18])"
            ]
          },
          "metadata": {
            "tags": []
          },
          "execution_count": 90
        }
      ]
    },
    {
      "cell_type": "markdown",
      "metadata": {
        "id": "UYb8bXe8IDGt"
      },
      "source": [
        "Squaring"
      ]
    },
    {
      "cell_type": "code",
      "metadata": {
        "id": "RekqkTt4H7JL",
        "outputId": "f0fa25c8-b2e2-4040-cd9f-b7c0bf41f7f7",
        "colab": {
          "base_uri": "https://localhost:8080/",
          "height": 34
        }
      },
      "source": [
        "squared = x**2\n",
        "squared"
      ],
      "execution_count": 93,
      "outputs": [
        {
          "output_type": "execute_result",
          "data": {
            "text/plain": [
              "array([ 1,  4,  9, 16, 25, 36, 49, 64, 81])"
            ]
          },
          "metadata": {
            "tags": []
          },
          "execution_count": 93
        }
      ]
    },
    {
      "cell_type": "markdown",
      "metadata": {
        "id": "T6vSm_ksITWe"
      },
      "source": [
        "Square Roor"
      ]
    },
    {
      "cell_type": "code",
      "metadata": {
        "id": "hjA7nYN-IHCE",
        "outputId": "f9855343-581a-4a1f-9ada-5117a5b12fde",
        "colab": {
          "base_uri": "https://localhost:8080/",
          "height": 34
        }
      },
      "source": [
        "sqrt = np.sqrt(squared)\n",
        "sqrt"
      ],
      "execution_count": 95,
      "outputs": [
        {
          "output_type": "execute_result",
          "data": {
            "text/plain": [
              "array([1., 2., 3., 4., 5., 6., 7., 8., 9.])"
            ]
          },
          "metadata": {
            "tags": []
          },
          "execution_count": 95
        }
      ]
    },
    {
      "cell_type": "markdown",
      "metadata": {
        "id": "DviLW2aEIoil"
      },
      "source": [
        "Exponential"
      ]
    },
    {
      "cell_type": "code",
      "metadata": {
        "id": "8zSKGx-UIXrY",
        "outputId": "9d8b4890-979a-4c14-eb73-c060237b36f2",
        "colab": {
          "base_uri": "https://localhost:8080/",
          "height": 68
        }
      },
      "source": [
        "exp = np.exp(y)\n",
        "exp"
      ],
      "execution_count": 97,
      "outputs": [
        {
          "output_type": "execute_result",
          "data": {
            "text/plain": [
              "array([2.71828183e+00, 7.38905610e+00, 2.00855369e+01, 5.45981500e+01,\n",
              "       1.48413159e+02, 4.03428793e+02, 1.09663316e+03, 2.98095799e+03,\n",
              "       8.10308393e+03])"
            ]
          },
          "metadata": {
            "tags": []
          },
          "execution_count": 97
        }
      ]
    },
    {
      "cell_type": "code",
      "metadata": {
        "id": "naPQpABoItM2"
      },
      "source": [
        ""
      ],
      "execution_count": null,
      "outputs": []
    }
  ]
}