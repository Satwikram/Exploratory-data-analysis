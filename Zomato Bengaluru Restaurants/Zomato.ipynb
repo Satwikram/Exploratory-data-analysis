{
  "nbformat": 4,
  "nbformat_minor": 0,
  "metadata": {
    "colab": {
      "name": "Zomato.ipynb",
      "provenance": [],
      "toc_visible": true,
      "authorship_tag": "ABX9TyMMi8D/KXbOjj2Pya5bN0hL",
      "include_colab_link": true
    },
    "kernelspec": {
      "name": "python3",
      "display_name": "Python 3"
    },
    "accelerator": "TPU"
  },
  "cells": [
    {
      "cell_type": "markdown",
      "metadata": {
        "id": "view-in-github",
        "colab_type": "text"
      },
      "source": [
        "<a href=\"https://colab.research.google.com/github/Satwikram/Exploratory-data-analysis/blob/master/Zomato%20Bengaluru%20Restaurants/Zomato.ipynb\" target=\"_parent\"><img src=\"https://colab.research.google.com/assets/colab-badge.svg\" alt=\"Open In Colab\"/></a>"
      ]
    },
    {
      "cell_type": "markdown",
      "metadata": {
        "id": "l1aLtUSKk-RO"
      },
      "source": [
        "### Author: Satwik Ram K"
      ]
    },
    {
      "cell_type": "markdown",
      "metadata": {
        "id": "VaSkIlgFlCe0"
      },
      "source": [
        "Zomato Bengaluru Resturant Dataset"
      ]
    },
    {
      "cell_type": "markdown",
      "metadata": {
        "id": "IGT949VjlHfA"
      },
      "source": [
        "### Connecting to Kaggle"
      ]
    },
    {
      "cell_type": "code",
      "metadata": {
        "id": "2eglZaj9ktcq",
        "outputId": "88a46e52-a9d9-400a-b96e-52bb1c700d5d",
        "colab": {
          "resources": {
            "http://localhost:8080/nbextensions/google.colab/files.js": {
              "data": "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",
              "ok": true,
              "headers": [
                [
                  "content-type",
                  "application/javascript"
                ]
              ],
              "status": 200,
              "status_text": ""
            }
          },
          "base_uri": "https://localhost:8080/",
          "height": 72
        }
      },
      "source": [
        "from google.colab import files\n",
        "\n",
        "files.upload()\n",
        "\n",
        "\n",
        "! mkdir ~/.kaggle\n",
        "\n",
        "\n",
        "! cp kaggle.json ~/.kaggle/\n",
        "\n",
        "! chmod 600 ~/.kaggle/kaggle.json"
      ],
      "execution_count": 1,
      "outputs": [
        {
          "output_type": "display_data",
          "data": {
            "text/html": [
              "\n",
              "     <input type=\"file\" id=\"files-d0097c49-6c24-48a8-8124-888291214e3f\" name=\"files[]\" multiple disabled\n",
              "        style=\"border:none\" />\n",
              "     <output id=\"result-d0097c49-6c24-48a8-8124-888291214e3f\">\n",
              "      Upload widget is only available when the cell has been executed in the\n",
              "      current browser session. Please rerun this cell to enable.\n",
              "      </output>\n",
              "      <script src=\"/nbextensions/google.colab/files.js\"></script> "
            ],
            "text/plain": [
              "<IPython.core.display.HTML object>"
            ]
          },
          "metadata": {
            "tags": []
          }
        },
        {
          "output_type": "stream",
          "text": [
            "Saving kaggle.json to kaggle.json\n"
          ],
          "name": "stdout"
        }
      ]
    },
    {
      "cell_type": "markdown",
      "metadata": {
        "id": "b0gxfRHVlW2o"
      },
      "source": [
        "### Downloading Dataset from Kaggle"
      ]
    },
    {
      "cell_type": "code",
      "metadata": {
        "id": "W1wZIcwRlLr6",
        "outputId": "61fde6c7-8b2a-4c4f-cdec-a8677e4fc399",
        "colab": {
          "base_uri": "https://localhost:8080/"
        }
      },
      "source": [
        "! kaggle datasets download -d himanshupoddar/zomato-bangalore-restaurants"
      ],
      "execution_count": 2,
      "outputs": [
        {
          "output_type": "stream",
          "text": [
            "Downloading zomato-bangalore-restaurants.zip to /content\n",
            " 91% 81.0M/89.0M [00:00<00:00, 88.2MB/s]\n",
            "100% 89.0M/89.0M [00:00<00:00, 120MB/s] \n"
          ],
          "name": "stdout"
        }
      ]
    },
    {
      "cell_type": "code",
      "metadata": {
        "id": "VFAObUBblV3E",
        "outputId": "f89c2cc4-a88c-44ae-d634-6167d5bc63ef",
        "colab": {
          "base_uri": "https://localhost:8080/"
        }
      },
      "source": [
        "! unzip /content/zomato-bangalore-restaurants.zip"
      ],
      "execution_count": 3,
      "outputs": [
        {
          "output_type": "stream",
          "text": [
            "Archive:  /content/zomato-bangalore-restaurants.zip\n",
            "  inflating: zomato.csv              \n"
          ],
          "name": "stdout"
        }
      ]
    },
    {
      "cell_type": "markdown",
      "metadata": {
        "id": "nMdjKr0sllYu"
      },
      "source": [
        "### Importing Dependencies"
      ]
    },
    {
      "cell_type": "code",
      "metadata": {
        "id": "FdpD6GfMloQz"
      },
      "source": [
        "import numpy as np\n",
        "import pandas as pd\n",
        "import matplotlib.pyplot as plt\n",
        "import seaborn as sns"
      ],
      "execution_count": 4,
      "outputs": []
    },
    {
      "cell_type": "markdown",
      "metadata": {
        "id": "rYQskF5lrnLA"
      },
      "source": [
        "### Context"
      ]
    },
    {
      "cell_type": "markdown",
      "metadata": {
        "id": "ENJY4II4rR8M"
      },
      "source": [
        "The basic idea of analyzing the Zomato dataset is to get a fair idea about the factors affecting the establishment\n",
        "of different types of restaurant at different places in Bengaluru, aggregate rating of each restaurant, Bengaluru\n",
        "being one such city has more than 12,000 restaurants with restaurants serving dishes from all over the world.\n",
        "With each day new restaurants opening the industry has’nt been saturated yet and the demand is increasing\n",
        "day by day. Inspite of increasing demand it however has become difficult for new restaurants to compete with\n",
        "established restaurants. Most of them serving the same food. Bengaluru being an IT capital of India. Most of\n",
        "the people here are dependent mainly on the restaurant food as they don’t have time to cook for themselves.\n",
        "With such an overwhelming demand of restaurants it has therefore become important to study the demography\n",
        "of a location. What kind of a food is more popular in a locality. Do the entire locality loves vegetarian food.\n",
        "If yes then is that locality populated by a particular sect of people for eg. Jain, Marwaris, Gujaratis who are\n",
        "mostly vegetarian. These kind of analysis can be done using the data, by studying the factors such as\n",
        "• Location of the restaurant\n",
        "\n",
        "• Approx Price of food\n",
        "\n",
        "• Theme based restaurant or not\n",
        "\n",
        "• Which locality of that city serves that cuisines with maximum number of restaurants\n",
        "\n",
        "• The needs of people who are striving to get the best cuisine of the neighborhood\n",
        "\n",
        "• Is a particular neighborhood famous for its own kind of food.\n",
        "\n",
        "“Just so that you have a good meal the next time you step out”\n",
        "\n",
        "The data is accurate to that available on the zomato website until 15 March 2019.\n",
        "\n",
        "The data was scraped from Zomato in two phase. After going through the structure of the website I found that for each neighborhood there are 6-7 category of restaurants viz. Buffet, Cafes, Delivery, Desserts, Dine-out, Drinks & nightlife, Pubs and bars.\n",
        "\n",
        "Phase I,\n",
        "\n",
        "In Phase I of extraction only the URL, name and address of the restaurant were extracted which were visible on the front page. The URl's for each of the restaurants on the zomato were recorded in the csv file so that later the data can be extracted individually for each restaurant. This made the extraction process easier and reduced the extra load on my machine. The data for each neighborhood and each category can be found here\n",
        "\n",
        "Phase II,\n",
        "\n",
        "In Phase II the recorded data for each restaurant and each category was read and data for each restaurant was scraped individually. 15 variables were scraped in this phase. For each of the neighborhood and for each category their onlineorder, booktable, rate, votes, phone, location, resttype, dishliked, cuisines, approxcost(for two people), reviewslist, menu_item was extracted. See section 5 for more details about the variables"
      ]
    },
    {
      "cell_type": "markdown",
      "metadata": {
        "id": "LcVvv5RIlhO5"
      },
      "source": [
        "### Loading Dataset"
      ]
    },
    {
      "cell_type": "code",
      "metadata": {
        "id": "L4yXb-7Elc0E"
      },
      "source": [
        "dataset = pd.read_csv('/content/zomato.csv')"
      ],
      "execution_count": 5,
      "outputs": []
    },
    {
      "cell_type": "code",
      "metadata": {
        "id": "ySkqBYEYl84_",
        "outputId": "b21244a0-00f6-4fbf-d24b-427539b8d12c",
        "colab": {
          "base_uri": "https://localhost:8080/",
          "height": 598
        }
      },
      "source": [
        "dataset.head()"
      ],
      "execution_count": 6,
      "outputs": [
        {
          "output_type": "execute_result",
          "data": {
            "text/html": [
              "<div>\n",
              "<style scoped>\n",
              "    .dataframe tbody tr th:only-of-type {\n",
              "        vertical-align: middle;\n",
              "    }\n",
              "\n",
              "    .dataframe tbody tr th {\n",
              "        vertical-align: top;\n",
              "    }\n",
              "\n",
              "    .dataframe thead th {\n",
              "        text-align: right;\n",
              "    }\n",
              "</style>\n",
              "<table border=\"1\" class=\"dataframe\">\n",
              "  <thead>\n",
              "    <tr style=\"text-align: right;\">\n",
              "      <th></th>\n",
              "      <th>url</th>\n",
              "      <th>address</th>\n",
              "      <th>name</th>\n",
              "      <th>online_order</th>\n",
              "      <th>book_table</th>\n",
              "      <th>rate</th>\n",
              "      <th>votes</th>\n",
              "      <th>phone</th>\n",
              "      <th>location</th>\n",
              "      <th>rest_type</th>\n",
              "      <th>dish_liked</th>\n",
              "      <th>cuisines</th>\n",
              "      <th>approx_cost(for two people)</th>\n",
              "      <th>reviews_list</th>\n",
              "      <th>menu_item</th>\n",
              "      <th>listed_in(type)</th>\n",
              "      <th>listed_in(city)</th>\n",
              "    </tr>\n",
              "  </thead>\n",
              "  <tbody>\n",
              "    <tr>\n",
              "      <th>0</th>\n",
              "      <td>https://www.zomato.com/bangalore/jalsa-banasha...</td>\n",
              "      <td>942, 21st Main Road, 2nd Stage, Banashankari, ...</td>\n",
              "      <td>Jalsa</td>\n",
              "      <td>Yes</td>\n",
              "      <td>Yes</td>\n",
              "      <td>4.1/5</td>\n",
              "      <td>775</td>\n",
              "      <td>080 42297555\\r\\n+91 9743772233</td>\n",
              "      <td>Banashankari</td>\n",
              "      <td>Casual Dining</td>\n",
              "      <td>Pasta, Lunch Buffet, Masala Papad, Paneer Laja...</td>\n",
              "      <td>North Indian, Mughlai, Chinese</td>\n",
              "      <td>800</td>\n",
              "      <td>[('Rated 4.0', 'RATED\\n  A beautiful place to ...</td>\n",
              "      <td>[]</td>\n",
              "      <td>Buffet</td>\n",
              "      <td>Banashankari</td>\n",
              "    </tr>\n",
              "    <tr>\n",
              "      <th>1</th>\n",
              "      <td>https://www.zomato.com/bangalore/spice-elephan...</td>\n",
              "      <td>2nd Floor, 80 Feet Road, Near Big Bazaar, 6th ...</td>\n",
              "      <td>Spice Elephant</td>\n",
              "      <td>Yes</td>\n",
              "      <td>No</td>\n",
              "      <td>4.1/5</td>\n",
              "      <td>787</td>\n",
              "      <td>080 41714161</td>\n",
              "      <td>Banashankari</td>\n",
              "      <td>Casual Dining</td>\n",
              "      <td>Momos, Lunch Buffet, Chocolate Nirvana, Thai G...</td>\n",
              "      <td>Chinese, North Indian, Thai</td>\n",
              "      <td>800</td>\n",
              "      <td>[('Rated 4.0', 'RATED\\n  Had been here for din...</td>\n",
              "      <td>[]</td>\n",
              "      <td>Buffet</td>\n",
              "      <td>Banashankari</td>\n",
              "    </tr>\n",
              "    <tr>\n",
              "      <th>2</th>\n",
              "      <td>https://www.zomato.com/SanchurroBangalore?cont...</td>\n",
              "      <td>1112, Next to KIMS Medical College, 17th Cross...</td>\n",
              "      <td>San Churro Cafe</td>\n",
              "      <td>Yes</td>\n",
              "      <td>No</td>\n",
              "      <td>3.8/5</td>\n",
              "      <td>918</td>\n",
              "      <td>+91 9663487993</td>\n",
              "      <td>Banashankari</td>\n",
              "      <td>Cafe, Casual Dining</td>\n",
              "      <td>Churros, Cannelloni, Minestrone Soup, Hot Choc...</td>\n",
              "      <td>Cafe, Mexican, Italian</td>\n",
              "      <td>800</td>\n",
              "      <td>[('Rated 3.0', \"RATED\\n  Ambience is not that ...</td>\n",
              "      <td>[]</td>\n",
              "      <td>Buffet</td>\n",
              "      <td>Banashankari</td>\n",
              "    </tr>\n",
              "    <tr>\n",
              "      <th>3</th>\n",
              "      <td>https://www.zomato.com/bangalore/addhuri-udupi...</td>\n",
              "      <td>1st Floor, Annakuteera, 3rd Stage, Banashankar...</td>\n",
              "      <td>Addhuri Udupi Bhojana</td>\n",
              "      <td>No</td>\n",
              "      <td>No</td>\n",
              "      <td>3.7/5</td>\n",
              "      <td>88</td>\n",
              "      <td>+91 9620009302</td>\n",
              "      <td>Banashankari</td>\n",
              "      <td>Quick Bites</td>\n",
              "      <td>Masala Dosa</td>\n",
              "      <td>South Indian, North Indian</td>\n",
              "      <td>300</td>\n",
              "      <td>[('Rated 4.0', \"RATED\\n  Great food and proper...</td>\n",
              "      <td>[]</td>\n",
              "      <td>Buffet</td>\n",
              "      <td>Banashankari</td>\n",
              "    </tr>\n",
              "    <tr>\n",
              "      <th>4</th>\n",
              "      <td>https://www.zomato.com/bangalore/grand-village...</td>\n",
              "      <td>10, 3rd Floor, Lakshmi Associates, Gandhi Baza...</td>\n",
              "      <td>Grand Village</td>\n",
              "      <td>No</td>\n",
              "      <td>No</td>\n",
              "      <td>3.8/5</td>\n",
              "      <td>166</td>\n",
              "      <td>+91 8026612447\\r\\n+91 9901210005</td>\n",
              "      <td>Basavanagudi</td>\n",
              "      <td>Casual Dining</td>\n",
              "      <td>Panipuri, Gol Gappe</td>\n",
              "      <td>North Indian, Rajasthani</td>\n",
              "      <td>600</td>\n",
              "      <td>[('Rated 4.0', 'RATED\\n  Very good restaurant ...</td>\n",
              "      <td>[]</td>\n",
              "      <td>Buffet</td>\n",
              "      <td>Banashankari</td>\n",
              "    </tr>\n",
              "  </tbody>\n",
              "</table>\n",
              "</div>"
            ],
            "text/plain": [
              "                                                 url  ... listed_in(city)\n",
              "0  https://www.zomato.com/bangalore/jalsa-banasha...  ...    Banashankari\n",
              "1  https://www.zomato.com/bangalore/spice-elephan...  ...    Banashankari\n",
              "2  https://www.zomato.com/SanchurroBangalore?cont...  ...    Banashankari\n",
              "3  https://www.zomato.com/bangalore/addhuri-udupi...  ...    Banashankari\n",
              "4  https://www.zomato.com/bangalore/grand-village...  ...    Banashankari\n",
              "\n",
              "[5 rows x 17 columns]"
            ]
          },
          "metadata": {
            "tags": []
          },
          "execution_count": 6
        }
      ]
    },
    {
      "cell_type": "markdown",
      "metadata": {
        "id": "n6zXSKikvNGM"
      },
      "source": [
        "### Getting Real Info"
      ]
    },
    {
      "cell_type": "code",
      "metadata": {
        "id": "Zg2A8QncnCE8",
        "outputId": "c11d47b2-ef7f-4d22-fdbb-fe7914f30f85",
        "colab": {
          "base_uri": "https://localhost:8080/"
        }
      },
      "source": [
        "dataset.info()"
      ],
      "execution_count": 7,
      "outputs": [
        {
          "output_type": "stream",
          "text": [
            "<class 'pandas.core.frame.DataFrame'>\n",
            "RangeIndex: 51717 entries, 0 to 51716\n",
            "Data columns (total 17 columns):\n",
            " #   Column                       Non-Null Count  Dtype \n",
            "---  ------                       --------------  ----- \n",
            " 0   url                          51717 non-null  object\n",
            " 1   address                      51717 non-null  object\n",
            " 2   name                         51717 non-null  object\n",
            " 3   online_order                 51717 non-null  object\n",
            " 4   book_table                   51717 non-null  object\n",
            " 5   rate                         43942 non-null  object\n",
            " 6   votes                        51717 non-null  int64 \n",
            " 7   phone                        50509 non-null  object\n",
            " 8   location                     51696 non-null  object\n",
            " 9   rest_type                    51490 non-null  object\n",
            " 10  dish_liked                   23639 non-null  object\n",
            " 11  cuisines                     51672 non-null  object\n",
            " 12  approx_cost(for two people)  51371 non-null  object\n",
            " 13  reviews_list                 51717 non-null  object\n",
            " 14  menu_item                    51717 non-null  object\n",
            " 15  listed_in(type)              51717 non-null  object\n",
            " 16  listed_in(city)              51717 non-null  object\n",
            "dtypes: int64(1), object(16)\n",
            "memory usage: 6.7+ MB\n"
          ],
          "name": "stdout"
        }
      ]
    },
    {
      "cell_type": "markdown",
      "metadata": {
        "id": "oVaxEmjowr2e"
      },
      "source": [
        "### Dropping Unwanted Columns"
      ]
    },
    {
      "cell_type": "code",
      "metadata": {
        "id": "3Odno8r407DL",
        "outputId": "1fa7f22a-08d7-4857-d7b6-3a6e2515f114",
        "colab": {
          "base_uri": "https://localhost:8080/"
        }
      },
      "source": [
        "dataset['dish_liked'].unique()"
      ],
      "execution_count": 8,
      "outputs": [
        {
          "output_type": "execute_result",
          "data": {
            "text/plain": [
              "array(['Pasta, Lunch Buffet, Masala Papad, Paneer Lajawab, Tomato Shorba, Dum Biryani, Sweet Corn Soup',\n",
              "       'Momos, Lunch Buffet, Chocolate Nirvana, Thai Green Curry, Paneer Tikka, Dum Biryani, Chicken Biryani',\n",
              "       'Churros, Cannelloni, Minestrone Soup, Hot Chocolate, Pink Sauce Pasta, Salsa, Veg Supreme Pizza',\n",
              "       ...,\n",
              "       'Noodles, Chicken Noodle, Momos, American Chopsuey, Salad, Manchow Soup, Manchurian',\n",
              "       'Chicken Quesadilla, Naan, Breakfast Buffet, Cheesecake, Cocktails, Lunch Buffet, Biryani',\n",
              "       'Biryani, Andhra Meal'], dtype=object)"
            ]
          },
          "metadata": {
            "tags": []
          },
          "execution_count": 8
        }
      ]
    },
    {
      "cell_type": "code",
      "metadata": {
        "id": "vIIPLgeM0WJF",
        "outputId": "a9abdacb-e981-4d51-a3e4-2da3f514c7e3",
        "colab": {
          "base_uri": "https://localhost:8080/"
        }
      },
      "source": [
        "dataset['menu_item'].unique()"
      ],
      "execution_count": 9,
      "outputs": [
        {
          "output_type": "execute_result",
          "data": {
            "text/plain": [
              "array(['[]',\n",
              "       \"['Chocolate Fantasy (Pack Of 5)', 'Pan Cake (Pack Of 6)', 'Gulab Jamun (Pack Of 10)', 'Gulkand Shot (Pack Of 5)', 'Chocolate Decadence (Pack of 2)', 'CheeseCake (Pack Of 2)', 'Red Velvet Slice Cake (Pack of 2)', 'Red Velvet Slice Cake & Cheese Cake (Pack of 2)', 'Red Velvet Slice Cake & Chocolate Decadence Cake (Pack of 2)', 'Hazelnut Brownie (Pack of 2)', 'Moments', 'Red Velvet Cake With Butter Cream Frosting (750 Gm)', 'Red Velvet Slice Cake (Pack of 2)', 'Red Velvet Slice Cake & Cheese Cake (Pack of 2)', 'Red Velvet Slice Cake & Chocolate Decadence Cake (Pack of 2)', 'Red Velvet Slice Cake (Pack of 1)', 'Valentine Red Velvet Jar', 'Valentine Chocolate Jar', 'Valentines Jar Combo', 'Pink Guava 500 ML', 'Oreo Vanilla 500 ML', 'Cookie Crumble 500 ML', 'Chocolate Fantasy', 'Gulkand-E-Bahar', 'Pan Cake', 'Hazelnut Brownie (Pack Of 1)', 'Gulab Jamun (Pack Of 2)', 'Plum Cake', 'Red Velvet Cake With Butter Cream Frosting (750 Gm)', 'Chocolate Mud Cake (700 Gms)', 'CheeseCake (Pack of 1)', 'Chocolate Decadence (Pack of 1)', 'Red Velvet Slice Cake (Pack of 1)']\",\n",
              "       \"['Chole Kulcha Meal', 'Upvas Aloo Paratha With Dahi', 'Singhada Aloo Paratha with Hare Tamatar Ki Sabji', 'Smoked Butter Chicken Combo', 'Paneer Methi Chaman Combo', 'Mutton Bhuna Combo', 'Rajma Masala Meal', 'Dal Makhani Veg Starter Combo', 'Dal Makhani Non-Veg Starter Combo', 'Malai Kofta Combo', 'Jumbo Chicken Wrap', 'Jumbo Veg Wrap', 'Jumbo Falafel Salsa Wrap', 'Chicken Overload Jumbo Wrap', 'Veg Pizza Wrap', 'Chicken Pizza Wrap', 'Mexican Potato Salsa Wrap', 'American Smokey Sausage Wrap', 'Makhani Falafel Wrap', 'Mutton Overload Wrap', 'Mac & Cheese Chicken Wrap', 'Mac & Cheese Veg Wrap', 'Barbeque Chicken Wrap', 'Mutton Boti Wrap', 'Masala Paneer Tikka Wrap', 'Fiery Paneer Tikka Wrap', 'Masala Chicken Tikka Wrap', 'Cheesy Corn Salsa Wrap', 'Chicken Mayo Wrap', 'Cheese Melt Chicken Wrap', 'Cheese Melt Paneer Wrap', 'Double Cheese Meatball Wrap', 'Reshmi Chicken Kebab Wrap', 'Egg Cheese Sausage Wrap', 'Double Egg Chatpata Wrap', 'Cheesy Potato Wrap', 'Veg Falafel Wrap', 'Chicken Bhuna Wrap', 'Chatpate Chole Wrap', 'Fiery Paneer Wrap', 'Fiery Chicken Wrap', 'Mac & Cheese Wrap', 'Hare Tamatar & Sabudana Wada Royal Thali', 'Singhada Aloo Paratha & Hare Tamatar Royal Satvik Meal', 'Smoked Butter Chicken With Omelette', 'Rajma Masala Royal Combo', 'Paneer Methi Chaman Royal Combo', 'Mutton Bhuna Royal Combo', 'Smoked Butter Chicken Royal Combo', 'Malai Kofta Royal Combo', 'Fusion Breakfast', 'Pan Cake', 'Aloo Paratha Combo', 'Chai for 4', 'Cheesy Chicken Meatballs', 'Peach Tea (Serves 4)', 'Falafel Nuggets with Mayo Dip', 'Potato Chilli Shots with Mayo Dip', 'Pan Cake', 'Kashmiri Kahwa (Serves 4)', 'Masala Chai (Serves 4)', 'Chai for 4 + Nature valley bar', 'Kulcha', 'Flavorful Rice Tub', 'Dal Makhani Bowl (Half KG)', 'Smoked Butter Chicken Bowl (Half KG)', 'Mutton Bhuna Bowl (Half KG)', 'Singhada Aloo Paratha Tub', 'Curd Bowl (Half KG)', 'Hare Tamatar Ki Subji (Half KG)', 'Rajma Masala Bowl (Half KG)', 'Triangle Paratha Tub', 'Malai Kofta Bowl (Half Kg)', 'Chocolate Fantasy', 'SWIG Jeera Masala', 'SWIG Green apple', 'Kesar Muesli', 'Gulab Jamun (Pack Of 2)', 'Plum Cake', 'Gulab Jamun (Pack of 1)', 'Moments', 'Hazelnut Brownie (Pack Of 1)', 'CheeseCake (Pack of 1)', 'Chocolate Decadence (Pack of 1)', 'Red Velvet Slice Cake (Pack of 1)', 'Mint Chaas']\",\n",
              "       ...,\n",
              "       '[\\'Veg Thai Green Curry\\', \\'BBQ Sloppy Chicken Burger\\', \"Harry\\'s Farm House Pizza\", \\'Egg Schezwan Fried Rice\\', \\'Chicken Schezwan Noodles\\', \\'Veg Platter\\', \\'Non Veg Platter\\', \\'Tom Yum Goong\\', \\'Tandoori Kalonji Aloo\\', \\'Tandoori Pesto Flowerets\\', \\'Paneer and Pineapple Tikka\\', \\'Adraki Soy Chilli Chicken Kebab\\', \\'Tandoori Chicken Lollipop\\', \\'Parpika Choosa\\', \\'Lamb Seekh Kebab\\', \\'Achari Fish Tikka\\', \\'Rumali Roti\\', \\'Naan\\', \\'Butter Naan\\', \\'Garlic Naan\\', \\'Butter Garlic Naan\\', \\'Cheese Naan\\', \\'Butter Garlic Cheese Naan\\', \\'Garlic Cheese Naan\\', \\'Veg Fried Rice\\', \\'Veg Schezwan Fried Rice\\', \\'Veg Hakka Noodles\\', \\'Veg Schezwan Noodles\\', \\'Veg Singapore Noodles\\', \\'Egg Fried Rice\\', \\'Egg Schezwan Fried Rice\\', \\'Egg Hakka Noodles\\', \\'Egg Schezwan Noodles\\', \\'Egg Singapore Noodles\\', \\'Chicken Hakka Noodles\\', \\'Chicken Schezwan Noodles\\', \\'Chicken Singapore Noodles\\', \\'Prawns Fried Rice\\', \\'Prawns Schezwan Fried Rice\\', \\'Prawns Hakka Noodles\\', \\'Prawns Schezwan Noodles\\', \\'Prawns Singapore Noodles\\', \\'Margherita Pizza\\', \"Harry\\'s Farm House Pizza\", \\'Classique Paneer Tikka Pizza\\', \\'Veg Exotica Pizza\\', \\'Thai Basil Chicken Pizza\\', \\'Classic Chicken Tikka Pizza\\', \\'Spicy Pepperoni Pizza\\', \\'Penne Rustica\\', \\'Spaghetti Aglio e Olio Pasta\\', \\'HarryÃ\\x83\\\\x83Ã\\x82\\\\x83Ã\\x83\\\\x82Ã\\x82\\\\x83Ã\\x83\\\\x83Ã\\x82\\\\x82Ã\\x83\\\\x82Ã\\x82Â¢Ã\\x83\\\\x83Ã\\x82\\\\x83Ã\\x83\\\\x82Ã\\x82\\\\x82Ã\\x83\\\\x83Ã\\x82\\\\x82Ã\\x83\\\\x82Ã\\x82\\\\x80Ã\\x83\\\\x83Ã\\x82\\\\x83Ã\\x83\\\\x82Ã\\x82\\\\x82Ã\\x83\\\\x83Ã\\x82\\\\x82Ã\\x83\\\\x82Ã\\x82\\\\x99s Mac and Cheese Pasta\\', \\'Penne Vodkatini\\', \\'Baked Butter Chicken Lasaqna\\', \\'Spaghetti Carbonara\\', \\'Straight Up Veg Burger\\', \\'BBQ Sloppy Chicken Burger\\', \\'HarryÃ\\x83\\\\x83Ã\\x82\\\\x83Ã\\x83\\\\x82Ã\\x82\\\\x83Ã\\x83\\\\x83Ã\\x82\\\\x82Ã\\x83\\\\x82Ã\\x82Â¢Ã\\x83\\\\x83Ã\\x82\\\\x83Ã\\x83\\\\x82Ã\\x82\\\\x82Ã\\x83\\\\x83Ã\\x82\\\\x82Ã\\x83\\\\x82Ã\\x82\\\\x80Ã\\x83\\\\x83Ã\\x82\\\\x83Ã\\x83\\\\x82Ã\\x82\\\\x82Ã\\x83\\\\x83Ã\\x82\\\\x82Ã\\x83\\\\x82Ã\\x82\\\\x99s Lamb Burger\\', \\'Jazz Burger\\', \\'Paneer Bhurji Pav\\', \\'Egg Kejriwal\\', \\'Anda Bhurji Pav\\', \\'Omelette Pav\\', \\'Egg Chilly\\', \\'Goan Rassa Omelette with Pav\\', \\'Veg Wok Tossed Ginger Sprout Noodles with Crackling Spinach\\', \\'Veg Kung Pao Curry\\', \\'Veg Thai Green Curry\\', \\'Veg Laksa\\', \\'Chicken Wok Tossed Ginger Sprout Noodles with Crackling Spinach\\', \\'Grilled Chilly Chicken\\', \\'Chicken Kung Pao Curry\\', \\'Chicken Thai Green Curry\\', \\'Chicken Laksa\\', \\'Sri Lankan Black Pepper Chicken\\', \\'Nasi Stir Fry Rice\\', \\'Fish Wok Tossed Ginger Sprout Noodles with Crackling Spinach\\', \\'Seafood Kung Pao Curry\\', \\'Seafood Thai Green Curry\\', \\'Seafood Laksa\\', \\'Bangkok Seafood Bowl\\', \\'Crispy Garlic Bread\\', \\'Classic Masala Peanut\\', \\'Salt and Pepper Corn\\', \\'Bombay Spiced Wedges\\', \\'Harrys Onion Rings\\', \\'French Fries\\', \\'Crispy Chilli Potatoes\\', \\'Baked Sweet Potato Wedges\\', \\'Peri Peri Salsa Fries\\', \\'Parmigiana Truffle Fries\\', \\'Chicken Tikka Poutine\\', \\'Lamb Lovers Fries\\', \\'Paneer Bhurji Pav\\', \\'Cheese Chilli Toast\\', \\'Pita Chips with Classic Hummus\\', \\'Paneer Chilli Dry\\', \\'Veg Smoked Quesadillas\\', \\'Fondue Stuffed Mushrooms\\', \\'Wonton Kachories\\', \\'Cottage Cheese Malaysian Satay\\', \\'Muchos Nachos Veggie\\', \"Harry\\'s Cheese Fondue Veg Dunks\", \\'Non Veg Smoked Quesadillas\\', \\'Chilli Chicken\\', \\'Chicken Malaysian Satay\\', \\'Drunken Chicken\\', \\'Crispy Chicken\\', \\'Andhra Chicken Pepper Fry\\', \\'Singapore Chicken Lollipop\\', \\'Fiery Schezwan Pepper Chicken\\', \\'Chilli Chicken Roll\\', \\'BBQ Rum Flambeed Wings\\', \\'Grilled Tenderloin Chilli Fry\\', \\'Keema Pav\\', \\'Pigs in a Blanket\\', \\'Kerala Buff Chilly\\', \\'Buffalo Chicken Winglets\\', \\'Pattaya Beach Fish Goujons\\', \\'Fishermans Basket\\', \"Harry\\'s Cheese Fondue Non Veg Dunks\", \\'Paneer Urban Tikka Masala\\', \"Veg Harry\\'s Stroganoff\", \\'Chicken Urban Tikka Masala\\', \\'Jamaican Jerk Chicken\\', \"Chicken Harry\\'s Stroganoff\", \\'Harrys Pepper Chicken\\', \\'Peppered Tenderloin Steak\\', \"Harry\\'s Beer Batter Fish\", \\'Smoked Paprika Fish\\', \\'Darsaan\\', \\'Sizzling Brownie\\']',\n",
              "       '[\\'Chicken Wings\\', \\'Pepper Chicken\\', \"Beef Grilled One\\'s Burger\", \\'Spicy Louisiana Pizza\\', \\'Chilly Chicken Pizza\\', \\'Chicken Mexicana Pizza\\', \\'Veg Italian Tomato and Fresh Basil Soup\\', \\'Chicken Lemon Coriander Soup\\', \\'Southern Fried Chicken\\', \\'Chicken Wings\\', \\'Gambas\\', \\'Bbq Jerk Chicken\\', \\'Chicken Nachos Carnitos\\', \\'Spicy Chicken Carrebbean Sausages\\', \\'Spicy Pork Carrebbean Sausages\\', \\'Pork Nachos Carnitos\\', \\'Beef Spicy New Orleans Braised Meat\\', \\'Cajun Spiced Fish Fingers\\', \\'Pepper Chicken\\', \\'Chicken Apollo Style\\', \\'Prawns Apollo Style\\', \\'Chicken Streetside Chilly Style\\', \\'Beef Streetside Chilly Style\\', \\'Pork Streetside Chilly Style\\', \\'Chicken Manchurian Style\\', \"Chicken Spicy Chef\\'s Special Style\", \"Beef Spicy Chef\\'s Special Style\", \"Chicken Kim\\'s Style\", \\'Beef Nachos Carnitos\\', \"Beef Kim\\'s Style\", \"Pork Kim\\'s Style\", \\'Chettinad Chicken Roast\\', \\'Chettinad Pudhina Chicken Roast\\', \\'Chicken Kabab\\', \"Prawns Spicy Chef\\'s Special Style\", \\'Prawns Manchurian Style\\', \\'Fried Beef\\', \\'Pork Spicy New Orleans Braised Meat\\', \\'Fried Pork\\', \"Prawns Kim\\'s Style\", \\'Fish Manchurian Style\\', \"Fish Spicy Chef\\'s Special Style\", \\'Fish Streetside Chilly Style\\', \\'Fish Apollo Style\\', \"Fish Kim\\'s Style\", \\'Pork Streetside Chilly Style\\', \"Pork Spicy Chef\\'s Special Style\", \\'Pork Manchurian Style\\', \\'Beef Manchurian Style\\', \"Paneer Korean Kim\\'s Style\", \\'Paneer Tangy Spinach Sauce\\', \\'Paneer Apollo Style Sauce\\', \\'Paneer Singaporean Style Sauce\\', \\'Paneer Ginger Chilly Garlic Sauce\\', \\'Paneer Ginger Chilly Garlic Sauce\\', \\'Paneer Ginger Chilly Garlic Sauce\\', \\'Paneer Hot Garlic Sauce\\', \\'Paneer Lemon Coriander Sauce\\', \"Veg Korean Kim\\'s Style\", \\'Veg Tangy Spinach Sauce\\', \\'Veg Apollo Style Sauce\\', \"Veg Korean Kim\\'s Style\", \\'Veg Singaporean Style Sauce\\', \\'Veg Ginger Chilly Garlic Sauce Burger\\', \\'Veg Chefs Super Spicy Style\\', \\'Veg Hot Garlic Sauce\\', \\'Lemon Coriander Sauce\\', \"Chicken Korean Kim\\'s Style\", \\'Chicken Tangy Spinach Sauce\\', \\'Apollo Style Sauce\\', \\'Chicken Singaporean Style Sauce\\', \\'Chicken Singaporean Style Sauce\\', \\'Chicken Chefs Super Spicy Style\\', \\'Chicken Hot Garlic Sauce\\', \\'Chicken Hot Garlic Sauce\\', \"Beef Korean Kim\\'s Style\", \\'Beef Tangy Spinach Sauce\\', \\'Beef Apollo Style Sauce\\', \\'Beef Singaporean Style Sauce\\', \\'Beef Ginger Chilly Garlic Sauce\\', \\'Beef Chefs Super Spicy Style\\', \\'Beef Chefs Super Spicy Style\\', \\'Beef Hot Garlic Sauce\\', \\'Beef Lemon Coriander Sauce\\', \"Pork Korean Kim\\'s Style\", \\'Pork Tangy Spinach Sauce\\', \\'Pork Apollo Style Sauce\\', \\'Pork Singaporean Style Sauce\\', \\'Pork Ginger Chilly Garlic Sauce\\', \\'Pork Chefs Super Spicy Style\\', \\'Pork Hot Garlic Sauce\\', \\'Pork Lemon Coriander Sauce\\', \"Fish Korean Kim\\'s Style\", \\'Fish Tangy Spinach Sauce\\', \\'Fish Apollo Style Sauce\\', \\'Fish Singaporean Style Sauce\\', \\'Fish Ginger Chilly Garlic Sauce\\', \\'Fish Chefs Super Spicy Style\\', \\'Fish Hot Garlic Sauce\\', \\'Fish Lemon Coriander Sauce\\', \"Korean Kim\\'s Style\", \\'Prawns Tangy Spinach Sauce\\', \\'Prawns Apollo Style Sauce\\', \\'Prawns Apollo Style Sauce\\', \\'Prawns Ginger Chilly Garlic Sauce\\', \\'Prawns Chefs Super Spicy Style\\', \\'Prawns Hot Garlic Sauce\\', \\'Prawns Lemon Coriander Sauce\\', \\'Veg Stir Fried Rice\\', \\'Veg Mongolian Rice\\', \\'Veg Olivers Spicy Rice\\', \\'Veg Singaporean Rice\\', \\'Egg Stir Fried Rice\\', \\'Egg Mongolian Rice\\', \\'Egg Olivers Spicy Rice\\', \\'Egg Singaporean Rice\\', \\'Chicken Stir Fried Rice\\', \\'Chicken Mongolian Rice\\', \\'Chicken Olivers Spicy Rice\\', \\'Chicken Singaporean Rice\\', \\'Beef Stir Fried Rice\\', \\'Beef Mongolian Rice\\', \\'Beef Olivers Spicy Rice\\', \\'Beef Singaporean Rice\\', \\'Pork Stir Fried Rice\\', \\'Pork Mongolian Rice\\', \\'Pork Olivers Spicy Rice\\', \\'Pork Singaporean Rice\\', \\'Fish Stir Fried Rice\\', \\'Fish Mongolian Rice\\', \\'Fish Olivers Spicy Rice\\', \\'Fish Singaporean Rice\\', \\'Prawns Stir Fried Rice\\', \\'Prawns Mongolian Rice\\', \\'Prawns Olivers Spicy Rice\\', \\'Prawns Singaporean Rice\\', \\'Veg Stir Fried Noodles\\', \\'Veg Mongolian Noodles\\', \\'Veg Olivers Spicy Noodles\\', \\'Veg Singaporean Noodles\\', \\'Egg Stir Fried Noodles\\', \\'Egg Mongolian Noodles\\', \\'Egg Olivers Spicy Noodles\\', \\'Egg Singaporean Noodles\\', \\'Chicken Stir Fried Noodles\\', \\'Chicken Mongolian Noodles\\', \\'Chicken Olivers Spicy Noodles\\', \\'Chicken Singaporean Noodles\\', \\'Beef Stir Fried Noodles\\', \\'Beef Mongolian Noodles\\', \\'Beef Olivers Spicy Noodles\\', \\'Beef Singaporean Noodles\\', \\'Pork Stir Fried Noodles\\', \\'Pork Mongolian Noodles\\', \\'Pork Olivers Spicy Noodles\\', \\'Pork Singaporean Noodles\\', \\'Fish Stir Fried Noodles\\', \\'Fish Mongolian Noodles\\', \\'Fish Olivers Spicy Noodles\\', \\'Fish Singaporean Noodles\\', \\'Prawns Stir Fried Noodles\\', \\'Prawns Mongolian Noodles\\', \\'Prawns Olivers Spicy Noodles\\', \\'Prawns Singaporean Noodles\\', \\'Mexican Bean Burger\\', \\'Bean Bbq\\', \\'Ginger Chilly Garlic Sauce Burger\\', \\'Cottage Cheese Jerky Burgers\\', \\'Spinach Ricotta Smashers\\', \\'Grilled Pepper Smashers\\', \\'Grilled Veg Sandwich\\', \\'Falafel\\', \\'Eggplant Parm\\', \"Chicken Grilled One\\'s Burger\", \"Beef Grilled One\\'s Burger\", \\'Almost Famous Moo Burger\\', \\'Miami Chicken Burger\\', \\'Miami Beef Burger\\', \\'Philly Cheesesteak Burger\\', \\'Santa Fe Beef Burger\\', \\'Cleveland Sandwich\\', \\'Philly Cheese Steak Sandwich\\', \\'Cuban Sandwich\\', \\'Pulled Chicken Sandwich\\', \\'Beef Saigon Bahn Mi Sandwich\\', \\'Pork Saigon Bahn Mi Sandwich\\', \\'Cheese Garlic Bread\\', \\'Jalapeno Poppers\\', \\'Cajun Spiced Potato Wedges\\', \\'Bruschetta\\', \\'Spring Rolls\\', \\'Crispy Potato Fingers\\', \\'Manchurian Style\\', \\'Streeside Chilly Style\\', \\'Crispy Fried Babycorn\\', \\'American Corn Bombs\\', \\'Cripsy Fried Paneer\\', \\'Pepper Salt\\', \\'OliverÃ\\x83\\\\x83Ã\\x82\\\\x83Ã\\x83\\\\x82Ã\\x82\\\\x83Ã\\x83\\\\x83Ã\\x82\\\\x82Ã\\x83\\\\x82Ã\\x82Â¢Ã\\x83\\\\x83Ã\\x82\\\\x83Ã\\x83\\\\x82Ã\\x82\\\\x82Ã\\x83\\\\x83Ã\\x82\\\\x82Ã\\x83\\\\x82Ã\\x82\\\\x80Ã\\x83\\\\x83Ã\\x82\\\\x83Ã\\x83\\\\x82Ã\\x82\\\\x82Ã\\x83\\\\x83Ã\\x82\\\\x82Ã\\x83\\\\x82Ã\\x82\\\\x99s Pepper Masala Paneer Roast\\', \\'OliverÃ\\x83\\\\x83Ã\\x82\\\\x83Ã\\x83\\\\x82Ã\\x82\\\\x83Ã\\x83\\\\x83Ã\\x82\\\\x82Ã\\x83\\\\x82Ã\\x82Â¢Ã\\x83\\\\x83Ã\\x82\\\\x83Ã\\x83\\\\x82Ã\\x82\\\\x82Ã\\x83\\\\x83Ã\\x82\\\\x82Ã\\x83\\\\x82Ã\\x82\\\\x80Ã\\x83\\\\x83Ã\\x82\\\\x83Ã\\x83\\\\x82Ã\\x82\\\\x82Ã\\x83\\\\x83Ã\\x82\\\\x82Ã\\x83\\\\x82Ã\\x82\\\\x99s Chettinad Aloo Roast\\', \\'OliverÃ\\x83\\\\x83Ã\\x82\\\\x83Ã\\x83\\\\x82Ã\\x82\\\\x83Ã\\x83\\\\x83Ã\\x82\\\\x82Ã\\x83\\\\x82Ã\\x82Â¢Ã\\x83\\\\x83Ã\\x82\\\\x83Ã\\x83\\\\x82Ã\\x82\\\\x82Ã\\x83\\\\x83Ã\\x82\\\\x82Ã\\x83\\\\x82Ã\\x82\\\\x80Ã\\x83\\\\x83Ã\\x82\\\\x83Ã\\x83\\\\x82Ã\\x82\\\\x82Ã\\x83\\\\x83Ã\\x82\\\\x82Ã\\x83\\\\x82Ã\\x82\\\\x99s Pudhina Aloo Roast\\', \\'Onion Pakoda\\', \\'Paneer Pakoda\\', \\'Egg Bhurji\\', \\'Masala Egg Pakoda\\', \\'Masala Omlette\\', \\'Egg Bhurji With Bacon & Sausage\\', \\'Chilly Egg\\', \\'Egg Bhurji With Bacon And Sausage\\', \\'Pizza Margharita\\', \\'Spicy Louisiana Pizza\\', \\'Wilted Spinach Pizza\\', \\'Eggplant Pizza\\', \\'Patata Salsa Pizza\\', \\'Stirfried Babycorn Pizza\\', \\'Arugula Pizza\\', \\'Pesto Shrooms Pizza\\', \\'Chilly Paneer Pizza\\', \\'Spicy Peri Peri Paneer & Spinach Pizza\\', \\'Mexican Nachos Special Pizza\\', \\'Chicken BBQ Pizza\\', \\'Chicken Sausage Pizza\\', \\'Chilly Chicken Pizza\\', \\'Chicken 65 Pizza\\', \\'Chicken Mexicana Pizza\\', \\'Chicken Bolognese Pizza\\', \\'Mexican Chicken Nachos Pizza\\', \\'Mexican Beef Nachos Pizza\\', \\'Arugula Bacon Pizza\\', \\'Pepperoni Pizza\\', \\'Chorizo Pizza\\', \\'Chocolate Brownie\\']',\n",
              "       \"['Dal Tadka', 'Dal Makhani', 'Paneer Tikka Masala', 'Kadai Paneer', 'Paneer Makhani', 'Malai Kofta', 'Mutton Rogan Josh', 'Jeera Rice', 'Veg Biryani', 'Murgh Dum Biryani', 'Murgh Dum Biryani [Family Pack]', 'Hara Bara Kabab', 'Paneer Tikka', 'Tandoori Murgh', 'Murgh Lahori Kalmi', 'Jalebi with Rabdi', 'Roomali Roti', 'Afghani Naan', 'Stuffed Paratha', 'Paneer Tikka Masala Meal', 'Paneer Makhani Meal', 'Veg Biryani Meal', 'Executive Veg Box Meal', 'Executive Non Veg Box Meal', 'Rajma Meal', 'Peshawari Channa Meal', 'Paneer Tikka Masala Meal', 'Paneer Makhani Meal', 'Egg Curry Meal', 'Butter Chicken Meal', 'Rara Murgh Meal', 'Mutton Rogan Josh Meal', 'Rara Mutton Meal', 'Veg Biryani Meal', 'Egg Biryani Meal', 'Murgh Dum Biryani Meal', 'Murgh Tikka Biryani Meal', 'Mutton Biryani Meal', 'Prawns Biryani Meal', 'Executive Veg Box Meal', 'Executive Non Veg Box Meal', 'Tomato Shorba', 'Murgh Shorba', 'Bagicha ka Salad', 'Karela Salad', 'Kaju Fry Salad', 'Murgh Tikka Salad', 'French Fries', 'Aloo Tak-a-Tak', 'Baby Corn Harimirch Wala', 'Bhatti ka Gobi', 'Hara Bara Kabab', 'Tandoori Mushroom', 'Mushroom Harimirch Wala', 'Paneer Resunga', 'Paneer Tikka', 'Peshawari Seekh Kabab', 'Tandoori Murgh', 'Murgh Lahori Kalmi', 'Mutton Pepper Dry', 'Macchi Amritsari', 'Macchi Tak-a-Tak', 'Tawa Macchi', 'Prawns Balaika', 'Prawns Tak-a-Tak', 'Tandoori Prawns', 'Prawns Harimirch Wala', 'Dal Tadka', 'Dal Makhani', 'Paneer Tikka Masala', 'Paneer Saagwala', 'Kadai Paneer', 'Paneer Makhani', 'Mushroom Matar', 'Veg Patiala', 'Diwani Handi', 'Kadai Veg', 'Rajma', 'Sarson ka Saag', 'Aloo Gobi Masala', 'Bhindi Do Pyaza', 'Peshawari Channa', 'Malai Kofta', 'Kaju Masala', 'Egg Bhurji', 'Egg Masala', 'Rarra Mutton', 'Mutton Rogan Josh', 'Methi Macchi Masala', 'Macchi Jalfrezi', 'Prawns Masala', 'Plain Rice', 'Curd Rice', 'Jeera Rice', 'Veg Pulao', 'Peas Pulao', 'Veg Biryani', 'Egg Biryani', 'Murgh Dum Biryani', 'Murgh Tikka Biryani', 'Mutton Biryani', 'Prawns Biryani', 'Egg Biryani [Family Pack]', 'Murgh Dum Biryani [Family Pack]', 'Murgh Tikka Biryani [Family Pack]', 'Mutton Biryani [Family Pack]', 'Prawns Biryani [Family Pack]', 'Phulka', 'Roti', 'Butter Roti', 'Harimirch Paratha', 'Lalmirch Paratha', 'Garlic Naan', 'Naan', 'Butter Naan', 'Lachha Paratha', 'Kulcha', 'Butter Kulcha', 'Makkai Ki Roti', 'Roomali Roti', 'Afghani Naan', 'Peshawari Paratha', 'Stuffed Paratha', '8 Roti ka Chota Khazana', '12 Roti ka Bada Khazana', 'Egg Paratha', 'Mutton Keema Paratha', 'Roasted Papad', 'Masala Papad', 'Plain Curd', 'Mixed Veg Raita', 'Boondi Raita', 'Cucumber Raita', 'Pineapple Raita', 'Onion Raita', 'Mint Raita', 'Rabdi', 'Jalebi', 'Jalebi with Rabdi', 'Gulab Jamun', 'Rasgulla', 'Bhune Jeere ki Chaach', 'Jal Jeera', 'Meetha Punjabi Lassi', 'Namkeen Punjabi Lassi', 'Masala Punjabi Lassi', 'Patiala Punjabi Lassi', 'Meetha Nimboo Paani', 'Namkeen Nimboo Paani', 'Roohafza Sherbat', 'Mineral Water [1 litre]']\"],\n",
              "      dtype=object)"
            ]
          },
          "metadata": {
            "tags": []
          },
          "execution_count": 9
        }
      ]
    },
    {
      "cell_type": "code",
      "metadata": {
        "id": "n0Fq8Y_wvXl8"
      },
      "source": [
        "dataset.drop(columns = ['url', 'address', 'phone', 'dish_liked'], axis = 1, inplace = True)"
      ],
      "execution_count": 10,
      "outputs": []
    },
    {
      "cell_type": "code",
      "metadata": {
        "id": "KGTK8xUD16tA",
        "outputId": "051c6cdd-c6f3-4719-c7d9-e56b7148467d",
        "colab": {
          "base_uri": "https://localhost:8080/",
          "height": 496
        }
      },
      "source": [
        "dataset.head()"
      ],
      "execution_count": 11,
      "outputs": [
        {
          "output_type": "execute_result",
          "data": {
            "text/html": [
              "<div>\n",
              "<style scoped>\n",
              "    .dataframe tbody tr th:only-of-type {\n",
              "        vertical-align: middle;\n",
              "    }\n",
              "\n",
              "    .dataframe tbody tr th {\n",
              "        vertical-align: top;\n",
              "    }\n",
              "\n",
              "    .dataframe thead th {\n",
              "        text-align: right;\n",
              "    }\n",
              "</style>\n",
              "<table border=\"1\" class=\"dataframe\">\n",
              "  <thead>\n",
              "    <tr style=\"text-align: right;\">\n",
              "      <th></th>\n",
              "      <th>name</th>\n",
              "      <th>online_order</th>\n",
              "      <th>book_table</th>\n",
              "      <th>rate</th>\n",
              "      <th>votes</th>\n",
              "      <th>location</th>\n",
              "      <th>rest_type</th>\n",
              "      <th>cuisines</th>\n",
              "      <th>approx_cost(for two people)</th>\n",
              "      <th>reviews_list</th>\n",
              "      <th>menu_item</th>\n",
              "      <th>listed_in(type)</th>\n",
              "      <th>listed_in(city)</th>\n",
              "    </tr>\n",
              "  </thead>\n",
              "  <tbody>\n",
              "    <tr>\n",
              "      <th>0</th>\n",
              "      <td>Jalsa</td>\n",
              "      <td>Yes</td>\n",
              "      <td>Yes</td>\n",
              "      <td>4.1/5</td>\n",
              "      <td>775</td>\n",
              "      <td>Banashankari</td>\n",
              "      <td>Casual Dining</td>\n",
              "      <td>North Indian, Mughlai, Chinese</td>\n",
              "      <td>800</td>\n",
              "      <td>[('Rated 4.0', 'RATED\\n  A beautiful place to ...</td>\n",
              "      <td>[]</td>\n",
              "      <td>Buffet</td>\n",
              "      <td>Banashankari</td>\n",
              "    </tr>\n",
              "    <tr>\n",
              "      <th>1</th>\n",
              "      <td>Spice Elephant</td>\n",
              "      <td>Yes</td>\n",
              "      <td>No</td>\n",
              "      <td>4.1/5</td>\n",
              "      <td>787</td>\n",
              "      <td>Banashankari</td>\n",
              "      <td>Casual Dining</td>\n",
              "      <td>Chinese, North Indian, Thai</td>\n",
              "      <td>800</td>\n",
              "      <td>[('Rated 4.0', 'RATED\\n  Had been here for din...</td>\n",
              "      <td>[]</td>\n",
              "      <td>Buffet</td>\n",
              "      <td>Banashankari</td>\n",
              "    </tr>\n",
              "    <tr>\n",
              "      <th>2</th>\n",
              "      <td>San Churro Cafe</td>\n",
              "      <td>Yes</td>\n",
              "      <td>No</td>\n",
              "      <td>3.8/5</td>\n",
              "      <td>918</td>\n",
              "      <td>Banashankari</td>\n",
              "      <td>Cafe, Casual Dining</td>\n",
              "      <td>Cafe, Mexican, Italian</td>\n",
              "      <td>800</td>\n",
              "      <td>[('Rated 3.0', \"RATED\\n  Ambience is not that ...</td>\n",
              "      <td>[]</td>\n",
              "      <td>Buffet</td>\n",
              "      <td>Banashankari</td>\n",
              "    </tr>\n",
              "    <tr>\n",
              "      <th>3</th>\n",
              "      <td>Addhuri Udupi Bhojana</td>\n",
              "      <td>No</td>\n",
              "      <td>No</td>\n",
              "      <td>3.7/5</td>\n",
              "      <td>88</td>\n",
              "      <td>Banashankari</td>\n",
              "      <td>Quick Bites</td>\n",
              "      <td>South Indian, North Indian</td>\n",
              "      <td>300</td>\n",
              "      <td>[('Rated 4.0', \"RATED\\n  Great food and proper...</td>\n",
              "      <td>[]</td>\n",
              "      <td>Buffet</td>\n",
              "      <td>Banashankari</td>\n",
              "    </tr>\n",
              "    <tr>\n",
              "      <th>4</th>\n",
              "      <td>Grand Village</td>\n",
              "      <td>No</td>\n",
              "      <td>No</td>\n",
              "      <td>3.8/5</td>\n",
              "      <td>166</td>\n",
              "      <td>Basavanagudi</td>\n",
              "      <td>Casual Dining</td>\n",
              "      <td>North Indian, Rajasthani</td>\n",
              "      <td>600</td>\n",
              "      <td>[('Rated 4.0', 'RATED\\n  Very good restaurant ...</td>\n",
              "      <td>[]</td>\n",
              "      <td>Buffet</td>\n",
              "      <td>Banashankari</td>\n",
              "    </tr>\n",
              "  </tbody>\n",
              "</table>\n",
              "</div>"
            ],
            "text/plain": [
              "                    name online_order  ... listed_in(type) listed_in(city)\n",
              "0                  Jalsa          Yes  ...          Buffet    Banashankari\n",
              "1         Spice Elephant          Yes  ...          Buffet    Banashankari\n",
              "2        San Churro Cafe          Yes  ...          Buffet    Banashankari\n",
              "3  Addhuri Udupi Bhojana           No  ...          Buffet    Banashankari\n",
              "4          Grand Village           No  ...          Buffet    Banashankari\n",
              "\n",
              "[5 rows x 13 columns]"
            ]
          },
          "metadata": {
            "tags": []
          },
          "execution_count": 11
        }
      ]
    },
    {
      "cell_type": "markdown",
      "metadata": {
        "id": "J0k9tA1c2E1-"
      },
      "source": [
        "### Checking for NaN Values"
      ]
    },
    {
      "cell_type": "code",
      "metadata": {
        "id": "nELlksET1-L6",
        "outputId": "5c4238d1-e7e6-4c2e-cd24-6ab24906e036",
        "colab": {
          "base_uri": "https://localhost:8080/"
        }
      },
      "source": [
        "dataset.isna().sum()"
      ],
      "execution_count": 12,
      "outputs": [
        {
          "output_type": "execute_result",
          "data": {
            "text/plain": [
              "name                              0\n",
              "online_order                      0\n",
              "book_table                        0\n",
              "rate                           7775\n",
              "votes                             0\n",
              "location                         21\n",
              "rest_type                       227\n",
              "cuisines                         45\n",
              "approx_cost(for two people)     346\n",
              "reviews_list                      0\n",
              "menu_item                         0\n",
              "listed_in(type)                   0\n",
              "listed_in(city)                   0\n",
              "dtype: int64"
            ]
          },
          "metadata": {
            "tags": []
          },
          "execution_count": 12
        }
      ]
    },
    {
      "cell_type": "markdown",
      "metadata": {
        "id": "AhPVWkgq2b54"
      },
      "source": [
        "### Dropping NaN Values"
      ]
    },
    {
      "cell_type": "code",
      "metadata": {
        "id": "m0yHpAob2Uab",
        "outputId": "4a2419f8-b27f-4dbf-baf7-8544f5fc54f6",
        "colab": {
          "base_uri": "https://localhost:8080/"
        }
      },
      "source": [
        "dataset.dropna(how = 'any', inplace = True)\n",
        "dataset.isna().sum()"
      ],
      "execution_count": 13,
      "outputs": [
        {
          "output_type": "execute_result",
          "data": {
            "text/plain": [
              "name                           0\n",
              "online_order                   0\n",
              "book_table                     0\n",
              "rate                           0\n",
              "votes                          0\n",
              "location                       0\n",
              "rest_type                      0\n",
              "cuisines                       0\n",
              "approx_cost(for two people)    0\n",
              "reviews_list                   0\n",
              "menu_item                      0\n",
              "listed_in(type)                0\n",
              "listed_in(city)                0\n",
              "dtype: int64"
            ]
          },
          "metadata": {
            "tags": []
          },
          "execution_count": 13
        }
      ]
    },
    {
      "cell_type": "markdown",
      "metadata": {
        "id": "lARN1lPB3ZH0"
      },
      "source": [
        "### Renaming the Column"
      ]
    },
    {
      "cell_type": "code",
      "metadata": {
        "id": "Rq4iYGtC2zMm"
      },
      "source": [
        "dataset.rename(columns = {'approx_cost(for two people)': 'cost', 'listed_in(city)': 'city', \n",
        "                          'listed_in(type)': 'type'}, inplace = True)"
      ],
      "execution_count": 14,
      "outputs": []
    },
    {
      "cell_type": "code",
      "metadata": {
        "id": "TgkjFRlm3XuN",
        "outputId": "a99b7249-0553-4e4e-ab33-1af5791f4957",
        "colab": {
          "base_uri": "https://localhost:8080/"
        }
      },
      "source": [
        "dataset.columns"
      ],
      "execution_count": 15,
      "outputs": [
        {
          "output_type": "execute_result",
          "data": {
            "text/plain": [
              "Index(['name', 'online_order', 'book_table', 'rate', 'votes', 'location',\n",
              "       'rest_type', 'cuisines', 'cost', 'reviews_list', 'menu_item', 'type',\n",
              "       'city'],\n",
              "      dtype='object')"
            ]
          },
          "metadata": {
            "tags": []
          },
          "execution_count": 15
        }
      ]
    },
    {
      "cell_type": "markdown",
      "metadata": {
        "id": "Q0_4kqz5MFyO"
      },
      "source": [
        "### Checking for Duplicates column wise\n"
      ]
    },
    {
      "cell_type": "code",
      "metadata": {
        "id": "WJfzwoyMMMkQ",
        "outputId": "51a144d8-77c0-4750-bd13-386cdb4b849a",
        "colab": {
          "base_uri": "https://localhost:8080/"
        }
      },
      "source": [
        "for column in dataset.columns:\n",
        "  print(\"The sum of duplicates values in\",column,\" column is\",dataset[column].duplicated(keep = 'first').sum())\n",
        "  print(\"---\"*30)"
      ],
      "execution_count": 27,
      "outputs": [
        {
          "output_type": "stream",
          "text": [
            "The sum of duplicates values in name  column is 36421\n",
            "------------------------------------------------------------------------------------------\n",
            "The sum of duplicates values in online_order  column is 43531\n",
            "------------------------------------------------------------------------------------------\n",
            "The sum of duplicates values in book_table  column is 43531\n",
            "------------------------------------------------------------------------------------------\n",
            "The sum of duplicates values in rate  column is 43469\n",
            "------------------------------------------------------------------------------------------\n",
            "The sum of duplicates values in votes  column is 41210\n",
            "------------------------------------------------------------------------------------------\n",
            "The sum of duplicates values in location  column is 43441\n",
            "------------------------------------------------------------------------------------------\n",
            "The sum of duplicates values in rest_type  column is 43446\n",
            "------------------------------------------------------------------------------------------\n",
            "The sum of duplicates values in cuisines  column is 41046\n",
            "------------------------------------------------------------------------------------------\n",
            "The sum of duplicates values in cost  column is 43467\n",
            "------------------------------------------------------------------------------------------\n",
            "The sum of duplicates values in reviews_list  column is 21957\n",
            "------------------------------------------------------------------------------------------\n",
            "The sum of duplicates values in menu_item  column is 34973\n",
            "------------------------------------------------------------------------------------------\n",
            "The sum of duplicates values in type  column is 43526\n",
            "------------------------------------------------------------------------------------------\n",
            "The sum of duplicates values in city  column is 43503\n",
            "------------------------------------------------------------------------------------------\n"
          ],
          "name": "stdout"
        }
      ]
    },
    {
      "cell_type": "markdown",
      "metadata": {
        "id": "hOssKbn7NVKu"
      },
      "source": [
        "### Checking Duplicates in whole dataset"
      ]
    },
    {
      "cell_type": "code",
      "metadata": {
        "id": "HD5vaJPGNaKH",
        "outputId": "2243d727-9186-4cf5-de57-dde22047bef2",
        "colab": {
          "base_uri": "https://localhost:8080/"
        }
      },
      "source": [
        "dataset.duplicated(keep = 'first').sum()"
      ],
      "execution_count": 29,
      "outputs": [
        {
          "output_type": "execute_result",
          "data": {
            "text/plain": [
              "47"
            ]
          },
          "metadata": {
            "tags": []
          },
          "execution_count": 29
        }
      ]
    },
    {
      "cell_type": "markdown",
      "metadata": {
        "id": "K4ayhNLnOiOr"
      },
      "source": [
        "### Dropping Duplicates"
      ]
    },
    {
      "cell_type": "code",
      "metadata": {
        "id": "DCTp7hisOeT2"
      },
      "source": [
        "dataset.drop_duplicates(inplace=True)"
      ],
      "execution_count": 30,
      "outputs": []
    },
    {
      "cell_type": "code",
      "metadata": {
        "id": "ONumKYXmOoQG",
        "outputId": "f9b093f8-26f6-4676-cd2f-523712d0df3b",
        "colab": {
          "base_uri": "https://localhost:8080/"
        }
      },
      "source": [
        "dataset.duplicated(keep = 'first').sum()"
      ],
      "execution_count": 31,
      "outputs": [
        {
          "output_type": "execute_result",
          "data": {
            "text/plain": [
              "0"
            ]
          },
          "metadata": {
            "tags": []
          },
          "execution_count": 31
        }
      ]
    },
    {
      "cell_type": "code",
      "metadata": {
        "id": "Q8KbCKc2Oq6V",
        "outputId": "e8a67717-2ecd-42b7-fcaf-1d7403946d8c",
        "colab": {
          "base_uri": "https://localhost:8080/",
          "height": 479
        }
      },
      "source": [
        "dataset.head()"
      ],
      "execution_count": 32,
      "outputs": [
        {
          "output_type": "execute_result",
          "data": {
            "text/html": [
              "<div>\n",
              "<style scoped>\n",
              "    .dataframe tbody tr th:only-of-type {\n",
              "        vertical-align: middle;\n",
              "    }\n",
              "\n",
              "    .dataframe tbody tr th {\n",
              "        vertical-align: top;\n",
              "    }\n",
              "\n",
              "    .dataframe thead th {\n",
              "        text-align: right;\n",
              "    }\n",
              "</style>\n",
              "<table border=\"1\" class=\"dataframe\">\n",
              "  <thead>\n",
              "    <tr style=\"text-align: right;\">\n",
              "      <th></th>\n",
              "      <th>name</th>\n",
              "      <th>online_order</th>\n",
              "      <th>book_table</th>\n",
              "      <th>rate</th>\n",
              "      <th>votes</th>\n",
              "      <th>location</th>\n",
              "      <th>rest_type</th>\n",
              "      <th>cuisines</th>\n",
              "      <th>cost</th>\n",
              "      <th>reviews_list</th>\n",
              "      <th>menu_item</th>\n",
              "      <th>type</th>\n",
              "      <th>city</th>\n",
              "    </tr>\n",
              "  </thead>\n",
              "  <tbody>\n",
              "    <tr>\n",
              "      <th>0</th>\n",
              "      <td>Jalsa</td>\n",
              "      <td>Yes</td>\n",
              "      <td>Yes</td>\n",
              "      <td>4.1/5</td>\n",
              "      <td>775</td>\n",
              "      <td>Banashankari</td>\n",
              "      <td>Casual Dining</td>\n",
              "      <td>North Indian, Mughlai, Chinese</td>\n",
              "      <td>800</td>\n",
              "      <td>[('Rated 4.0', 'RATED\\n  A beautiful place to ...</td>\n",
              "      <td>[]</td>\n",
              "      <td>Buffet</td>\n",
              "      <td>Banashankari</td>\n",
              "    </tr>\n",
              "    <tr>\n",
              "      <th>1</th>\n",
              "      <td>Spice Elephant</td>\n",
              "      <td>Yes</td>\n",
              "      <td>No</td>\n",
              "      <td>4.1/5</td>\n",
              "      <td>787</td>\n",
              "      <td>Banashankari</td>\n",
              "      <td>Casual Dining</td>\n",
              "      <td>Chinese, North Indian, Thai</td>\n",
              "      <td>800</td>\n",
              "      <td>[('Rated 4.0', 'RATED\\n  Had been here for din...</td>\n",
              "      <td>[]</td>\n",
              "      <td>Buffet</td>\n",
              "      <td>Banashankari</td>\n",
              "    </tr>\n",
              "    <tr>\n",
              "      <th>2</th>\n",
              "      <td>San Churro Cafe</td>\n",
              "      <td>Yes</td>\n",
              "      <td>No</td>\n",
              "      <td>3.8/5</td>\n",
              "      <td>918</td>\n",
              "      <td>Banashankari</td>\n",
              "      <td>Cafe, Casual Dining</td>\n",
              "      <td>Cafe, Mexican, Italian</td>\n",
              "      <td>800</td>\n",
              "      <td>[('Rated 3.0', \"RATED\\n  Ambience is not that ...</td>\n",
              "      <td>[]</td>\n",
              "      <td>Buffet</td>\n",
              "      <td>Banashankari</td>\n",
              "    </tr>\n",
              "    <tr>\n",
              "      <th>3</th>\n",
              "      <td>Addhuri Udupi Bhojana</td>\n",
              "      <td>No</td>\n",
              "      <td>No</td>\n",
              "      <td>3.7/5</td>\n",
              "      <td>88</td>\n",
              "      <td>Banashankari</td>\n",
              "      <td>Quick Bites</td>\n",
              "      <td>South Indian, North Indian</td>\n",
              "      <td>300</td>\n",
              "      <td>[('Rated 4.0', \"RATED\\n  Great food and proper...</td>\n",
              "      <td>[]</td>\n",
              "      <td>Buffet</td>\n",
              "      <td>Banashankari</td>\n",
              "    </tr>\n",
              "    <tr>\n",
              "      <th>4</th>\n",
              "      <td>Grand Village</td>\n",
              "      <td>No</td>\n",
              "      <td>No</td>\n",
              "      <td>3.8/5</td>\n",
              "      <td>166</td>\n",
              "      <td>Basavanagudi</td>\n",
              "      <td>Casual Dining</td>\n",
              "      <td>North Indian, Rajasthani</td>\n",
              "      <td>600</td>\n",
              "      <td>[('Rated 4.0', 'RATED\\n  Very good restaurant ...</td>\n",
              "      <td>[]</td>\n",
              "      <td>Buffet</td>\n",
              "      <td>Banashankari</td>\n",
              "    </tr>\n",
              "  </tbody>\n",
              "</table>\n",
              "</div>"
            ],
            "text/plain": [
              "                    name online_order  ...    type          city\n",
              "0                  Jalsa          Yes  ...  Buffet  Banashankari\n",
              "1         Spice Elephant          Yes  ...  Buffet  Banashankari\n",
              "2        San Churro Cafe          Yes  ...  Buffet  Banashankari\n",
              "3  Addhuri Udupi Bhojana           No  ...  Buffet  Banashankari\n",
              "4          Grand Village           No  ...  Buffet  Banashankari\n",
              "\n",
              "[5 rows x 13 columns]"
            ]
          },
          "metadata": {
            "tags": []
          },
          "execution_count": 32
        }
      ]
    },
    {
      "cell_type": "markdown",
      "metadata": {
        "id": "45C261u63tMk"
      },
      "source": [
        "### Checking for Unique Values"
      ]
    },
    {
      "cell_type": "code",
      "metadata": {
        "id": "JRy5Xx6D3niP",
        "outputId": "12b46d8a-3359-4992-c3a9-39b2db16ee86",
        "colab": {
          "base_uri": "https://localhost:8080/"
        }
      },
      "source": [
        "for column in dataset.columns:\n",
        "  print(\"Unique Values of\",column,\"column:\", dataset[column].unique())\n",
        "  print('')\n",
        "  print(\"Data Type of\",column,\"column is:\",dataset[column].dtype)\n",
        "  print(\"---\"*30)"
      ],
      "execution_count": 33,
      "outputs": [
        {
          "output_type": "stream",
          "text": [
            "Unique Values of name column: ['Jalsa' 'Spice Elephant' 'San Churro Cafe' ...\n",
            " 'The Nest - The Den Bengaluru' 'Nawabs Empire' 'SeeYa Restaurant']\n",
            "\n",
            "Data Type of name column is: object\n",
            "------------------------------------------------------------------------------------------\n",
            "Unique Values of online_order column: ['Yes' 'No']\n",
            "\n",
            "Data Type of online_order column is: object\n",
            "------------------------------------------------------------------------------------------\n",
            "Unique Values of book_table column: ['Yes' 'No']\n",
            "\n",
            "Data Type of book_table column is: object\n",
            "------------------------------------------------------------------------------------------\n",
            "Unique Values of rate column: ['4.1/5' '3.8/5' '3.7/5' '3.6/5' '4.6/5' '4.0/5' '4.2/5' '3.9/5' '3.1/5'\n",
            " '3.0/5' '3.2/5' '3.3/5' '2.8/5' '4.4/5' '4.3/5' 'NEW' '2.9/5' '3.5/5'\n",
            " '2.6/5' '3.8 /5' '3.4/5' '4.5/5' '2.5/5' '2.7/5' '4.7/5' '2.4/5' '2.2/5'\n",
            " '2.3/5' '3.4 /5' '-' '3.6 /5' '4.8/5' '3.9 /5' '4.2 /5' '4.0 /5' '4.1 /5'\n",
            " '3.7 /5' '3.1 /5' '2.9 /5' '3.3 /5' '2.8 /5' '3.5 /5' '2.7 /5' '2.5 /5'\n",
            " '3.2 /5' '2.6 /5' '4.5 /5' '4.3 /5' '4.4 /5' '4.9/5' '2.1/5' '2.0/5'\n",
            " '1.8/5' '4.6 /5' '4.9 /5' '3.0 /5' '4.8 /5' '2.3 /5' '4.7 /5' '2.4 /5'\n",
            " '2.1 /5' '2.2 /5' '2.0 /5' '1.8 /5']\n",
            "\n",
            "Data Type of rate column is: object\n",
            "------------------------------------------------------------------------------------------\n",
            "Unique Values of votes column: [ 775  787  918 ... 4957 2382  843]\n",
            "\n",
            "Data Type of votes column is: int64\n",
            "------------------------------------------------------------------------------------------\n",
            "Unique Values of location column: ['Banashankari' 'Basavanagudi' 'Mysore Road' 'Jayanagar'\n",
            " 'Kumaraswamy Layout' 'Rajarajeshwari Nagar' 'Vijay Nagar' 'Uttarahalli'\n",
            " 'JP Nagar' 'South Bangalore' 'City Market' 'Bannerghatta Road' 'BTM'\n",
            " 'Kanakapura Road' 'Bommanahalli' 'CV Raman Nagar' 'Electronic City'\n",
            " 'Wilson Garden' 'Shanti Nagar' 'Koramangala 5th Block' 'Richmond Road'\n",
            " 'HSR' 'Marathahalli' 'Koramangala 7th Block' 'Bellandur' 'Sarjapur Road'\n",
            " 'Whitefield' 'East Bangalore' 'Old Airport Road' 'Indiranagar'\n",
            " 'Koramangala 1st Block' 'Frazer Town' 'MG Road' 'Brigade Road'\n",
            " 'Lavelle Road' 'Church Street' 'Ulsoor' 'Residency Road' 'Shivajinagar'\n",
            " 'Infantry Road' 'St. Marks Road' 'Cunningham Road' 'Race Course Road'\n",
            " 'Commercial Street' 'Vasanth Nagar' 'Domlur' 'Koramangala 8th Block'\n",
            " 'Ejipura' 'Jeevan Bhima Nagar' 'Old Madras Road' 'Seshadripuram'\n",
            " 'Kammanahalli' 'Koramangala 6th Block' 'Majestic' 'Langford Town'\n",
            " 'Central Bangalore' 'Sanjay Nagar' 'Brookefield'\n",
            " 'ITPL Main Road, Whitefield' 'Varthur Main Road, Whitefield'\n",
            " 'Koramangala 2nd Block' 'Koramangala 3rd Block' 'Koramangala 4th Block'\n",
            " 'Koramangala' 'Hosur Road' 'Rajajinagar' 'RT Nagar' 'Banaswadi'\n",
            " 'North Bangalore' 'Nagawara' 'Hennur' 'Kalyan Nagar' 'HBR Layout'\n",
            " 'Rammurthy Nagar' 'Thippasandra' 'Kaggadasapura' 'Hebbal' 'Kengeri'\n",
            " 'New BEL Road' 'Sankey Road' 'Malleshwaram' 'Sadashiv Nagar'\n",
            " 'Basaveshwara Nagar' 'Yeshwantpur' 'West Bangalore' 'Magadi Road'\n",
            " 'Yelahanka' 'Sahakara Nagar' 'Jalahalli' 'Nagarbhavi' 'Peenya' 'KR Puram']\n",
            "\n",
            "Data Type of location column is: object\n",
            "------------------------------------------------------------------------------------------\n",
            "Unique Values of rest_type column: ['Casual Dining' 'Cafe, Casual Dining' 'Quick Bites' 'Casual Dining, Cafe'\n",
            " 'Cafe' 'Quick Bites, Cafe' 'Cafe, Quick Bites' 'Delivery' 'Mess'\n",
            " 'Dessert Parlor' 'Bakery, Dessert Parlor' 'Pub' 'Bakery'\n",
            " 'Takeaway, Delivery' 'Fine Dining' 'Beverage Shop' 'Sweet Shop' 'Bar'\n",
            " 'Dessert Parlor, Sweet Shop' 'Bakery, Quick Bites'\n",
            " 'Sweet Shop, Quick Bites' 'Kiosk' 'Food Truck'\n",
            " 'Quick Bites, Dessert Parlor' 'Beverage Shop, Quick Bites'\n",
            " 'Beverage Shop, Dessert Parlor' 'Takeaway' 'Pub, Casual Dining'\n",
            " 'Casual Dining, Bar' 'Dessert Parlor, Beverage Shop'\n",
            " 'Quick Bites, Bakery' 'Microbrewery, Casual Dining' 'Lounge'\n",
            " 'Bar, Casual Dining' 'Food Court' 'Cafe, Bakery' 'Dhaba'\n",
            " 'Quick Bites, Sweet Shop' 'Microbrewery' 'Food Court, Quick Bites'\n",
            " 'Quick Bites, Beverage Shop' 'Pub, Bar' 'Casual Dining, Pub'\n",
            " 'Lounge, Bar' 'Dessert Parlor, Quick Bites' 'Food Court, Dessert Parlor'\n",
            " 'Casual Dining, Sweet Shop' 'Food Court, Casual Dining'\n",
            " 'Casual Dining, Microbrewery' 'Lounge, Casual Dining' 'Cafe, Food Court'\n",
            " 'Beverage Shop, Cafe' 'Cafe, Dessert Parlor' 'Dessert Parlor, Cafe'\n",
            " 'Dessert Parlor, Bakery' 'Microbrewery, Pub' 'Bakery, Food Court' 'Club'\n",
            " 'Quick Bites, Food Court' 'Bakery, Cafe' 'Pub, Cafe'\n",
            " 'Casual Dining, Irani Cafee' 'Fine Dining, Lounge' 'Bar, Quick Bites'\n",
            " 'Confectionery' 'Pub, Microbrewery' 'Microbrewery, Lounge'\n",
            " 'Fine Dining, Microbrewery' 'Fine Dining, Bar' 'Dessert Parlor, Kiosk'\n",
            " 'Bhojanalya' 'Casual Dining, Quick Bites' 'Cafe, Bar'\n",
            " 'Casual Dining, Lounge' 'Bakery, Beverage Shop' 'Microbrewery, Bar'\n",
            " 'Cafe, Lounge' 'Bar, Pub' 'Lounge, Cafe' 'Club, Casual Dining'\n",
            " 'Quick Bites, Mess' 'Quick Bites, Meat Shop' 'Quick Bites, Kiosk'\n",
            " 'Lounge, Microbrewery' 'Food Court, Beverage Shop'\n",
            " 'Dessert Parlor, Food Court' 'Bar, Lounge']\n",
            "\n",
            "Data Type of rest_type column is: object\n",
            "------------------------------------------------------------------------------------------\n",
            "Unique Values of cuisines column: ['North Indian, Mughlai, Chinese' 'Chinese, North Indian, Thai'\n",
            " 'Cafe, Mexican, Italian' ... 'Tibetan, Nepalese'\n",
            " 'North Indian, Street Food, Biryani'\n",
            " 'North Indian, Chinese, Arabian, Momos']\n",
            "\n",
            "Data Type of cuisines column is: object\n",
            "------------------------------------------------------------------------------------------\n",
            "Unique Values of cost column: ['800' '300' '600' '700' '550' '500' '450' '650' '400' '900' '200' '750'\n",
            " '150' '850' '100' '1,200' '350' '250' '950' '1,000' '1,500' '1,300' '199'\n",
            " '80' '1,100' '160' '1,600' '230' '130' '1,700' '1,400' '1,350' '2,200'\n",
            " '2,000' '1,800' '1,900' '180' '330' '2,500' '2,100' '3,000' '2,800'\n",
            " '3,400' '50' '40' '1,250' '3,500' '4,000' '2,400' '2,600' '1,450' '70'\n",
            " '3,200' '560' '240' '360' '6,000' '1,050' '2,300' '4,100' '120' '5,000'\n",
            " '3,700' '1,650' '2,700' '4,500']\n",
            "\n",
            "Data Type of cost column is: object\n",
            "------------------------------------------------------------------------------------------\n",
            "Unique Values of reviews_list column: ['[(\\'Rated 4.0\\', \\'RATED\\\\n  A beautiful place to dine in.The interiors take you back to the Mughal era. The lightings are just perfect.We went there on the occasion of Christmas and so they had only limited items available. But the taste and service was not compromised at all.The only complaint is that the breads could have been better.Would surely like to come here again.\\'), (\\'Rated 4.0\\', \\'RATED\\\\n  I was here for dinner with my family on a weekday. The restaurant was completely empty. Ambience is good with some good old hindi music. Seating arrangement are good too. We ordered masala papad, panner and baby corn starters, lemon and corrionder soup, butter roti, olive and chilli paratha. Food was fresh and good, service is good too. Good for family hangout.\\\\nCheers\\'), (\\'Rated 2.0\\', \\'RATED\\\\n  Its a restaurant near to Banashankari BDA. Me along with few of my office friends visited to have buffet but unfortunately they only provide veg buffet. On inquiring they said this place is mostly visited by vegetarians. Anyways we ordered ala carte items which took ages to come. Food was ok ok. Definitely not visiting anymore.\\'), (\\'Rated 4.0\\', \\'RATED\\\\n  We went here on a weekend and one of us had the buffet while two of us took Ala Carte. Firstly the ambience and service of this place is great! The buffet had a lot of items and the good was good. We had a Pumpkin Halwa intm the dessert which was amazing. Must try! The kulchas are great here. Cheers!\\'), (\\'Rated 5.0\\', \\'RATED\\\\n  The best thing about the place is itÃ\\x83\\\\x83Ã\\x82\\\\x83Ã\\x83\\\\x82Ã\\x82\\\\x82Ã\\x83\\\\x83Ã\\x82\\\\x82Ã\\x83\\\\x82Ã\\x82\\\\x92s ambiance. Second best thing was yummy ? food. We try buffet and buffet food was not disappointed us.\\\\nTest ?. ?? ?? ?? ?? ??\\\\nQuality ?. ??????????.\\\\nService: Staff was very professional and friendly.\\\\n\\\\nOverall experience was excellent.\\\\n\\\\nsubirmajumder85.wixsite.com\\'), (\\'Rated 5.0\\', \\'RATED\\\\n  Great food and pleasant ambience. Expensive but Coll place to chill and relax......\\\\n\\\\nService is really very very good and friendly staff...\\\\n\\\\nFood : 5/5\\\\nService : 5/5\\\\nAmbience :5/5\\\\nOverall :5/5\\'), (\\'Rated 4.0\\', \\'RATED\\\\n  Good ambience with tasty food.\\\\nCheese chilli paratha with Bhutta palak methi curry is a good combo.\\\\nLemon Chicken in the starters is a must try item.\\\\nEgg fried rice was also quite tasty.\\\\nIn the mocktails, recommend \"Alice in Junoon\". Do not miss it.\\'), (\\'Rated 4.0\\', \\'RATED\\\\n  You canÃ\\x83\\\\x83Ã\\x82\\\\x83Ã\\x83\\\\x82Ã\\x82\\\\x82Ã\\x83\\\\x83Ã\\x82\\\\x82Ã\\x83\\\\x82Ã\\x82\\\\x92t go wrong with Jalsa. Never been a fan of their buffet and thus always order alacarteÃ\\x83\\\\x83Ã\\x82\\\\x83Ã\\x83\\\\x82Ã\\x82\\\\x82Ã\\x83\\\\x83Ã\\x82\\\\x82Ã\\x83\\\\x82Ã\\x82\\\\x92. Service at times can be on the slower side but food is worth the wait.\\'), (\\'Rated 5.0\\', \\'RATED\\\\n  Overdelighted by the service and food provided at this place. A royal and ethnic atmosphere builds a strong essence of being in India and also the quality and taste of food is truly authentic. I would totally recommend to visit this place once.\\'), (\\'Rated 4.0\\', \\'RATED\\\\n  The place is nice and comfortable. Food wise all jalea outlets maintain a good standard. The soya chaap was a standout dish. Clearly one of trademark dish as per me and a must try.\\\\n\\\\nThe only concern is the parking. It very congested and limited to just 5cars. The basement parking is very steep and makes it cumbersome\\'), (\\'Rated 4.0\\', \\'RATED\\\\n  The place is nice and comfortable. Food wise all jalea outlets maintain a good standard. The soya chaap was a standout dish. Clearly one of trademark dish as per me and a must try.\\\\n\\\\nThe only concern is the parking. It very congested and limited to just 5cars. The basement parking is very steep and makes it cumbersome\\'), (\\'Rated 4.0\\', \\'RATED\\\\n  The place is nice and comfortable. Food wise all jalea outlets maintain a good standard. The soya chaap was a standout dish. Clearly one of trademark dish as per me and a must try.\\\\n\\\\nThe only concern is the parking. It very congested and limited to just 5cars. The basement parking is very steep and makes it cumbersome\\')]'\n",
            " '[(\\'Rated 4.0\\', \\'RATED\\\\n  Had been here for dinner with family. Turned out to be a good choose suitable for all ages of people. Can try this place. We liked the most was their starters. Service is good. Prices are affordable. Will recommend this restaurant for early dinner. The place is little noisy.\\'), (\\'Rated 3.0\\', \\'RATED\\\\n  The ambience is really nice, staff is courteous. The price is pretty high for the quantity, but overall the experience was fine. The quality of food is nice but nothing extraordinary. They also have buffet(only veg)\\'), (\\'Rated 3.0\\', \\'RATED\\\\n  I felt good is little expensive for the quantity they serve and In terms of taste is decent. There is nothing much to talk about the ambience, regular casual dining restaurant where you can take your family for dinner or lunch. If they improve on that quantity or may be reduce the price a bit or may be improve the presentation of the food it might Manage to get more repeat customers.\\'), (\\'Rated 4.0\\', \\'RATED\\\\n  I was looking for a quite place to spend some time with family and as well wanted to try some new place. Since I was at Banashankari I thought of trying this place. The place had good rating and was part of Zomato gold. So I decided to try this place. It was a delite to see a very friendly staff and food we ordered was very tasty as well.\\\\n\\\\nFood : 4/5\\\\nAmbience :3/5\\\\nFriendly staff : 4/5\\\\nPocket friendly : 4/5\\\\n\\\\nWill definitely visit again ??\\'), (\\'Rated 4.0\\', \"RATED\\\\n  Nice place to dine and has a good ambiance... Food is good and the serving time is also good..neat restrooms and we\\'ll arranged tables....only thing is we went at 12.30 for lunch...and we noticed that they kept on playing one music back to back which was a little annoying...\\\\n\\\\n1. Chicken biriyani was so good and the chicken was fresh and tender ,rice was well cooked and overall was great\\\\n\\\\n2. Mutton biriyani was very very good and tasty and It had plenty of mutton pieces...\"), (\\'Rated 5.0\\', \\'RATED\\\\n  This place just cool ? with good ambience and slow music and having delicious food is where you find peace. Staff very friendly and they have maintained the place so clean. The price is average for what the quantity of food they serve.\\\\nThom yum Thai soup was best and was treat to mouth, roti was soft with that vilaythi paneer was perfect to have for veggie foodies, in rice we tried burnt garlic fried rice with vegetables and it was the perfect thing to end.\\'), (\\'Rated 4.0\\', \"RATED\\\\n  Quiet a good family type of place.. too calm and usually we don\\'t find crowd here.. panner curry and the deserts is what we had tasted.. they wer really good but we found it a little expensive\"), (\\'Rated 2.0\\', \"RATED\\\\n  I had a very bad experience here.\\\\nI don\\'t know about a la carte, but the buffet was the worst. They gave us complementary drink and momos before the buffet. The momos were really good.\\\\nThe number of varieties first of all was very disappointing. The service was very slow. They refilled the food very slowly. The starters were okay. The main course also was so so. There was two gravies with roti and some rice with raitha. They had chats, sev puri and pan puri, which was average. But the desert was disappointing. They had gulab Jamun and chocolate cake. The jamun was not cooked inside. There was a cold blob of raw dough inside. The chocolate cake also was really hard and not that good.\\\\nOverall the buffet was a bad experience for me.\"), (\\'Rated 4.0\\', \"RATED\\\\n  Food: 8/10\\\\nAmbience:8/10\\\\nStaff:8/10\\\\nOne of the good places to try north Indian food...but depends on ur taste buds. Not everyone will like all the items here. Specially when u r particular abt sweet and spicy food.\\\\nThere\\'s buffet available too.\\\\nWe had ordered paneer uttar dakshin and paneer kurchan..was amazing. The Gobi hara pyaz and mix veg were average.\"), (\\'Rated 3.0\\', \\'RATED\\\\n  A decent place for a family lunch or dinner.. well arranged in a simple manner. Food was tasty and the crew was very helpful and understanding..\\'), (\\'Rated 4.0\\', \"RATED\\\\n  Great place to have a heavy lunch. Good service.\\\\nThe chicken biryani was undoubtedly one of the best I\\'ve had. Biriyani and Lassi would be the suggested combo. Buffet is the talk of the place, so try according to your appetite. A nice place.\"), (\\'Rated 4.0\\', \\'RATED\\\\n  Its the one restaurant near katriguppe that i found was really good. Good variety of Chinese and thai dishes. Service is good and good place to hangout with family as its a peaceful place where noise is really less and good view.\\'), (\\'Rated 2.0\\', \"RATED\\\\n  Spice elephant soup SPL: almost manchow flavour soup.. Just above medium spicy\\\\n\\\\nLasooni fish tikka was awesome\\\\n\\\\nI don\\'t remember the dessert name but I have attached the photo .. It had vanilla ice inside wafers... Wafer was hell hard, egg smell chewy ... Nightmare dessert !\\\\n\\\\nTable leg space was very bad... I was so uncomfortable, the whole time kept on adjusting my legs\\\\n\\\\nNo parking\\\\n\\\\nFor the taste felt this is too costly\"), (\\'Rated 4.0\\', \\'RATED\\\\n  Zomato gold partner at this price. It was insane. They have really nice food. small place with very courteous staff and very cheap food for this ambience. Cost of soups is 80-100. Starters from 150-250. Main course 200-300. Cost for two was 800 for us.\\')]'\n",
            " '[(\\'Rated 3.0\\', \"RATED\\\\n  Ambience is not that good enough and it\\'s not a pocket friendly cafe and the quantity is not that good and desserts are too good enough ??..\"), (\\'Rated 3.0\\', \"RATED\\\\n \\\\nWent there for a quick bite with friends.\\\\nThe ambience had more of corporate feel. I would say it was unique.\\\\nTried nachos, pasta churros and lasagne.\\\\n\\\\nNachos were pathetic.( Seriously don\\'t order)\\\\nPasta was okayish.\\\\nLasagne was good.\\\\nNutella churros were the best.\\\\nOverall an okayish experience!\\\\nPeace ??\"), (\\'Rated 4.0\\', \"RATED\\\\n  First of all, a big thanks to the staff of this Cafe. Very polite and courteous.\\\\n\\\\nI was there 15mins before their closing time. Without any discomfort or hesitation, the staff welcomed me with a warm smile and said they\\'re still open, though they were preparing to close the cafe for the day.\\\\n\\\\nQuickly ordered the Thai green curry, which is served with rice. They got it for me within 10mins, hot and freshly made.\\\\n\\\\nIt was tasty with the taste of coconut milk. Not very spicy, it was mild spicy.\\\\n\\\\nI saw they had yummy looking dessert menu, should go there to try them out!\\\\n\\\\nA good spacious place to hang out for coffee, pastas, pizza or Thai food.\"), (\\'Rated 3.0\\', \"RATED\\\\n  A place for people who love churos. Otherwise it\\'s a normal simple cafe like any other in town . Can go and spend the evening there . The positive being it is one of the better cafes in and around Banashankari and also the place is not very crowded .\"), (\\'Rated 3.0\\', \\'RATED\\\\n  Have been visiting this place since years. The quality has gone down drastically. Food quality has become very average from good. Service is also very bad of late.\\'), (\\'Rated 1.0\\', \\'RATED\\\\n  Really disappointed with the place.\\\\n\\\\nSeems like a old dusty store room stacked up with old sofas and chairs! The decor is soo disappointing that I cannot put it in words!\\\\nLastly the food was cherry on the cake to make it a complete worse meal.\\\\n\\\\nThis place is the last option you should ever consider.\\'), (\\'Rated 3.0\\', \\'RATED\\\\n  Congested atmosphere due to smoke from kitchen\\\\nAmbience was k\\\\nService was k .\\\\nChuros was a new experience recommended\\\\nNear to kims . Parking was not der\\'), (\\'Rated 1.0\\', \"RATED\\\\n  Cockroaches !! I Repeat cockroaches!!Bakasura was disappointed.\\\\nBeing in Banashankari, being a gold outlet and nesting them? who can even think of that. Thankfully it wasn\\'t over bakasura\\'s plate. The ambience was last cleaned a decade back i guess. A cockroach just walked over our table. As it was alive, and well moving , the bakasura couldnt take a pic of it. Then the staff had to actually take it out of our table. Such ambience ? like what are you upto?\\\\n\\\\nBakasura disapproves. I dont even want to talk about the food.\"), (\\'Rated 4.0\\', \\'RATED\\\\n  A nice place to hangout, this place looks professional and also cute. If anyone is trying churros for the first the time, this is the place to go. Cheesecake is pretty amazing too.\\\\nRecommended.\\'), (\\'Rated 4.0\\', \\'RATED\\\\n  1) pizza mocktails shakes and churros really very good\\\\n2) staff good\\\\n3) ambience simple and nice good\\\\n4) location of San churro cafe very nice\\\\n5) over San churro cafe good....\\'), (\\'Rated 3.0\\', \"RATED\\\\n  One of my favourite places that I often visit in South bangalore , but quality has been reduced than before. Little unhappy with the food this time.\\\\nBut their churros never dissapointed me. Staff are too slow and do not respond easily.\\\\n\\\\nSoups:\\\\nMinestrone soup was like vegetable stock water with vegetables in it, not happy with it.\\\\n\\\\nChurros :\\\\nIt was great as usual. A must visit place if u love churros.\\\\n\\\\nStarters:\\\\n1. Africano panner -\\\\nIt was bit sweet and not happy with the dish!!\\\\n2. Loaded nachos -\\\\nThis happened to be their one of the best dishes, but now I take back my words. Very dissapointed with the dish.\\\\n\\\\nMain course:\\\\nsicilia pizza\\\\nPizza was too good, it\\'s a must try dish.\\\\n\\\\nFinally I would recommend this place for churros and pizza .\\\\n\\\\nTaste : 6/10\\\\nAmbience :7/10\\\\nValue for money : 8/10\\\\n\\\\nOverall experience : 7.5/10\"), (\\'Rated 4.0\\', \\'RATED\\\\n  Visited this place long before, place come to.notice with the decoration lights outside the cafe. We ordered churos, pizza and hot chocolate, all were good just I little priced more.\\'), (\\'Rated 4.0\\', \\'RATED\\\\n  Spain pictures of Churros triggered Nostalgia about it , which led to Google search for Churro places in city , lucky we to get the result as San Churro cafe , we had an delectable churros here along with hot chocolate and Nachos ! Thanks for fulfilling our thirst of Spanish Churros !\\\\nFood : ???\\\\nChurros ???\\\\nHot Chocolate ?\\\\nNachos ??\\\\n\\\\nService : ??\\\\n\\\\nAmbiance : ?\\\\n\\\\nCleanliness : ??\\\\n\\\\nOne drawback : Store had some flies, I hope they take care of them for our next tour ?\\'), (\\'Rated 3.0\\', \\'RATED\\\\n  Ã\\x83\\\\x83Ã\\x82\\\\x83Ã\\x83\\\\x82Ã\\x82\\\\x82Ã\\x83\\\\x83Ã\\x82\\\\x82Ã\\x83\\\\x82Ã\\x82\\\\x93Chocolaty and churroic experienceÃ\\x83\\\\x83Ã\\x82\\\\x83Ã\\x83\\\\x82Ã\\x82\\\\x82Ã\\x83\\\\x83Ã\\x82\\\\x82Ã\\x83\\\\x82Ã\\x82\\\\x94\\\\n\\\\nHit chocolate and churro with chocolate dip in the picture.\\\\n\\\\nMy first time at this restaurant and it has delivered in service, options as well as taste.\\'), (\\'Rated 4.0\\', \\'RATED\\\\n  Though very sadly the place looks in need of retouching, but the food was great! Especially when it was super cold outside and we were super hungry, the staff was nice. We ordered the pink pasta and a pizza. Both of them were pretty good. Was really tempted to try their Churros but we were stuffed. Worth a visit and try for sure!\\'), (\\'Rated 3.0\\', \"RATED\\\\n  Churros, the restaurant\\'s eponymous offering, has to be tried. They\\'re a Mexican snack and served with chocolate sauce. Milkshakes are good too. The interior walls have murals and writings all over. Haven\\'t tried the pizzas here but the cakes and pastries were pretty good.\"), (\\'Rated 3.0\\', \"RATED\\\\n  Honestly, have only tried parcels and that too only starters and mains - never tried desserts. So this review is based on starters and mains only. The quality wasn\\'t all that great, was pretty average.\"), (\\'Rated 4.0\\', \"RATED\\\\n  Visited this place for the first time, recently. The ambience was pretty good. We ordered two \\'churros for two\\'. Having churros for the first time ever, I was way too excited and judgmental. But swear to Lord, the churros were heavenly! The chocolate sauce was the actual chocolate sauce and not nutella xD We had taken the Cross Country Ranch pizza. It was a thin crust pizza loaded with veggies.\\\\nThe place is famous for churros (the name suggests so). I would love to visit again to try all the other items out :\\')\"), (\\'Rated 4.0\\', \\'RATED\\\\n  I love the desserts more than anything here !Good place and well served !:)\\\\nWe dint like the nachos here , it was not that good as we expected !\\\\nExcept nachos almost all dish were quite good!\\'), (\\'Rated 2.0\\', \"RATED\\\\n  2nd time I have visited this place and I am surprised to see how it has declined. Churros was hard, pizza was pathetic, loaded nachos and masala Garlic bread were topped with cheese with MAYO! Yes mayonnese.. Soup has the bread crumbs in almost melted state, mocktails were average and our only Savior was pasta and caramel pudding... This place has high potential but let down by dull ambience, pretty slow and inattentive staff. Buffet price was listed as 399 but was charged 499, We still went ahead and took the deal to be very disappointed!! Most dishes were freshly cooked hence going with some starts else would rate them lower. I did not find a single person who seemed happy with their meal as moat complained about one thing or the other. That\\'ll be my last visit San Churros.\")]'\n",
            " ...\n",
            " '[(\\'Rated 2.0\\', \"RATED\\\\n  We went out to this place little late on Friday evening... We got the table outside which literally gave us the feeling as if we are no where in the restaurant.\\\\nWe asked them to shift us inside as soon as any table is available, but despite table being available they couldn\\'t manage that.\\\\n\\\\nService was very very slow... For every order we have to remind them multiple times... Even for beer I don\\'t k ow why do take lot of time.\\\\n\\\\nWe ordered few starters like veg nachos, peanut masala, pizza and chicken wings... Which was ok.. Nit bad and not very good also.\\\\n\\\\nOverall rating.. 2/5\"), (\\'Rated 5.0\\', \\'RATED\\\\n  An clam and chilling out place with floks.... service was very politely presented by chef keshar and sam,,,where they suggested an amazing pizza which was absolutely marvellous,,,which went a good combination with chilled beer and cocktail....Thanks chef for making our food super delicious,,,Ã\\x83\\\\x83Ã\\x82\\\\x83Ã\\x83\\\\x82Ã\\x82\\\\x83Ã\\x83\\\\x83Ã\\x82\\\\x82Ã\\x83\\\\x82Ã\\x82Â°Ã\\x83\\\\x83Ã\\x82\\\\x83Ã\\x83\\\\x82Ã\\x82\\\\x82Ã\\x83\\\\x83Ã\\x82\\\\x82Ã\\x83\\\\x82Ã\\x82\\\\x9fÃ\\x83\\\\x83Ã\\x82\\\\x83Ã\\x83\\\\x82Ã\\x82\\\\x82Ã\\x83\\\\x83Ã\\x82\\\\x82Ã\\x83\\\\x82Ã\\x82\\\\x98Ã\\x83\\\\x83Ã\\x82\\\\x83Ã\\x83\\\\x82Ã\\x82\\\\x82Ã\\x83\\\\x83Ã\\x82\\\\x82Ã\\x83\\\\x82Ã\\x82\\\\x8dÃ\\x83\\\\x83Ã\\x82\\\\x83Ã\\x83\\\\x82Ã\\x82\\\\x83Ã\\x83\\\\x83Ã\\x82\\\\x82Ã\\x83\\\\x82Ã\\x82Â°Ã\\x83\\\\x83Ã\\x82\\\\x83Ã\\x83\\\\x82Ã\\x82\\\\x82Ã\\x83\\\\x83Ã\\x82\\\\x82Ã\\x83\\\\x82Ã\\x82\\\\x9fÃ\\x83\\\\x83Ã\\x82\\\\x83Ã\\x83\\\\x82Ã\\x82\\\\x82Ã\\x83\\\\x83Ã\\x82\\\\x82Ã\\x83\\\\x82Ã\\x82\\\\x98Ã\\x83\\\\x83Ã\\x82\\\\x83Ã\\x83\\\\x82Ã\\x82\\\\x82Ã\\x83\\\\x83Ã\\x82\\\\x82Ã\\x83\\\\x82Ã\\x82\\\\x8dThis place have beautiful ambience of smoke zone..loved it!!!!!\\'), (\\'Rated 4.0\\', \"RATED\\\\n  There\\'s more to this place than just beer!\\\\nThat\\'s true.\\\\nI visited this place on a weekday for lunch and found it to be all empty and quite which is quite contrary to the buzzing environment I\\'m generally used on weekends. My order included:\\\\nNachos for starters\\\\nVeg Platter(onion rings, spring rolls and honey chilli potatoes) for starters\\\\nPeppy Paneer pizza\\\\nEgg biryani for main course\\\\nI loved how the outer single layer of the egg was friend and make crispy,it was just perfect.\\\\nPortion was good and all the dishes were fresh n tasty.\\\\nMust visit!\\\\nbon appÃ\\x83\\\\x83Ã\\x82\\\\x83Ã\\x83\\\\x82Ã\\x82\\\\x83Ã\\x83\\\\x83Ã\\x82\\\\x82Ã\\x83\\\\x82Ã\\x82\\\\x83Ã\\x83\\\\x83Ã\\x82\\\\x83Ã\\x83\\\\x82Ã\\x82\\\\x82Ã\\x83\\\\x83Ã\\x82\\\\x82Ã\\x83\\\\x82Ã\\x82Â©tit :)\"), (\\'Rated 5.0\\', \\'RATED\\\\n  On a lazy sunday afternoon, I was craving for a good pizza..but most of my friends were out of town... I opened zomato and this restaurant just popped up.. I ordered chicken supreme pizza... oh boy! one of the best pizzas I have had.. thin crust, succulent chicken pieces generously strewn and wonderfully packed.. Thanks Beer Cafe for making such awesome pizzas and Thank you Zomato for delivering the same.. Will I order/visit again?? Ofcourse!!!!!!!!!!!!!!!!!!!!!!!!!!!!\\'), (\\'Rated 3.0\\', \"RATED\\\\n  The ambiance was pretty cool. Ordered some of their pizza varieties which I didn\\'t like much. Also had coke glass which again didn\\'t feel even like the original one.. Not chilled. Of course, it\\'s a beer cafe and I\\'m sure they would be providing nice beer and definitely the ambiance is something that one would wanna go there.\"), (\\'Rated 3.0\\', \"RATED\\\\n  Beer cafe located to vr mall, Whitefield. Its my favourite place to hangout with my friends, outside setting area is nice, but lots of mosquito, you cant seat outside but indoor its nice, food was good, talking bout service we are not happy for service , we called 2 or 3 times, i don\\'t know where they will busy, they didn\\'t came, after that my friend called again that time one guy is came nd took my order, overall all is fine.\"), (\\'Rated 3.0\\', \\'RATED\\\\n  Went for a quick bite n drinks...was planning to go from long time, n finally made it..the place is small n nice...I found the sitting arrangements really conjusted...too much crowded at Sunday night..waited for 10 to 15 mins to get a table...Good thing about the place is they take orders till late night...\\\\n\\\\nWell coming to the food...food options is not much...we ordered chicken nachos n barbeque chicken wings with some beer...food taste was average not that great..\\\\n\\\\nService is very slow..no one is interested to take the orders...no one there to serve water also...kitchen was also too slow...have to wait for half n hr for getting food...really annoying...n on the top of that you will not see any service guys around...\\\\n\\\\nOverall an okay experience...dint like their service at all...\\'), (\\'Rated 4.0\\', \\'RATED\\\\n  They have Geist on Tap, lovely selection of beer and and both indoor and Outdoor seating, including a smoking area.  For me, the food here is a big surprise and pretty darn good. Everything I had here impressed me, including the quantity and taste. I would never imagine having a Biryani at a pub, but I did try it here, and Voila, it was really yummy.\\\\n\\\\nDo try the beer braised trio chicken, the hariyali chicken tangri and the calcutta style chilli chicken, You will not regret it. Add Zomato Gold to that, and you have a winner!\\\\n\\\\ntheuncliched.com\\'), (\\'Rated 5.0\\', \\'RATED\\\\n  Amazing food. The food is so appealing and tasty that it will get over with few minutes. Must try tgere chicken nachos amazing. The ambiance is nice. Suited both for friends and family. Too good beer.\\'), (\\'Rated 4.0\\', \"RATED\\\\n  #Best place for hangout with friends. Specially in weekend.\\\\nService is good. But I didn\\'t like their beer taste. So I think they have to give good quality beer.\\\\nStaters quality and quantity was super. I had tried nacos . If you like then you try it.\"), (\\'Rated 3.0\\', \"RATED\\\\n  The kitchen is slow on a Sunday Night, with any food item taking about more than 30 mins, the servers appear helpless in this situation.\\\\n\\\\nChilli Paneer - don\\'t recommend not cooked well.Dahi Pakoda - this was decent and worth a try.\\\\nBeer as always is good.\"), (\\'Rated 4.0\\', \"RATED\\\\n  The ambience of the place is good. You have outdoor as well as indoor seatings available.\\\\nComing to the service and staff, it is great and the staff is quite friendly.\\\\nFor drinks, we ordered a mug of Budweiser. One of the best beers we have had. Pretty chilled and tasted amazing.\\\\nFor food, we ordered a plate of veg nachos and hariyali chicken tangri. Both of them were good.\\\\n\\\\nThis is the go-to place if you\\'re tired and really want to chill.\"), (\\'Rated 3.0\\', \\'RATED\\\\n  The Beer Cafe probably has one of the largest selections of bottled beers. Their courtyard seating is always buzzing with activity. The interior seating however seems a little crammed especially so with the tables close to the door.\\\\n\\\\nI was happy to see the Geist craft beer. It was refreshing and cold. We just wanted some bar food to go with the beer. The classic wings had a vinegary sourness to them and the calcutta chilli chicken had a strong dose of ketchup.\\\\n\\\\nAmbiance 4/5\\\\nFood 2/5\\\\nBeer 4/5\\\\nBeer Selection 5/5\\\\nService 3/5\\'), (\\'Rated 4.0\\', \\'RATED\\\\n  Nice and quite place to chillout with nice ambience. Staff is polite and professional. Will definitely come back and is recommended. Keep up the good work.\\'), (\\'Rated 4.0\\', \\'RATED\\\\n  Often end up here whenever I am in the vicinity solely for the foodÃ\\x83\\\\x83Ã\\x82\\\\x83Ã\\x83\\\\x82Ã\\x82\\\\x83Ã\\x83\\\\x83Ã\\x82\\\\x82Ã\\x83\\\\x82Ã\\x82Â°Ã\\x83\\\\x83Ã\\x82\\\\x83Ã\\x83\\\\x82Ã\\x82\\\\x82Ã\\x83\\\\x83Ã\\x82\\\\x82Ã\\x83\\\\x82Ã\\x82\\\\x9fÃ\\x83\\\\x83Ã\\x82\\\\x83Ã\\x83\\\\x82Ã\\x82\\\\x82Ã\\x83\\\\x83Ã\\x82\\\\x82Ã\\x83\\\\x82Ã\\x82\\\\x98Ã\\x83\\\\x83Ã\\x82\\\\x83Ã\\x83\\\\x82Ã\\x82\\\\x82Ã\\x83\\\\x83Ã\\x82\\\\x82Ã\\x83\\\\x82Ã\\x82\\\\x80 . Have tried their garden fresh pizza, chicken makhani platter and burger sliders.\\\\nThe food was really tasty. Worth a visit if around.\\\\nSeating place is ideal for small groups only .\\'), (\\'Rated 4.0\\', \\'RATED\\\\n  A nice place for beer lovers.\\\\nGreat ambiance, outdoor and indoor seating is available. Food was good. We ordered Dal Makhani, one burgers combo, a beer and lime soda.\\\\nThe food was good. Service was good, and the bill was good too, thanks to Zomato gold.\\\\nOverall a great place to catch up for small groups.\\'), (\\'Rated 3.0\\', \\'RATED\\\\n  The Beer Cafe probably has one of the largest selections of bottled beers. Their courtyard seating is always buzzing with activity. The interior seating however seems a little crammed especially so with the tables close to the door.\\\\n\\\\nI was happy to see the Geist craft beer. It was refreshing and cold. We just wanted some bar food to go with the beer. The classic wings had a vinegary sourness to them and the calcutta chilli chicken had a strong dose of ketchup.\\\\n\\\\nAmbiance 4/5\\\\nFood 2/5\\\\nBeer 4/5\\\\nBeer Selection 5/5\\\\nService 3/5\\'), (\\'Rated 4.0\\', \\'RATED\\\\n  Nice and quite place to chillout with nice ambience. Staff is polite and professional. Will definitely come back and is recommended. Keep up the good work.\\'), (\\'Rated 4.0\\', \\'RATED\\\\n  Often end up here whenever I am in the vicinity solely for the foodÃ\\x83\\\\x83Ã\\x82\\\\x83Ã\\x83\\\\x82Ã\\x82\\\\x83Ã\\x83\\\\x83Ã\\x82\\\\x82Ã\\x83\\\\x82Ã\\x82Â°Ã\\x83\\\\x83Ã\\x82\\\\x83Ã\\x83\\\\x82Ã\\x82\\\\x82Ã\\x83\\\\x83Ã\\x82\\\\x82Ã\\x83\\\\x82Ã\\x82\\\\x9fÃ\\x83\\\\x83Ã\\x82\\\\x83Ã\\x83\\\\x82Ã\\x82\\\\x82Ã\\x83\\\\x83Ã\\x82\\\\x82Ã\\x83\\\\x82Ã\\x82\\\\x98Ã\\x83\\\\x83Ã\\x82\\\\x83Ã\\x83\\\\x82Ã\\x82\\\\x82Ã\\x83\\\\x83Ã\\x82\\\\x82Ã\\x83\\\\x82Ã\\x82\\\\x80 . Have tried their garden fresh pizza, chicken makhani platter and burger sliders.\\\\nThe food was really tasty. Worth a visit if around.\\\\nSeating place is ideal for small groups only .\\'), (\\'Rated 4.0\\', \\'RATED\\\\n  A nice place for beer lovers.\\\\nGreat ambiance, outdoor and indoor seating is available. Food was good. We ordered Dal Makhani, one burgers combo, a beer and lime soda.\\\\nThe food was good. Service was good, and the bill was good too, thanks to Zomato gold.\\\\nOverall a great place to catch up for small groups.\\'), (\\'Rated 3.0\\', \\'RATED\\\\n  The Beer Cafe probably has one of the largest selections of bottled beers. Their courtyard seating is always buzzing with activity. The interior seating however seems a little crammed especially so with the tables close to the door.\\\\n\\\\nI was happy to see the Geist craft beer. It was refreshing and cold. We just wanted some bar food to go with the beer. The classic wings had a vinegary sourness to them and the calcutta chilli chicken had a strong dose of ketchup.\\\\n\\\\nAmbiance 4/5\\\\nFood 2/5\\\\nBeer 4/5\\\\nBeer Selection 5/5\\\\nService 3/5\\'), (\\'Rated 4.0\\', \\'RATED\\\\n  Nice and quite place to chillout with nice ambience. Staff is polite and professional. Will definitely come back and is recommended. Keep up the good work.\\'), (\\'Rated 4.0\\', \\'RATED\\\\n  Often end up here whenever I am in the vicinity solely for the foodÃ\\x83\\\\x83Ã\\x82\\\\x83Ã\\x83\\\\x82Ã\\x82\\\\x83Ã\\x83\\\\x83Ã\\x82\\\\x82Ã\\x83\\\\x82Ã\\x82Â°Ã\\x83\\\\x83Ã\\x82\\\\x83Ã\\x83\\\\x82Ã\\x82\\\\x82Ã\\x83\\\\x83Ã\\x82\\\\x82Ã\\x83\\\\x82Ã\\x82\\\\x9fÃ\\x83\\\\x83Ã\\x82\\\\x83Ã\\x83\\\\x82Ã\\x82\\\\x82Ã\\x83\\\\x83Ã\\x82\\\\x82Ã\\x83\\\\x82Ã\\x82\\\\x98Ã\\x83\\\\x83Ã\\x82\\\\x83Ã\\x83\\\\x82Ã\\x82\\\\x82Ã\\x83\\\\x83Ã\\x82\\\\x82Ã\\x83\\\\x82Ã\\x82\\\\x80 . Have tried their garden fresh pizza, chicken makhani platter and burger sliders.\\\\nThe food was really tasty. Worth a visit if around.\\\\nSeating place is ideal for small groups only .\\'), (\\'Rated 4.0\\', \\'RATED\\\\n  A nice place for beer lovers.\\\\nGreat ambiance, outdoor and indoor seating is available. Food was good. We ordered Dal Makhani, one burgers combo, a beer and lime soda.\\\\nThe food was good. Service was good, and the bill was good too, thanks to Zomato gold.\\\\nOverall a great place to catch up for small groups.\\'), (\\'Rated 3.0\\', \\'RATED\\\\n  The Beer Cafe probably has one of the largest selections of bottled beers. Their courtyard seating is always buzzing with activity. The interior seating however seems a little crammed especially so with the tables close to the door.\\\\n\\\\nI was happy to see the Geist craft beer. It was refreshing and cold. We just wanted some bar food to go with the beer. The classic wings had a vinegary sourness to them and the calcutta chilli chicken had a strong dose of ketchup.\\\\n\\\\nAmbiance 4/5\\\\nFood 2/5\\\\nBeer 4/5\\\\nBeer Selection 5/5\\\\nService 3/5\\'), (\\'Rated 4.0\\', \\'RATED\\\\n  Nice and quite place to chillout with nice ambience. Staff is polite and professional. Will definitely come back and is recommended. Keep up the good work.\\'), (\\'Rated 4.0\\', \\'RATED\\\\n  Often end up here whenever I am in the vicinity solely for the foodÃ\\x83\\\\x83Ã\\x82\\\\x83Ã\\x83\\\\x82Ã\\x82\\\\x83Ã\\x83\\\\x83Ã\\x82\\\\x82Ã\\x83\\\\x82Ã\\x82Â°Ã\\x83\\\\x83Ã\\x82\\\\x83Ã\\x83\\\\x82Ã\\x82\\\\x82Ã\\x83\\\\x83Ã\\x82\\\\x82Ã\\x83\\\\x82Ã\\x82\\\\x9fÃ\\x83\\\\x83Ã\\x82\\\\x83Ã\\x83\\\\x82Ã\\x82\\\\x82Ã\\x83\\\\x83Ã\\x82\\\\x82Ã\\x83\\\\x82Ã\\x82\\\\x98Ã\\x83\\\\x83Ã\\x82\\\\x83Ã\\x83\\\\x82Ã\\x82\\\\x82Ã\\x83\\\\x83Ã\\x82\\\\x82Ã\\x83\\\\x82Ã\\x82\\\\x80 . Have tried their garden fresh pizza, chicken makhani platter and burger sliders.\\\\nThe food was really tasty. Worth a visit if around.\\\\nSeating place is ideal for small groups only .\\'), (\\'Rated 4.0\\', \\'RATED\\\\n  A nice place for beer lovers.\\\\nGreat ambiance, outdoor and indoor seating is available. Food was good. We ordered Dal Makhani, one burgers combo, a beer and lime soda.\\\\nThe food was good. Service was good, and the bill was good too, thanks to Zomato gold.\\\\nOverall a great place to catch up for small groups.\\'), (\\'Rated 4.0\\', \"RATED\\\\n  Tired from all the shopping that you\\'ve done?? Worry not .. you can simply stroll into this place located right inside the VR mall. They have a seating arrangement outside the restaurant as well so you can happily chomp away your food while breathing in fresh air.\\\\nThe pepperoni pizza we ordered was hot, fresh and crisp. The service was pretty quick and the ambience was pretty cool as well.\\\\nHad a good experience here and would definitely want to revisit !\"), (\\'Rated 4.0\\', \"RATED\\\\n  Lovely place, must visit if you are visiting VR mall, cool ambience, scrumptious food, descent drinks and friendly staff. A must try dish is the hulk(veg platter) .Only thing I am not liking is the space here, it\\'s small cafe and the sitting area is not that comfortable.\"), (\\'Rated 3.0\\', \\'RATED\\\\n  Food- we were a group of 9 people and ordered the following- andey ka funda(well made, high salt content though. It was egg Bhurji on top of toast. Chicken wings- well made, kohliwada fried chicken- Overfried and due to this it became little bitter. Pasta arabiata lacked the taste. Too tangy for the palette.\\\\nAmbience- pretty similar like church street social furnitureÃ\\x83\\\\x83Ã\\x82\\\\x83Ã\\x83\\\\x82Ã\\x82\\\\x83Ã\\x83\\\\x83Ã\\x82\\\\x82Ã\\x83\\\\x82Ã\\x82Â¢Ã\\x83\\\\x83Ã\\x82\\\\x83Ã\\x83\\\\x82Ã\\x82\\\\x82Ã\\x83\\\\x83Ã\\x82\\\\x82Ã\\x83\\\\x82Ã\\x82\\\\x80Ã\\x83\\\\x83Ã\\x82\\\\x83Ã\\x83\\\\x82Ã\\x82\\\\x82Ã\\x83\\\\x83Ã\\x82\\\\x82Ã\\x83\\\\x82Ã\\x82\\\\x99s.. wood and steel.\\\\nCustomer service- Pretty slow. We had remind them 3 times to get the food as there were kids who were hungry\\\\nValue for money- Moderate. No idea why do they keep service charge inspire of governmentÃ\\x83\\\\x83Ã\\x82\\\\x83Ã\\x83\\\\x82Ã\\x82\\\\x83Ã\\x83\\\\x83Ã\\x82\\\\x82Ã\\x83\\\\x82Ã\\x82Â¢Ã\\x83\\\\x83Ã\\x82\\\\x83Ã\\x83\\\\x82Ã\\x82\\\\x82Ã\\x83\\\\x83Ã\\x82\\\\x82Ã\\x83\\\\x82Ã\\x82\\\\x80Ã\\x83\\\\x83Ã\\x82\\\\x83Ã\\x83\\\\x82Ã\\x82\\\\x82Ã\\x83\\\\x83Ã\\x82\\\\x82Ã\\x83\\\\x82Ã\\x82\\\\x99s mandate of 5% gst. Once you remind them then they say, upto you if you would like to pay or not. ItÃ\\x83\\\\x83Ã\\x82\\\\x83Ã\\x83\\\\x82Ã\\x82\\\\x83Ã\\x83\\\\x83Ã\\x82\\\\x82Ã\\x83\\\\x82Ã\\x82Â¢Ã\\x83\\\\x83Ã\\x82\\\\x83Ã\\x83\\\\x82Ã\\x82\\\\x82Ã\\x83\\\\x83Ã\\x82\\\\x82Ã\\x83\\\\x82Ã\\x82\\\\x80Ã\\x83\\\\x83Ã\\x82\\\\x83Ã\\x83\\\\x82Ã\\x82\\\\x82Ã\\x83\\\\x83Ã\\x82\\\\x82Ã\\x83\\\\x82Ã\\x82\\\\x99s a nice way of minting money from the customers\\'), (\\'Rated 3.0\\', \\'RATED\\\\n  Food : 3/5\\\\nDrinks : 4/5\\\\nService : 3/5\\\\nAmbiance : 4/5\\\\nValue for money : 3.5/5\\\\n\\\\nBeen here on a sunday evening. They didnt have place to be seated due to rain outside and too much crowd inside, but we were seated within 5mins. The servers were not able to provide service as we hoped. We had to ask them to get things like tissues, spoons, water. Overall we had nice time but it would have been better if servers were paying more attention to their customers.\\'), (\\'Rated 4.0\\', \"RATED\\\\n  Tired from all the shopping that you\\'ve done?? Worry not .. you can simply stroll into this place located right inside the VR mall. They have a seating arrangement outside the restaurant as well so you can happily chomp away your food while breathing in fresh air.\\\\nThe pepperoni pizza we ordered was hot, fresh and crisp. The service was pretty quick and the ambience was pretty cool as well.\\\\nHad a good experience here and would definitely want to revisit !\"), (\\'Rated 4.0\\', \"RATED\\\\n  Lovely place, must visit if you are visiting VR mall, cool ambience, scrumptious food, descent drinks and friendly staff. A must try dish is the hulk(veg platter) .Only thing I am not liking is the space here, it\\'s small cafe and the sitting area is not that comfortable.\"), (\\'Rated 3.0\\', \\'RATED\\\\n  Food- we were a group of 9 people and ordered the following- andey ka funda(well made, high salt content though. It was egg Bhurji on top of toast. Chicken wings- well made, kohliwada fried chicken- Overfried and due to this it became little bitter. Pasta arabiata lacked the taste. Too tangy for the palette.\\\\nAmbience- pretty similar like church street social furnitureÃ\\x83\\\\x83Ã\\x82\\\\x83Ã\\x83\\\\x82Ã\\x82\\\\x83Ã\\x83\\\\x83Ã\\x82\\\\x82Ã\\x83\\\\x82Ã\\x82Â¢Ã\\x83\\\\x83Ã\\x82\\\\x83Ã\\x83\\\\x82Ã\\x82\\\\x82Ã\\x83\\\\x83Ã\\x82\\\\x82Ã\\x83\\\\x82Ã\\x82\\\\x80Ã\\x83\\\\x83Ã\\x82\\\\x83Ã\\x83\\\\x82Ã\\x82\\\\x82Ã\\x83\\\\x83Ã\\x82\\\\x82Ã\\x83\\\\x82Ã\\x82\\\\x99s.. wood and steel.\\\\nCustomer service- Pretty slow. We had remind them 3 times to get the food as there were kids who were hungry\\\\nValue for money- Moderate. No idea why do they keep service charge inspire of governmentÃ\\x83\\\\x83Ã\\x82\\\\x83Ã\\x83\\\\x82Ã\\x82\\\\x83Ã\\x83\\\\x83Ã\\x82\\\\x82Ã\\x83\\\\x82Ã\\x82Â¢Ã\\x83\\\\x83Ã\\x82\\\\x83Ã\\x83\\\\x82Ã\\x82\\\\x82Ã\\x83\\\\x83Ã\\x82\\\\x82Ã\\x83\\\\x82Ã\\x82\\\\x80Ã\\x83\\\\x83Ã\\x82\\\\x83Ã\\x83\\\\x82Ã\\x82\\\\x82Ã\\x83\\\\x83Ã\\x82\\\\x82Ã\\x83\\\\x82Ã\\x82\\\\x99s mandate of 5% gst. Once you remind them then they say, upto you if you would like to pay or not. ItÃ\\x83\\\\x83Ã\\x82\\\\x83Ã\\x83\\\\x82Ã\\x82\\\\x83Ã\\x83\\\\x83Ã\\x82\\\\x82Ã\\x83\\\\x82Ã\\x82Â¢Ã\\x83\\\\x83Ã\\x82\\\\x83Ã\\x83\\\\x82Ã\\x82\\\\x82Ã\\x83\\\\x83Ã\\x82\\\\x82Ã\\x83\\\\x82Ã\\x82\\\\x80Ã\\x83\\\\x83Ã\\x82\\\\x83Ã\\x83\\\\x82Ã\\x82\\\\x82Ã\\x83\\\\x83Ã\\x82\\\\x82Ã\\x83\\\\x82Ã\\x82\\\\x99s a nice way of minting money from the customers\\'), (\\'Rated 3.0\\', \\'RATED\\\\n  Food : 3/5\\\\nDrinks : 4/5\\\\nService : 3/5\\\\nAmbiance : 4/5\\\\nValue for money : 3.5/5\\\\n\\\\nBeen here on a sunday evening. They didnt have place to be seated due to rain outside and too much crowd inside, but we were seated within 5mins. The servers were not able to provide service as we hoped. We had to ask them to get things like tissues, spoons, water. Overall we had nice time but it would have been better if servers were paying more attention to their customers.\\'), (\\'Rated 4.0\\', \"RATED\\\\n  Tired from all the shopping that you\\'ve done?? Worry not .. you can simply stroll into this place located right inside the VR mall. They have a seating arrangement outside the restaurant as well so you can happily chomp away your food while breathing in fresh air.\\\\nThe pepperoni pizza we ordered was hot, fresh and crisp. The service was pretty quick and the ambience was pretty cool as well.\\\\nHad a good experience here and would definitely want to revisit !\"), (\\'Rated 4.0\\', \"RATED\\\\n  Lovely place, must visit if you are visiting VR mall, cool ambience, scrumptious food, descent drinks and friendly staff. A must try dish is the hulk(veg platter) .Only thing I am not liking is the space here, it\\'s small cafe and the sitting area is not that comfortable.\"), (\\'Rated 3.0\\', \\'RATED\\\\n  Food- we were a group of 9 people and ordered the following- andey ka funda(well made, high salt content though. It was egg Bhurji on top of toast. Chicken wings- well made, kohliwada fried chicken- Overfried and due to this it became little bitter. Pasta arabiata lacked the taste. Too tangy for the palette.\\\\nAmbience- pretty similar like church street social furnitureÃ\\x83\\\\x83Ã\\x82\\\\x83Ã\\x83\\\\x82Ã\\x82\\\\x83Ã\\x83\\\\x83Ã\\x82\\\\x82Ã\\x83\\\\x82Ã\\x82Â¢Ã\\x83\\\\x83Ã\\x82\\\\x83Ã\\x83\\\\x82Ã\\x82\\\\x82Ã\\x83\\\\x83Ã\\x82\\\\x82Ã\\x83\\\\x82Ã\\x82\\\\x80Ã\\x83\\\\x83Ã\\x82\\\\x83Ã\\x83\\\\x82Ã\\x82\\\\x82Ã\\x83\\\\x83Ã\\x82\\\\x82Ã\\x83\\\\x82Ã\\x82\\\\x99s.. wood and steel.\\\\nCustomer service- Pretty slow. We had remind them 3 times to get the food as there were kids who were hungry\\\\nValue for money- Moderate. No idea why do they keep service charge inspire of governmentÃ\\x83\\\\x83Ã\\x82\\\\x83Ã\\x83\\\\x82Ã\\x82\\\\x83Ã\\x83\\\\x83Ã\\x82\\\\x82Ã\\x83\\\\x82Ã\\x82Â¢Ã\\x83\\\\x83Ã\\x82\\\\x83Ã\\x83\\\\x82Ã\\x82\\\\x82Ã\\x83\\\\x83Ã\\x82\\\\x82Ã\\x83\\\\x82Ã\\x82\\\\x80Ã\\x83\\\\x83Ã\\x82\\\\x83Ã\\x83\\\\x82Ã\\x82\\\\x82Ã\\x83\\\\x83Ã\\x82\\\\x82Ã\\x83\\\\x82Ã\\x82\\\\x99s mandate of 5% gst. Once you remind them then they say, upto you if you would like to pay or not. ItÃ\\x83\\\\x83Ã\\x82\\\\x83Ã\\x83\\\\x82Ã\\x82\\\\x83Ã\\x83\\\\x83Ã\\x82\\\\x82Ã\\x83\\\\x82Ã\\x82Â¢Ã\\x83\\\\x83Ã\\x82\\\\x83Ã\\x83\\\\x82Ã\\x82\\\\x82Ã\\x83\\\\x83Ã\\x82\\\\x82Ã\\x83\\\\x82Ã\\x82\\\\x80Ã\\x83\\\\x83Ã\\x82\\\\x83Ã\\x83\\\\x82Ã\\x82\\\\x82Ã\\x83\\\\x83Ã\\x82\\\\x82Ã\\x83\\\\x82Ã\\x82\\\\x99s a nice way of minting money from the customers\\'), (\\'Rated 3.0\\', \\'RATED\\\\n  Food : 3/5\\\\nDrinks : 4/5\\\\nService : 3/5\\\\nAmbiance : 4/5\\\\nValue for money : 3.5/5\\\\n\\\\nBeen here on a sunday evening. They didnt have place to be seated due to rain outside and too much crowd inside, but we were seated within 5mins. The servers were not able to provide service as we hoped. We had to ask them to get things like tissues, spoons, water. Overall we had nice time but it would have been better if servers were paying more attention to their customers.\\'), (\\'Rated 4.0\\', \"RATED\\\\n  Tired from all the shopping that you\\'ve done?? Worry not .. you can simply stroll into this place located right inside the VR mall. They have a seating arrangement outside the restaurant as well so you can happily chomp away your food while breathing in fresh air.\\\\nThe pepperoni pizza we ordered was hot, fresh and crisp. The service was pretty quick and the ambience was pretty cool as well.\\\\nHad a good experience here and would definitely want to revisit !\"), (\\'Rated 4.0\\', \"RATED\\\\n  Lovely place, must visit if you are visiting VR mall, cool ambience, scrumptious food, descent drinks and friendly staff. A must try dish is the hulk(veg platter) .Only thing I am not liking is the space here, it\\'s small cafe and the sitting area is not that comfortable.\"), (\\'Rated 3.0\\', \\'RATED\\\\n  Food- we were a group of 9 people and ordered the following- andey ka funda(well made, high salt content though. It was egg Bhurji on top of toast. Chicken wings- well made, kohliwada fried chicken- Overfried and due to this it became little bitter. Pasta arabiata lacked the taste. Too tangy for the palette.\\\\nAmbience- pretty similar like church street social furnitureÃ\\x83\\\\x83Ã\\x82\\\\x83Ã\\x83\\\\x82Ã\\x82\\\\x83Ã\\x83\\\\x83Ã\\x82\\\\x82Ã\\x83\\\\x82Ã\\x82Â¢Ã\\x83\\\\x83Ã\\x82\\\\x83Ã\\x83\\\\x82Ã\\x82\\\\x82Ã\\x83\\\\x83Ã\\x82\\\\x82Ã\\x83\\\\x82Ã\\x82\\\\x80Ã\\x83\\\\x83Ã\\x82\\\\x83Ã\\x83\\\\x82Ã\\x82\\\\x82Ã\\x83\\\\x83Ã\\x82\\\\x82Ã\\x83\\\\x82Ã\\x82\\\\x99s.. wood and steel.\\\\nCustomer service- Pretty slow. We had remind them 3 times to get the food as there were kids who were hungry\\\\nValue for money- Moderate. No idea why do they keep service charge inspire of governmentÃ\\x83\\\\x83Ã\\x82\\\\x83Ã\\x83\\\\x82Ã\\x82\\\\x83Ã\\x83\\\\x83Ã\\x82\\\\x82Ã\\x83\\\\x82Ã\\x82Â¢Ã\\x83\\\\x83Ã\\x82\\\\x83Ã\\x83\\\\x82Ã\\x82\\\\x82Ã\\x83\\\\x83Ã\\x82\\\\x82Ã\\x83\\\\x82Ã\\x82\\\\x80Ã\\x83\\\\x83Ã\\x82\\\\x83Ã\\x83\\\\x82Ã\\x82\\\\x82Ã\\x83\\\\x83Ã\\x82\\\\x82Ã\\x83\\\\x82Ã\\x82\\\\x99s mandate of 5% gst. Once you remind them then they say, upto you if you would like to pay or not. ItÃ\\x83\\\\x83Ã\\x82\\\\x83Ã\\x83\\\\x82Ã\\x82\\\\x83Ã\\x83\\\\x83Ã\\x82\\\\x82Ã\\x83\\\\x82Ã\\x82Â¢Ã\\x83\\\\x83Ã\\x82\\\\x83Ã\\x83\\\\x82Ã\\x82\\\\x82Ã\\x83\\\\x83Ã\\x82\\\\x82Ã\\x83\\\\x82Ã\\x82\\\\x80Ã\\x83\\\\x83Ã\\x82\\\\x83Ã\\x83\\\\x82Ã\\x82\\\\x82Ã\\x83\\\\x83Ã\\x82\\\\x82Ã\\x83\\\\x82Ã\\x82\\\\x99s a nice way of minting money from the customers\\'), (\\'Rated 3.0\\', \\'RATED\\\\n  Food : 3/5\\\\nDrinks : 4/5\\\\nService : 3/5\\\\nAmbiance : 4/5\\\\nValue for money : 3.5/5\\\\n\\\\nBeen here on a sunday evening. They didnt have place to be seated due to rain outside and too much crowd inside, but we were seated within 5mins. The servers were not able to provide service as we hoped. We had to ask them to get things like tissues, spoons, water. Overall we had nice time but it would have been better if servers were paying more attention to their customers.\\'), (\\'Rated 4.0\\', \\'RATED\\\\n  Ambience is good. Being a Sunday evening the service lagged a bit. The manager was a savior. Craft beer is good. Food quality is good. Burger tasted very yumm. The ocktober fest menu is very delightful, we had vegetable platter.\\\\nOverall a good place to unwind\\'), (\\'Rated 4.0\\', \\'RATED\\\\n  The best thing about this place is the ambience on a Saturday afternoon. ItÃ\\x83\\\\x83Ã\\x82\\\\x83Ã\\x83\\\\x82Ã\\x82\\\\x83Ã\\x83\\\\x83Ã\\x82\\\\x82Ã\\x83\\\\x82Ã\\x82Â¢Ã\\x83\\\\x83Ã\\x82\\\\x83Ã\\x83\\\\x82Ã\\x82\\\\x82Ã\\x83\\\\x83Ã\\x82\\\\x82Ã\\x83\\\\x82Ã\\x82\\\\x80Ã\\x83\\\\x83Ã\\x82\\\\x83Ã\\x83\\\\x82Ã\\x82\\\\x82Ã\\x83\\\\x83Ã\\x82\\\\x82Ã\\x83\\\\x82Ã\\x82\\\\x99s less crowded and you are served faster. I have ordered a dish of chicken sausages with mashed potato; it was better than what I have expected. I didnÃ\\x83\\\\x83Ã\\x82\\\\x83Ã\\x83\\\\x82Ã\\x82\\\\x83Ã\\x83\\\\x83Ã\\x82\\\\x82Ã\\x83\\\\x82Ã\\x82Â¢Ã\\x83\\\\x83Ã\\x82\\\\x83Ã\\x83\\\\x82Ã\\x82\\\\x82Ã\\x83\\\\x83Ã\\x82\\\\x82Ã\\x83\\\\x82Ã\\x82\\\\x80Ã\\x83\\\\x83Ã\\x82\\\\x83Ã\\x83\\\\x82Ã\\x82\\\\x82Ã\\x83\\\\x83Ã\\x82\\\\x82Ã\\x83\\\\x82Ã\\x82\\\\x99t like chicken spring rolls. It was a good experience though.\\'), (\\'Rated 5.0\\', \\'RATED\\\\n  A great place for awesome beer and long talks. Located in the left side of VR Bengaluru Mall, this place is ideal for indoor as well as outdoor seating. Staff here is highly courteous and serves well.\\\\nI ordered a Kingfisher Premium Pitcher which tasted lovely. I also ordered Stadium Style Nachos which were good and French Fries.\\\\nOverall an amazing place for gatherings.\\'), (\\'Rated 1.0\\', \\'RATED\\\\n  Bad service. Very bad service.\\\\n\\\\nWent there on a saturday night. Not crowded as the other ones and have exterior seating too. Not so scenic still good.\\\\n\\\\nThey have a big beer menu. All bottled and have fancy towes and some other blah blah stuff\\\\n\\\\nFood options and taste was not that good. We ordered onion rings, chicken wings, some steaks and burgers. All of them were like 2.5/5. Not really good but was ok.\\\\n\\\\nNOW THE SERVICE. It was very bad, pathetic actually. Nobody comes to the table on call. Your beer and food takes hours to reach you and their faces seem like we stole something from them when we ask for stuff we ordered.\\'), (\\'Rated 4.0\\', \\'RATED\\\\n  Amazing Place The best thing I liked about this place is their outside seating arrangement. One can enjoy the amazing weather of Bengaluru by sitting outside, which basically is kind of at the corner of VR mall. Coupled with Zomato Gold, the price of food gets very cheap. We ( 2 persons) managed to fill our stomach with just 750 rs (including 1 mug of beer each). We ordered Chilly chicken, 2 draught Beer and Chicken Gravy Masala with roti. \\\\n\\\\nThe food was really up to the mark and tasty.  \\\\n\\\\nSpecial Mention to their Chilly Chicken \\\\n\\\\nService : 4/5 - very courteous staff. \\\\nFood : 4/5 \\\\nAmbience : 5/5\\'), (\\'Rated 4.0\\', \\'RATED\\\\n  Ambience is good. Being a Sunday evening the service lagged a bit. The manager was a savior. Craft beer is good. Food quality is good. Burger tasted very yumm. The ocktober fest menu is very delightful, we had vegetable platter.\\\\nOverall a good place to unwind\\'), (\\'Rated 4.0\\', \\'RATED\\\\n  The best thing about this place is the ambience on a Saturday afternoon. ItÃ\\x83\\\\x83Ã\\x82\\\\x83Ã\\x83\\\\x82Ã\\x82\\\\x83Ã\\x83\\\\x83Ã\\x82\\\\x82Ã\\x83\\\\x82Ã\\x82Â¢Ã\\x83\\\\x83Ã\\x82\\\\x83Ã\\x83\\\\x82Ã\\x82\\\\x82Ã\\x83\\\\x83Ã\\x82\\\\x82Ã\\x83\\\\x82Ã\\x82\\\\x80Ã\\x83\\\\x83Ã\\x82\\\\x83Ã\\x83\\\\x82Ã\\x82\\\\x82Ã\\x83\\\\x83Ã\\x82\\\\x82Ã\\x83\\\\x82Ã\\x82\\\\x99s less crowded and you are served faster. I have ordered a dish of chicken sausages with mashed potato; it was better than what I have expected. I didnÃ\\x83\\\\x83Ã\\x82\\\\x83Ã\\x83\\\\x82Ã\\x82\\\\x83Ã\\x83\\\\x83Ã\\x82\\\\x82Ã\\x83\\\\x82Ã\\x82Â¢Ã\\x83\\\\x83Ã\\x82\\\\x83Ã\\x83\\\\x82Ã\\x82\\\\x82Ã\\x83\\\\x83Ã\\x82\\\\x82Ã\\x83\\\\x82Ã\\x82\\\\x80Ã\\x83\\\\x83Ã\\x82\\\\x83Ã\\x83\\\\x82Ã\\x82\\\\x82Ã\\x83\\\\x83Ã\\x82\\\\x82Ã\\x83\\\\x82Ã\\x82\\\\x99t like chicken spring rolls. It was a good experience though.\\'), (\\'Rated 5.0\\', \\'RATED\\\\n  A great place for awesome beer and long talks. Located in the left side of VR Bengaluru Mall, this place is ideal for indoor as well as outdoor seating. Staff here is highly courteous and serves well.\\\\nI ordered a Kingfisher Premium Pitcher which tasted lovely. I also ordered Stadium Style Nachos which were good and French Fries.\\\\nOverall an amazing place for gatherings.\\'), (\\'Rated 1.0\\', \\'RATED\\\\n  Bad service. Very bad service.\\\\n\\\\nWent there on a saturday night. Not crowded as the other ones and have exterior seating too. Not so scenic still good.\\\\n\\\\nThey have a big beer menu. All bottled and have fancy towes and some other blah blah stuff\\\\n\\\\nFood options and taste was not that good. We ordered onion rings, chicken wings, some steaks and burgers. All of them were like 2.5/5. Not really good but was ok.\\\\n\\\\nNOW THE SERVICE. It was very bad, pathetic actually. Nobody comes to the table on call. Your beer and food takes hours to reach you and their faces seem like we stole something from them when we ask for stuff we ordered.\\'), (\\'Rated 4.0\\', \\'RATED\\\\n  Amazing Place The best thing I liked about this place is their outside seating arrangement. One can enjoy the amazing weather of Bengaluru by sitting outside, which basically is kind of at the corner of VR mall. Coupled with Zomato Gold, the price of food gets very cheap. We ( 2 persons) managed to fill our stomach with just 750 rs (including 1 mug of beer each). We ordered Chilly chicken, 2 draught Beer and Chicken Gravy Masala with roti. \\\\n\\\\nThe food was really up to the mark and tasty.  \\\\n\\\\nSpecial Mention to their Chilly Chicken \\\\n\\\\nService : 4/5 - very courteous staff. \\\\nFood : 4/5 \\\\nAmbience : 5/5\\'), (\\'Rated 4.0\\', \\'RATED\\\\n  Ambience is good. Being a Sunday evening the service lagged a bit. The manager was a savior. Craft beer is good. Food quality is good. Burger tasted very yumm. The ocktober fest menu is very delightful, we had vegetable platter.\\\\nOverall a good place to unwind\\'), (\\'Rated 4.0\\', \\'RATED\\\\n  The best thing about this place is the ambience on a Saturday afternoon. ItÃ\\x83\\\\x83Ã\\x82\\\\x83Ã\\x83\\\\x82Ã\\x82\\\\x83Ã\\x83\\\\x83Ã\\x82\\\\x82Ã\\x83\\\\x82Ã\\x82Â¢Ã\\x83\\\\x83Ã\\x82\\\\x83Ã\\x83\\\\x82Ã\\x82\\\\x82Ã\\x83\\\\x83Ã\\x82\\\\x82Ã\\x83\\\\x82Ã\\x82\\\\x80Ã\\x83\\\\x83Ã\\x82\\\\x83Ã\\x83\\\\x82Ã\\x82\\\\x82Ã\\x83\\\\x83Ã\\x82\\\\x82Ã\\x83\\\\x82Ã\\x82\\\\x99s less crowded and you are served faster. I have ordered a dish of chicken sausages with mashed potato; it was better than what I have expected. I didnÃ\\x83\\\\x83Ã\\x82\\\\x83Ã\\x83\\\\x82Ã\\x82\\\\x83Ã\\x83\\\\x83Ã\\x82\\\\x82Ã\\x83\\\\x82Ã\\x82Â¢Ã\\x83\\\\x83Ã\\x82\\\\x83Ã\\x83\\\\x82Ã\\x82\\\\x82Ã\\x83\\\\x83Ã\\x82\\\\x82Ã\\x83\\\\x82Ã\\x82\\\\x80Ã\\x83\\\\x83Ã\\x82\\\\x83Ã\\x83\\\\x82Ã\\x82\\\\x82Ã\\x83\\\\x83Ã\\x82\\\\x82Ã\\x83\\\\x82Ã\\x82\\\\x99t like chicken spring rolls. It was a good experience though.\\'), (\\'Rated 5.0\\', \\'RATED\\\\n  A great place for awesome beer and long talks. Located in the left side of VR Bengaluru Mall, this place is ideal for indoor as well as outdoor seating. Staff here is highly courteous and serves well.\\\\nI ordered a Kingfisher Premium Pitcher which tasted lovely. I also ordered Stadium Style Nachos which were good and French Fries.\\\\nOverall an amazing place for gatherings.\\'), (\\'Rated 1.0\\', \\'RATED\\\\n  Bad service. Very bad service.\\\\n\\\\nWent there on a saturday night. Not crowded as the other ones and have exterior seating too. Not so scenic still good.\\\\n\\\\nThey have a big beer menu. All bottled and have fancy towes and some other blah blah stuff\\\\n\\\\nFood options and taste was not that good. We ordered onion rings, chicken wings, some steaks and burgers. All of them were like 2.5/5. Not really good but was ok.\\\\n\\\\nNOW THE SERVICE. It was very bad, pathetic actually. Nobody comes to the table on call. Your beer and food takes hours to reach you and their faces seem like we stole something from them when we ask for stuff we ordered.\\'), (\\'Rated 4.0\\', \\'RATED\\\\n  Amazing Place The best thing I liked about this place is their outside seating arrangement. One can enjoy the amazing weather of Bengaluru by sitting outside, which basically is kind of at the corner of VR mall. Coupled with Zomato Gold, the price of food gets very cheap. We ( 2 persons) managed to fill our stomach with just 750 rs (including 1 mug of beer each). We ordered Chilly chicken, 2 draught Beer and Chicken Gravy Masala with roti. \\\\n\\\\nThe food was really up to the mark and tasty.  \\\\n\\\\nSpecial Mention to their Chilly Chicken \\\\n\\\\nService : 4/5 - very courteous staff. \\\\nFood : 4/5 \\\\nAmbience : 5/5\\'), (\\'Rated 5.0\\', \\'RATED\\\\n  Beer cafe ,VR Bengaluru\\\\nBeen here a few times , small place , good options of beer\\\\nOne of the few places in Whitefield which serve Budweiser draught beer\\\\nThe ambience is ok\\\\nService is little slow ,but friendly staff\\\\nFood is good too , no complaints there\\\\nZomato gold on food makes it pocket friendly .\\'), (\\'Rated 2.0\\', \\'RATED\\\\n  For a place with a name like beer cafe, I would expect them to have stock of popular varients of beer. But no. Food is meh. Service is God damn slow.\\'), (\\'Rated 5.0\\', \"RATED\\\\n  Small but nice ambience, friendly staff, varieties in beer and yummy pizzas make this beer cafe amazing place to sit n drink .. service is good especially Rajen is very courteous n friendly .. overall it\\'s a highly recommended place to all beer lovers ..\"), (\\'Rated 3.0\\', \"RATED\\\\n  The place small however it\\'s has all verities of beer which is great .We were visited here on Sunday afternoon where number of people in the restaurant less and it was not that crowded.\\\\n\\\\nI can rate beer @ 5 star however food is not up to the mark. Whoever likes to test different beers from around the world this is the place is must go.\\\\n\\\\nFood :3/5\\\\nDrinks:5/5\\\\nAmbiance:3.5/5\"), (\\'Rated 3.0\\', \\'RATED\\\\n  Situated in the ground floor of VR mall Mahadevapura, Beer cafe is a small pub. To be honest it is really small, although they have outdoor sitting but in case of downpour there wonÃ\\x83\\\\x83Ã\\x82\\\\x83Ã\\x83\\\\x82Ã\\x82\\\\x83Ã\\x83\\\\x83Ã\\x82\\\\x82Ã\\x83\\\\x82Ã\\x82Â¢Ã\\x83\\\\x83Ã\\x82\\\\x83Ã\\x83\\\\x82Ã\\x82\\\\x82Ã\\x83\\\\x83Ã\\x82\\\\x82Ã\\x83\\\\x82Ã\\x82\\\\x80Ã\\x83\\\\x83Ã\\x82\\\\x83Ã\\x83\\\\x82Ã\\x82\\\\x82Ã\\x83\\\\x83Ã\\x82\\\\x82Ã\\x83\\\\x82Ã\\x82\\\\x99t be much room to relax.\\\\nSo, as per my experience service was really slow and hence the 3 star.\\\\nMy friends like their orange flavoured wheat beer whereas I was happy with my fresh lime soda Ã\\x83\\\\x83Ã\\x82\\\\x83Ã\\x83\\\\x82Ã\\x82\\\\x83Ã\\x83\\\\x83Ã\\x82\\\\x82Ã\\x83\\\\x82Ã\\x82Â°Ã\\x83\\\\x83Ã\\x82\\\\x83Ã\\x83\\\\x82Ã\\x82\\\\x82Ã\\x83\\\\x83Ã\\x82\\\\x82Ã\\x83\\\\x82Ã\\x82\\\\x9fÃ\\x83\\\\x83Ã\\x82\\\\x83Ã\\x83\\\\x82Ã\\x82\\\\x82Ã\\x83\\\\x83Ã\\x82\\\\x82Ã\\x83\\\\x82Ã\\x82\\\\x98Ã\\x83\\\\x83Ã\\x82\\\\x83Ã\\x83\\\\x82Ã\\x82\\\\x82Ã\\x83\\\\x83Ã\\x82\\\\x82Ã\\x83\\\\x82Ã\\x82Â¬. Food menu is very limited for vegetarian and starters in particular was disappointing for me.\\'), (\\'Rated 5.0\\', \\'RATED\\\\n  Beer cafe ,VR Bengaluru\\\\nBeen here a few times , small place , good options of beer\\\\nOne of the few places in Whitefield which serve Budweiser draught beer\\\\nThe ambience is ok\\\\nService is little slow ,but friendly staff\\\\nFood is good too , no complaints there\\\\nZomato gold on food makes it pocket friendly .\\'), (\\'Rated 2.0\\', \\'RATED\\\\n  For a place with a name like beer cafe, I would expect them to have stock of popular varients of beer. But no. Food is meh. Service is God damn slow.\\'), (\\'Rated 5.0\\', \"RATED\\\\n  Small but nice ambience, friendly staff, varieties in beer and yummy pizzas make this beer cafe amazing place to sit n drink .. service is good especially Rajen is very courteous n friendly .. overall it\\'s a highly recommended place to all beer lovers ..\"), (\\'Rated 3.0\\', \"RATED\\\\n  The place small however it\\'s has all verities of beer which is great .We were visited here on Sunday afternoon where number of people in the restaurant less and it was not that crowded.\\\\n\\\\nI can rate beer @ 5 star however food is not up to the mark. Whoever likes to test different beers from around the world this is the place is must go.\\\\n\\\\nFood :3/5\\\\nDrinks:5/5\\\\nAmbiance:3.5/5\"), (\\'Rated 3.0\\', \\'RATED\\\\n  Situated in the ground floor of VR mall Mahadevapura, Beer cafe is a small pub. To be honest it is really small, although they have outdoor sitting but in case of downpour there wonÃ\\x83\\\\x83Ã\\x82\\\\x83Ã\\x83\\\\x82Ã\\x82\\\\x83Ã\\x83\\\\x83Ã\\x82\\\\x82Ã\\x83\\\\x82Ã\\x82Â¢Ã\\x83\\\\x83Ã\\x82\\\\x83Ã\\x83\\\\x82Ã\\x82\\\\x82Ã\\x83\\\\x83Ã\\x82\\\\x82Ã\\x83\\\\x82Ã\\x82\\\\x80Ã\\x83\\\\x83Ã\\x82\\\\x83Ã\\x83\\\\x82Ã\\x82\\\\x82Ã\\x83\\\\x83Ã\\x82\\\\x82Ã\\x83\\\\x82Ã\\x82\\\\x99t be much room to relax.\\\\nSo, as per my experience service was really slow and hence the 3 star.\\\\nMy friends like their orange flavoured wheat beer whereas I was happy with my fresh lime soda Ã\\x83\\\\x83Ã\\x82\\\\x83Ã\\x83\\\\x82Ã\\x82\\\\x83Ã\\x83\\\\x83Ã\\x82\\\\x82Ã\\x83\\\\x82Ã\\x82Â°Ã\\x83\\\\x83Ã\\x82\\\\x83Ã\\x83\\\\x82Ã\\x82\\\\x82Ã\\x83\\\\x83Ã\\x82\\\\x82Ã\\x83\\\\x82Ã\\x82\\\\x9fÃ\\x83\\\\x83Ã\\x82\\\\x83Ã\\x83\\\\x82Ã\\x82\\\\x82Ã\\x83\\\\x83Ã\\x82\\\\x82Ã\\x83\\\\x82Ã\\x82\\\\x98Ã\\x83\\\\x83Ã\\x82\\\\x83Ã\\x83\\\\x82Ã\\x82\\\\x82Ã\\x83\\\\x83Ã\\x82\\\\x82Ã\\x83\\\\x82Ã\\x82Â¬. Food menu is very limited for vegetarian and starters in particular was disappointing for me.\\'), (\\'Rated 5.0\\', \\'RATED\\\\n  Beer cafe ,VR Bengaluru\\\\nBeen here a few times , small place , good options of beer\\\\nOne of the few places in Whitefield which serve Budweiser draught beer\\\\nThe ambience is ok\\\\nService is little slow ,but friendly staff\\\\nFood is good too , no complaints there\\\\nZomato gold on food makes it pocket friendly .\\'), (\\'Rated 2.0\\', \\'RATED\\\\n  For a place with a name like beer cafe, I would expect them to have stock of popular varients of beer. But no. Food is meh. Service is God damn slow.\\'), (\\'Rated 5.0\\', \"RATED\\\\n  Small but nice ambience, friendly staff, varieties in beer and yummy pizzas make this beer cafe amazing place to sit n drink .. service is good especially Rajen is very courteous n friendly .. overall it\\'s a highly recommended place to all beer lovers ..\"), (\\'Rated 3.0\\', \"RATED\\\\n  The place small however it\\'s has all verities of beer which is great .We were visited here on Sunday afternoon where number of people in the restaurant less and it was not that crowded.\\\\n\\\\nI can rate beer @ 5 star however food is not up to the mark. Whoever likes to test different beers from around the world this is the place is must go.\\\\n\\\\nFood :3/5\\\\nDrinks:5/5\\\\nAmbiance:3.5/5\"), (\\'Rated 3.0\\', \\'RATED\\\\n  Situated in the ground floor of VR mall Mahadevapura, Beer cafe is a small pub. To be honest it is really small, although they have outdoor sitting but in case of downpour there wonÃ\\x83\\\\x83Ã\\x82\\\\x83Ã\\x83\\\\x82Ã\\x82\\\\x83Ã\\x83\\\\x83Ã\\x82\\\\x82Ã\\x83\\\\x82Ã\\x82Â¢Ã\\x83\\\\x83Ã\\x82\\\\x83Ã\\x83\\\\x82Ã\\x82\\\\x82Ã\\x83\\\\x83Ã\\x82\\\\x82Ã\\x83\\\\x82Ã\\x82\\\\x80Ã\\x83\\\\x83Ã\\x82\\\\x83Ã\\x83\\\\x82Ã\\x82\\\\x82Ã\\x83\\\\x83Ã\\x82\\\\x82Ã\\x83\\\\x82Ã\\x82\\\\x99t be much room to relax.\\\\nSo, as per my experience service was really slow and hence the 3 star.\\\\nMy friends like their orange flavoured wheat beer whereas I was happy with my fresh lime soda Ã\\x83\\\\x83Ã\\x82\\\\x83Ã\\x83\\\\x82Ã\\x82\\\\x83Ã\\x83\\\\x83Ã\\x82\\\\x82Ã\\x83\\\\x82Ã\\x82Â°Ã\\x83\\\\x83Ã\\x82\\\\x83Ã\\x83\\\\x82Ã\\x82\\\\x82Ã\\x83\\\\x83Ã\\x82\\\\x82Ã\\x83\\\\x82Ã\\x82\\\\x9fÃ\\x83\\\\x83Ã\\x82\\\\x83Ã\\x83\\\\x82Ã\\x82\\\\x82Ã\\x83\\\\x83Ã\\x82\\\\x82Ã\\x83\\\\x82Ã\\x82\\\\x98Ã\\x83\\\\x83Ã\\x82\\\\x83Ã\\x83\\\\x82Ã\\x82\\\\x82Ã\\x83\\\\x83Ã\\x82\\\\x82Ã\\x83\\\\x82Ã\\x82Â¬. Food menu is very limited for vegetarian and starters in particular was disappointing for me.\\'), (\\'Rated 3.0\\', \"RATED\\\\n  It\\'s a good place. The ambience created using beer bottles is great however the place is small and cramped so u cannot enjoy the place. The choices of beer is great but food is Lil disappointing. They lack in providing much options. The snacks I ordered were only n lacked crispiness. On the whole it\\'s a place to try.\"), (\\'Rated 1.0\\', \\'RATED\\\\n  Over atrocious place . A place where you should not go second time to say the least . People here have no knowledge about the food they have in their menu . They donÃ\\x83\\\\x83Ã\\x82\\\\x83Ã\\x83\\\\x82Ã\\x82\\\\x83Ã\\x83\\\\x83Ã\\x82\\\\x82Ã\\x83\\\\x82Ã\\x82Â¢Ã\\x83\\\\x83Ã\\x82\\\\x83Ã\\x83\\\\x82Ã\\x82\\\\x82Ã\\x83\\\\x83Ã\\x82\\\\x82Ã\\x83\\\\x82Ã\\x82\\\\x80Ã\\x83\\\\x83Ã\\x82\\\\x83Ã\\x83\\\\x82Ã\\x82\\\\x82Ã\\x83\\\\x83Ã\\x82\\\\x82Ã\\x83\\\\x82Ã\\x82\\\\x99t know how to make a baad Maggi ( we had to order these as one of my friend wanted to have ) apart from that all starters were useless and without taste . Road side wine shops are better than this . And who gave them the place to set up in VR mall . Beer is not at all good and the person there will say this beer not available whatever you ask. For . I will strongly recommend not to go there and waste your precious money . Food takes much longer time to be served which should not be an ideal case in a bar or any other beer cafe.\\'), (\\'Rated 5.0\\', \\'RATED\\\\n  Very chilled out place, go with friends or alone. Nice food and drinks are reasonably priced. Should try french fries, egg burji and also the pizzas. Outside sitting is recommended.\\'), (\\'Rated 5.0\\', \\'RATED\\\\n  The first thing that hits you when you enter is the quaintness\\\\nLove the way it is done up and innovative ideas in terms of beer and what to choose\\\\nSuperb location too right guy at the entrance of the mall with out door and indoor setting\\\\nBest way to get out battery charger after a shopping spree\\\\nWe had the Get at and regular beer on tap\\\\nThe onion rings and potato skins were too yum\\\\nService great\\\\nMusic good\\\\nFood and beer yum\\\\nThank you Rajeev for serving is and giving us a good time\\')]'\n",
            " '[(\\'Rated 4.0\\', \\'RATED\\\\n  A good place to dine. Very friendly staff and the management as well. Food is good too. Ambience is soothing and the music is a great add on to that place. Plus they screen matches as well which is great for a sports fan.\\'), (\\'Rated 4.0\\', \\'RATED\\\\n  This place is huge! Fooled by the entrance, I didnt expect the place to be large. No issues finding a table :P\\\\n\\\\nThe service here is good, we were well attended to and the servers kept a good eye on the water levels in our glass. The food however took some time to get ready after order.\\\\n\\\\nThey have a good selection of food, I liked the food here. Alcohol here is reasonably priced. Bacon was a let down though, it was very salty.\\'), (\\'Rated 4.0\\', \\'RATED\\\\n  Went to this place on Sunday afternoon it was empty. We were the only guest available there. Food was great and Alcoholic drinks had one plus one offer.\\\\nWe asked for Axis bank discount of 15% as mentioned in the Zomato application but they refused. Apart from this it was great place to hang out.\\'), (\\'Rated 3.0\\', \"RATED\\\\n  We went to this place for sort of after party, from some nearby place. We didn\\'t ate much...had beers and french fries.\\\\nWhen we entered, we sort of liked this place majorly coz of some open space and live music; but then service here was pathetic..we have to wait for more than 10 mins just for someone to attend us and take order and it seemed that waiters were least bothered about it.\\\\n\\\\nI wanted to give this place 2/5; but then just coz I liked the atmosphere and live music...I am going with 3/5.\"), (\\'Rated 3.0\\', \\'RATED\\\\n  Had visited this place on Saturday evening.tried diffetent beers.chilli beer was okay but cucumber was way too bad.ambience was pretty nice.hated the pesto pizza corn was really great!\\'), (\\'Rated 2.0\\', \"RATED\\\\n  What started as a good evening ended as an average experience! This is a spacious , open ambience setup which went fabulously well with the awesome music but their food and customer service dampened our spirits. Our order for chicken steak came out as a totally different recipe (one in menu was different) and they didn\\'t offer any apologies or something to the mistake, instead made us wait for over 20 minutes for a rehash of the same dish. These guys need a tutorial on customer service!\"), (\\'Rated 5.0\\', \\'RATED\\\\n  I like this place so much because of its ambience more. This is my 4th visit to PabloÃ\\x83\\\\x83Ã\\x82\\\\x83Ã\\x83\\\\x82Ã\\x82\\\\x83Ã\\x83\\\\x83Ã\\x82\\\\x82Ã\\x83\\\\x82Ã\\x82Â¢Ã\\x83\\\\x83Ã\\x82\\\\x83Ã\\x83\\\\x82Ã\\x82\\\\x82Ã\\x83\\\\x83Ã\\x82\\\\x82Ã\\x83\\\\x82Ã\\x82\\\\x80Ã\\x83\\\\x83Ã\\x82\\\\x83Ã\\x83\\\\x82Ã\\x82\\\\x82Ã\\x83\\\\x83Ã\\x82\\\\x82Ã\\x83\\\\x82Ã\\x82\\\\x99s and every time I liked this place. If you like karaoke then please plan to PabloÃ\\x83\\\\x83Ã\\x82\\\\x83Ã\\x83\\\\x82Ã\\x82\\\\x83Ã\\x83\\\\x83Ã\\x82\\\\x82Ã\\x83\\\\x82Ã\\x82Â¢Ã\\x83\\\\x83Ã\\x82\\\\x83Ã\\x83\\\\x82Ã\\x82\\\\x82Ã\\x83\\\\x83Ã\\x82\\\\x82Ã\\x83\\\\x82Ã\\x82\\\\x80Ã\\x83\\\\x83Ã\\x82\\\\x83Ã\\x83\\\\x82Ã\\x82\\\\x82Ã\\x83\\\\x83Ã\\x82\\\\x82Ã\\x83\\\\x82Ã\\x82\\\\x99s on Friday night. And definitely you will enjoy your Friday night. They served hooka as well, that add an additional attraction to this place. Coming to food, no doubt all the dishes here is so tasty. Chilli chicken was so yummy. We applied our zomato gold and we got offered on drink (2+2). Overall experience was nice.\\'), (\\'Rated 4.0\\', \\'RATED\\\\n  I only look for good food and courteous staff because I think everything else depends on your company. So, its fist bump for both these qualities for this place. I ordered Cheese balls, garlic cheese poppers, beer battered onion rings for the starters plus Peach and Passion fruit Iced tea.\\\\nFor main course, I ordered Spanish rice with paneer steak. Everything was yum, exactly how I like it. Give it a guys!!\\'), (\\'Rated 4.0\\', \\'RATED\\\\n  A place where you really want to hop around with your friends and chill out. I went here at Saturday night and yes it was amazing for me. Good food and a music made us all set and I really enjoyed a lot with my friends.\\\\n#foodiesapien\\\\nFollow me on youtube : Foodie Sapien\\\\nInstagram : manishpushkar\\'), (\\'Rated 4.0\\', \"RATED\\\\n  Visited this place on a Saturday late evening. From the outside though there is a huge hoarding and everything it totally doesn\\'t prepare you for what\\'s in store inside. The place is quite massive with huge seating area. It\\'s a good place for watching matches too as there are a couple of giant screens there. We (a group of 5) got a place almost immediately on reaching and let me tell you that place was quite crowded but it\\'s the widespread seating area that made it possible. For food we tried a couple of starters both of which were good. Coming to drinks we stuck to the age old cocktails. Whiskey sour and liit. Both of which were concentrated and one of them was enough to get you buzzed. The staff was prompt and helpful as well.\\\\nOverall a good experience.\\\\nHoping to try out more from the food menu the next time I visit. Ã\\x83\\\\x83Ã\\x82\\\\x83Ã\\x83\\\\x82Ã\\x82\\\\x83Ã\\x83\\\\x83Ã\\x82\\\\x82Ã\\x83\\\\x82Ã\\x82Â°Ã\\x83\\\\x83Ã\\x82\\\\x83Ã\\x83\\\\x82Ã\\x82\\\\x82Ã\\x83\\\\x83Ã\\x82\\\\x82Ã\\x83\\\\x82Ã\\x82\\\\x9fÃ\\x83\\\\x83Ã\\x82\\\\x83Ã\\x83\\\\x82Ã\\x82\\\\x82Ã\\x83\\\\x83Ã\\x82\\\\x82Ã\\x83\\\\x82Ã\\x82\\\\x98Ã\\x83\\\\x83Ã\\x82\\\\x83Ã\\x83\\\\x82Ã\\x82\\\\x82Ã\\x83\\\\x83Ã\\x82\\\\x82Ã\\x83\\\\x82Ã\\x82\\\\x81\"), (\\'Rated 2.0\\', \\'RATED\\\\n  Having heard from a lot of my friends that itÃ\\x83\\\\x83Ã\\x82\\\\x83Ã\\x83\\\\x82Ã\\x82\\\\x83Ã\\x83\\\\x83Ã\\x82\\\\x82Ã\\x83\\\\x82Ã\\x82Â¢Ã\\x83\\\\x83Ã\\x82\\\\x83Ã\\x83\\\\x82Ã\\x82\\\\x82Ã\\x83\\\\x83Ã\\x82\\\\x82Ã\\x83\\\\x82Ã\\x82\\\\x80Ã\\x83\\\\x83Ã\\x82\\\\x83Ã\\x83\\\\x82Ã\\x82\\\\x82Ã\\x83\\\\x83Ã\\x82\\\\x82Ã\\x83\\\\x82Ã\\x82\\\\x99s a great Ã\\x83\\\\x83Ã\\x82\\\\x83Ã\\x83\\\\x82Ã\\x82\\\\x83Ã\\x83\\\\x83Ã\\x82\\\\x82Ã\\x83\\\\x82Ã\\x82Â¢Ã\\x83\\\\x83Ã\\x82\\\\x83Ã\\x83\\\\x82Ã\\x82\\\\x82Ã\\x83\\\\x83Ã\\x82\\\\x82Ã\\x83\\\\x82Ã\\x82\\\\x80Ã\\x83\\\\x83Ã\\x82\\\\x83Ã\\x83\\\\x82Ã\\x82\\\\x82Ã\\x83\\\\x83Ã\\x82\\\\x82Ã\\x83\\\\x82Ã\\x82\\\\x9changoutÃ\\x83\\\\x83Ã\\x82\\\\x83Ã\\x83\\\\x82Ã\\x82\\\\x83Ã\\x83\\\\x83Ã\\x82\\\\x82Ã\\x83\\\\x82Ã\\x82Â¢Ã\\x83\\\\x83Ã\\x82\\\\x83Ã\\x83\\\\x82Ã\\x82\\\\x82Ã\\x83\\\\x83Ã\\x82\\\\x82Ã\\x83\\\\x82Ã\\x82\\\\x80Ã\\x83\\\\x83Ã\\x82\\\\x83Ã\\x83\\\\x82Ã\\x82\\\\x82Ã\\x83\\\\x83Ã\\x82\\\\x82Ã\\x83\\\\x82Ã\\x82\\\\x9d, finally decided to visit for a lazy Thursday dinner and was rather disappointed. The place looked very dull, even with half of it occupied - the music was okay but definitely reminded me of my high school playlist. The food is nothing to write home about, the beers are good though but the cocktails are meh. I donÃ\\x83\\\\x83Ã\\x82\\\\x83Ã\\x83\\\\x82Ã\\x82\\\\x83Ã\\x83\\\\x83Ã\\x82\\\\x82Ã\\x83\\\\x82Ã\\x82Â¢Ã\\x83\\\\x83Ã\\x82\\\\x83Ã\\x83\\\\x82Ã\\x82\\\\x82Ã\\x83\\\\x83Ã\\x82\\\\x82Ã\\x83\\\\x82Ã\\x82\\\\x80Ã\\x83\\\\x83Ã\\x82\\\\x83Ã\\x83\\\\x82Ã\\x82\\\\x82Ã\\x83\\\\x83Ã\\x82\\\\x82Ã\\x83\\\\x82Ã\\x82\\\\x99t think IÃ\\x83\\\\x83Ã\\x82\\\\x83Ã\\x83\\\\x82Ã\\x82\\\\x83Ã\\x83\\\\x83Ã\\x82\\\\x82Ã\\x83\\\\x82Ã\\x82Â¢Ã\\x83\\\\x83Ã\\x82\\\\x83Ã\\x83\\\\x82Ã\\x82\\\\x82Ã\\x83\\\\x83Ã\\x82\\\\x82Ã\\x83\\\\x82Ã\\x82\\\\x80Ã\\x83\\\\x83Ã\\x82\\\\x83Ã\\x83\\\\x82Ã\\x82\\\\x82Ã\\x83\\\\x83Ã\\x82\\\\x82Ã\\x83\\\\x82Ã\\x82\\\\x99d be heading back soon considering the fact that there are a lot more places around we would rather go to.\\\\n\\\\nAmbience : 2.5/5\\\\nFood : 2.5/5\\\\nPricing : 2.5/5\\\\nService : 3/5\\\\nVariety : 3/5\\'), (\\'Rated 4.0\\', \\'RATED\\\\n  Been here several times. Yes, it is an after office relief, especially on Fridays. Food here is good. The starters(nachos, cheese balls, wings) are great and go well with the drinks. The main course is decent too. Try the burgers for sure. The only downside here I feel is the lack of a brewery. It could have been so much better then. Hope it gets one soon.\\'), (\\'Rated 3.0\\', \"RATED\\\\n  I visited the place on a Sunday...it\\'s located rgt next to biergarten..coming to the place...it\\'s night but the ambience is a bit dull...I found the energy lacking...crowd was also bit less...coming to the food, ordered peanut masala, bruschetta, chilli chicken and chicken tikka..chicken tikka was good and rest items were decent...what spoils the rating are the drinks, I thought they were too diluted..had LIIT and whiskey sour and both were not upto the mark..used Zomato gold for the drinks...service is decent...to sum it up, it\\'s a decent place, food is good but they need to work on the drinks...\"), (\\'Rated 3.0\\', \\'RATED\\\\n  I went to this place on a Thursday evening with few friends. The place looked gloomy and we were the only people in it.\\\\nIts ambience gave feel of the shacks of Goa.\\\\nThey were not serving beer that day which explained why it was so empty.\\\\n\\\\nWe ordered only paneer chilli which was decent.\\'), (\\'Rated 4.0\\', \\'RATED\\\\n  Loved the ambience here\\\\nVery lively crowd\\\\nHad shots here and lemon iced tea which was really good\\\\nGood customer service provided\\\\nWould definitely visit this place again\\'), (\\'Rated 3.0\\', \"RATED\\\\n  Amazing place for music,food,drinks and Karaoke. Getting a table is a big task on a Friday which looks the day the place makes most business. Location is close by to ITPl hnev draws big crowd which means only Regulars are given preference to tables when compared to may be first timers though both may have no booking done prior to the visit so be ready to stand near other table\\'s or near bar for a long time before you get your own table here. Music gets shut almost at 1030 which is a big let-down as places in Indiranagar or Koramangala play almost an hour more. They really need to work on bills as we had almost 20% of the items not pertaining to our table but was added into our bill,watch out for this when you pay.\"), (\\'Rated 3.0\\', \"RATED\\\\n  Decent place. Service can be improved. Dull on weekdays. Music needs major revamp. Hookah isn\\'t up to the mark. Matches are screened.\\\\n\\\\nAmbience-4/5\\\\nF&B-3/5\\\\nHospitality-3/5\"), (\\'Rated 3.0\\', \"RATED\\\\n  I visited the place on a Sunday...it\\'s located rgt next to biergarten..coming to the place...it\\'s night but the ambience is a bit dull...I found the energy lacking...crowd was also bit less...coming to the food, ordered peanut masala, bruschetta, chilli chicken and chicken tikka..chicken tikka was good and rest items were decent...what spoils the rating are the drinks, I thought they were too diluted..had LIIT and whiskey sour and both were not upto the mark..used Zomato gold for the drinks...service is decent...to sum it up, it\\'s a decent place, food is good but they need to work on the drinks...\"), (\\'Rated 3.0\\', \\'RATED\\\\n  I went to this place on a Thursday evening with few friends. The place looked gloomy and we were the only people in it.\\\\nIts ambience gave feel of the shacks of Goa.\\\\nThey were not serving beer that day which explained why it was so empty.\\\\n\\\\nWe ordered only paneer chilli which was decent.\\'), (\\'Rated 4.0\\', \\'RATED\\\\n  Loved the ambience here\\\\nVery lively crowd\\\\nHad shots here and lemon iced tea which was really good\\\\nGood customer service provided\\\\nWould definitely visit this place again\\'), (\\'Rated 3.0\\', \"RATED\\\\n  Amazing place for music,food,drinks and Karaoke. Getting a table is a big task on a Friday which looks the day the place makes most business. Location is close by to ITPl hnev draws big crowd which means only Regulars are given preference to tables when compared to may be first timers though both may have no booking done prior to the visit so be ready to stand near other table\\'s or near bar for a long time before you get your own table here. Music gets shut almost at 1030 which is a big let-down as places in Indiranagar or Koramangala play almost an hour more. They really need to work on bills as we had almost 20% of the items not pertaining to our table but was added into our bill,watch out for this when you pay.\"), (\\'Rated 3.0\\', \"RATED\\\\n  Decent place. Service can be improved. Dull on weekdays. Music needs major revamp. Hookah isn\\'t up to the mark. Matches are screened.\\\\n\\\\nAmbience-4/5\\\\nF&B-3/5\\\\nHospitality-3/5\"), (\\'Rated 3.0\\', \"RATED\\\\n  I visited the place on a Sunday...it\\'s located rgt next to biergarten..coming to the place...it\\'s night but the ambience is a bit dull...I found the energy lacking...crowd was also bit less...coming to the food, ordered peanut masala, bruschetta, chilli chicken and chicken tikka..chicken tikka was good and rest items were decent...what spoils the rating are the drinks, I thought they were too diluted..had LIIT and whiskey sour and both were not upto the mark..used Zomato gold for the drinks...service is decent...to sum it up, it\\'s a decent place, food is good but they need to work on the drinks...\"), (\\'Rated 3.0\\', \\'RATED\\\\n  I went to this place on a Thursday evening with few friends. The place looked gloomy and we were the only people in it.\\\\nIts ambience gave feel of the shacks of Goa.\\\\nThey were not serving beer that day which explained why it was so empty.\\\\n\\\\nWe ordered only paneer chilli which was decent.\\'), (\\'Rated 4.0\\', \\'RATED\\\\n  Loved the ambience here\\\\nVery lively crowd\\\\nHad shots here and lemon iced tea which was really good\\\\nGood customer service provided\\\\nWould definitely visit this place again\\'), (\\'Rated 3.0\\', \"RATED\\\\n  Amazing place for music,food,drinks and Karaoke. Getting a table is a big task on a Friday which looks the day the place makes most business. Location is close by to ITPl hnev draws big crowd which means only Regulars are given preference to tables when compared to may be first timers though both may have no booking done prior to the visit so be ready to stand near other table\\'s or near bar for a long time before you get your own table here. Music gets shut almost at 1030 which is a big let-down as places in Indiranagar or Koramangala play almost an hour more. They really need to work on bills as we had almost 20% of the items not pertaining to our table but was added into our bill,watch out for this when you pay.\"), (\\'Rated 3.0\\', \"RATED\\\\n  Decent place. Service can be improved. Dull on weekdays. Music needs major revamp. Hookah isn\\'t up to the mark. Matches are screened.\\\\n\\\\nAmbience-4/5\\\\nF&B-3/5\\\\nHospitality-3/5\"), (\\'Rated 4.0\\', \\'RATED\\\\n  I go to this place on FridayÃ\\x83\\\\x83Ã\\x82\\\\x83Ã\\x83\\\\x82Ã\\x82\\\\x83Ã\\x83\\\\x83Ã\\x82\\\\x82Ã\\x83\\\\x82Ã\\x82Â¢Ã\\x83\\\\x83Ã\\x82\\\\x83Ã\\x83\\\\x82Ã\\x82\\\\x82Ã\\x83\\\\x83Ã\\x82\\\\x82Ã\\x83\\\\x82Ã\\x82\\\\x80Ã\\x83\\\\x83Ã\\x82\\\\x83Ã\\x83\\\\x82Ã\\x82\\\\x82Ã\\x83\\\\x83Ã\\x82\\\\x82Ã\\x83\\\\x82Ã\\x82\\\\x99s for a karaoke night. Beautiful ambience, nice crowd, excellent food. I always end up ordering the chilli beef and chicken fried rice. I have tried other foods like the prawn wafers, the prawn appetiser, chilli chicken, pasta, Biryani, pizzas and the vegetarian starters and they have been excellent. The staff are very friendly and quick to serve. FridayÃ\\x83\\\\x83Ã\\x82\\\\x83Ã\\x83\\\\x82Ã\\x82\\\\x83Ã\\x83\\\\x83Ã\\x82\\\\x82Ã\\x83\\\\x82Ã\\x82Â¢Ã\\x83\\\\x83Ã\\x82\\\\x83Ã\\x83\\\\x82Ã\\x82\\\\x82Ã\\x83\\\\x83Ã\\x82\\\\x82Ã\\x83\\\\x82Ã\\x82\\\\x80Ã\\x83\\\\x83Ã\\x82\\\\x83Ã\\x83\\\\x82Ã\\x82\\\\x82Ã\\x83\\\\x83Ã\\x82\\\\x82Ã\\x83\\\\x82Ã\\x82\\\\x99s can be an exception in terms of service due to the crazy crowds. I have had a couple of team dinners in PabloÃ\\x83\\\\x83Ã\\x82\\\\x83Ã\\x83\\\\x82Ã\\x82\\\\x83Ã\\x83\\\\x83Ã\\x82\\\\x82Ã\\x83\\\\x82Ã\\x82Â¢Ã\\x83\\\\x83Ã\\x82\\\\x83Ã\\x83\\\\x82Ã\\x82\\\\x82Ã\\x83\\\\x83Ã\\x82\\\\x82Ã\\x83\\\\x82Ã\\x82\\\\x80Ã\\x83\\\\x83Ã\\x82\\\\x83Ã\\x83\\\\x82Ã\\x82\\\\x82Ã\\x83\\\\x83Ã\\x82\\\\x82Ã\\x83\\\\x82Ã\\x82\\\\x99s with a very good package. My team enjoyed their evenings there.\\\\nA lovely place to be at on weekdays if you want a quiet and not very crowded place to hang out at.\\\\nP.S. The restrooms need to be checked at regular intervals.\\'), (\\'Rated 3.0\\', \"RATED\\\\n  I went to this place on a Saturday night. This place looks huge and has a good ambience, unfortunately it wasn\\'t a happening place. There were less people at the gastrobar. The drinks were just fine. The slow motion cocktail was very different from the description. They also have hookah. The beer battered onion rings were good but their chilli chicken wasn\\'t good and the chicken was pretty hard.\"), (\\'Rated 5.0\\', \"RATED\\\\n  Among my best dinner experiences in Bengaluru! And I don\\'t think it would be changing any time soon. Of course the company matters, went here with my best buddies. But nothing to take away from the place.\\\\nThe whole gastrobar has a great vibe to it with openness of the entire seating and karaoke on the side. The staff is really warm and friendly. The cheese samosas and potato jackets were great appetizers. The pizza was good too. The highlight of the whole evening was an extremely potent LIIT though ;)\\\\nThe crowd too was lively adding to the entire experience. Overall a must visit place.\"), (\\'Rated 4.0\\', \\'RATED\\\\n  Perfect place to spend your weekend nights with karaoke on fridays, tasty food and amazing service! Have gone so many times and love it each time.\\'), (\\'Rated 3.0\\', \"RATED\\\\n  The place is nice but the ambience is a bit dull. it\\'s near to my office so I have been there couple of times just because its nearby. The food is ok ok.\\\\n.\\\\nThey have kareoke night on Fridays but they only allow English songs Ã\\x83\\\\x83Ã\\x82\\\\x83Ã\\x83\\\\x82Ã\\x82\\\\x83Ã\\x83\\\\x83Ã\\x82\\\\x82Ã\\x83\\\\x82Ã\\x82Â°Ã\\x83\\\\x83Ã\\x82\\\\x83Ã\\x83\\\\x82Ã\\x82\\\\x82Ã\\x83\\\\x83Ã\\x82\\\\x82Ã\\x83\\\\x82Ã\\x82\\\\x9fÃ\\x83\\\\x83Ã\\x82\\\\x83Ã\\x83\\\\x82Ã\\x82\\\\x82Ã\\x83\\\\x83Ã\\x82\\\\x82Ã\\x83\\\\x82Ã\\x82\\\\x98Ã\\x83\\\\x83Ã\\x82\\\\x83Ã\\x83\\\\x82Ã\\x82\\\\x82Ã\\x83\\\\x83Ã\\x82\\\\x82Ã\\x83\\\\x82Ã\\x82\\\\x91Ã\\x83\\\\x83Ã\\x82\\\\x83Ã\\x83\\\\x82Ã\\x82\\\\x83Ã\\x83\\\\x83Ã\\x82\\\\x82Ã\\x83\\\\x82Ã\\x82Â°Ã\\x83\\\\x83Ã\\x82\\\\x83Ã\\x83\\\\x82Ã\\x82\\\\x82Ã\\x83\\\\x83Ã\\x82\\\\x82Ã\\x83\\\\x82Ã\\x82\\\\x9fÃ\\x83\\\\x83Ã\\x82\\\\x83Ã\\x83\\\\x82Ã\\x82\\\\x82Ã\\x83\\\\x83Ã\\x82\\\\x82Ã\\x83\\\\x82Ã\\x82\\\\x98Ã\\x83\\\\x83Ã\\x82\\\\x83Ã\\x83\\\\x82Ã\\x82\\\\x82Ã\\x83\\\\x83Ã\\x82\\\\x82Ã\\x83\\\\x82Ã\\x82\\\\x91\\\\n.\\\\nThe pub is quite spacious and they have foos ball table as well which is entertaining Ã\\x83\\\\x83Ã\\x82\\\\x83Ã\\x83\\\\x82Ã\\x82\\\\x83Ã\\x83\\\\x83Ã\\x82\\\\x82Ã\\x83\\\\x82Ã\\x82Â°Ã\\x83\\\\x83Ã\\x82\\\\x83Ã\\x83\\\\x82Ã\\x82\\\\x82Ã\\x83\\\\x83Ã\\x82\\\\x82Ã\\x83\\\\x82Ã\\x82\\\\x9fÃ\\x83\\\\x83Ã\\x82\\\\x83Ã\\x83\\\\x82Ã\\x82\\\\x82Ã\\x83\\\\x83Ã\\x82\\\\x82Ã\\x83\\\\x82Ã\\x82Â¤Ã\\x83\\\\x83Ã\\x82\\\\x83Ã\\x83\\\\x82Ã\\x82\\\\x82Ã\\x83\\\\x83Ã\\x82\\\\x82Ã\\x83\\\\x82Ã\\x82\\\\x97\"), (\\'Rated 4.0\\', \\'RATED\\\\n  I go to this place on FridayÃ\\x83\\\\x83Ã\\x82\\\\x83Ã\\x83\\\\x82Ã\\x82\\\\x83Ã\\x83\\\\x83Ã\\x82\\\\x82Ã\\x83\\\\x82Ã\\x82Â¢Ã\\x83\\\\x83Ã\\x82\\\\x83Ã\\x83\\\\x82Ã\\x82\\\\x82Ã\\x83\\\\x83Ã\\x82\\\\x82Ã\\x83\\\\x82Ã\\x82\\\\x80Ã\\x83\\\\x83Ã\\x82\\\\x83Ã\\x83\\\\x82Ã\\x82\\\\x82Ã\\x83\\\\x83Ã\\x82\\\\x82Ã\\x83\\\\x82Ã\\x82\\\\x99s for a karaoke night. Beautiful ambience, nice crowd, excellent food. I always end up ordering the chilli beef and chicken fried rice. I have tried other foods like the prawn wafers, the prawn appetiser, chilli chicken, pasta, Biryani, pizzas and the vegetarian starters and they have been excellent. The staff are very friendly and quick to serve. FridayÃ\\x83\\\\x83Ã\\x82\\\\x83Ã\\x83\\\\x82Ã\\x82\\\\x83Ã\\x83\\\\x83Ã\\x82\\\\x82Ã\\x83\\\\x82Ã\\x82Â¢Ã\\x83\\\\x83Ã\\x82\\\\x83Ã\\x83\\\\x82Ã\\x82\\\\x82Ã\\x83\\\\x83Ã\\x82\\\\x82Ã\\x83\\\\x82Ã\\x82\\\\x80Ã\\x83\\\\x83Ã\\x82\\\\x83Ã\\x83\\\\x82Ã\\x82\\\\x82Ã\\x83\\\\x83Ã\\x82\\\\x82Ã\\x83\\\\x82Ã\\x82\\\\x99s can be an exception in terms of service due to the crazy crowds. I have had a couple of team dinners in PabloÃ\\x83\\\\x83Ã\\x82\\\\x83Ã\\x83\\\\x82Ã\\x82\\\\x83Ã\\x83\\\\x83Ã\\x82\\\\x82Ã\\x83\\\\x82Ã\\x82Â¢Ã\\x83\\\\x83Ã\\x82\\\\x83Ã\\x83\\\\x82Ã\\x82\\\\x82Ã\\x83\\\\x83Ã\\x82\\\\x82Ã\\x83\\\\x82Ã\\x82\\\\x80Ã\\x83\\\\x83Ã\\x82\\\\x83Ã\\x83\\\\x82Ã\\x82\\\\x82Ã\\x83\\\\x83Ã\\x82\\\\x82Ã\\x83\\\\x82Ã\\x82\\\\x99s with a very good package. My team enjoyed their evenings there.\\\\nA lovely place to be at on weekdays if you want a quiet and not very crowded place to hang out at.\\\\nP.S. The restrooms need to be checked at regular intervals.\\'), (\\'Rated 3.0\\', \"RATED\\\\n  I went to this place on a Saturday night. This place looks huge and has a good ambience, unfortunately it wasn\\'t a happening place. There were less people at the gastrobar. The drinks were just fine. The slow motion cocktail was very different from the description. They also have hookah. The beer battered onion rings were good but their chilli chicken wasn\\'t good and the chicken was pretty hard.\"), (\\'Rated 5.0\\', \"RATED\\\\n  Among my best dinner experiences in Bengaluru! And I don\\'t think it would be changing any time soon. Of course the company matters, went here with my best buddies. But nothing to take away from the place.\\\\nThe whole gastrobar has a great vibe to it with openness of the entire seating and karaoke on the side. The staff is really warm and friendly. The cheese samosas and potato jackets were great appetizers. The pizza was good too. The highlight of the whole evening was an extremely potent LIIT though ;)\\\\nThe crowd too was lively adding to the entire experience. Overall a must visit place.\"), (\\'Rated 4.0\\', \\'RATED\\\\n  Perfect place to spend your weekend nights with karaoke on fridays, tasty food and amazing service! Have gone so many times and love it each time.\\'), (\\'Rated 3.0\\', \"RATED\\\\n  The place is nice but the ambience is a bit dull. it\\'s near to my office so I have been there couple of times just because its nearby. The food is ok ok.\\\\n.\\\\nThey have kareoke night on Fridays but they only allow English songs Ã\\x83\\\\x83Ã\\x82\\\\x83Ã\\x83\\\\x82Ã\\x82\\\\x83Ã\\x83\\\\x83Ã\\x82\\\\x82Ã\\x83\\\\x82Ã\\x82Â°Ã\\x83\\\\x83Ã\\x82\\\\x83Ã\\x83\\\\x82Ã\\x82\\\\x82Ã\\x83\\\\x83Ã\\x82\\\\x82Ã\\x83\\\\x82Ã\\x82\\\\x9fÃ\\x83\\\\x83Ã\\x82\\\\x83Ã\\x83\\\\x82Ã\\x82\\\\x82Ã\\x83\\\\x83Ã\\x82\\\\x82Ã\\x83\\\\x82Ã\\x82\\\\x98Ã\\x83\\\\x83Ã\\x82\\\\x83Ã\\x83\\\\x82Ã\\x82\\\\x82Ã\\x83\\\\x83Ã\\x82\\\\x82Ã\\x83\\\\x82Ã\\x82\\\\x91Ã\\x83\\\\x83Ã\\x82\\\\x83Ã\\x83\\\\x82Ã\\x82\\\\x83Ã\\x83\\\\x83Ã\\x82\\\\x82Ã\\x83\\\\x82Ã\\x82Â°Ã\\x83\\\\x83Ã\\x82\\\\x83Ã\\x83\\\\x82Ã\\x82\\\\x82Ã\\x83\\\\x83Ã\\x82\\\\x82Ã\\x83\\\\x82Ã\\x82\\\\x9fÃ\\x83\\\\x83Ã\\x82\\\\x83Ã\\x83\\\\x82Ã\\x82\\\\x82Ã\\x83\\\\x83Ã\\x82\\\\x82Ã\\x83\\\\x82Ã\\x82\\\\x98Ã\\x83\\\\x83Ã\\x82\\\\x83Ã\\x83\\\\x82Ã\\x82\\\\x82Ã\\x83\\\\x83Ã\\x82\\\\x82Ã\\x83\\\\x82Ã\\x82\\\\x91\\\\n.\\\\nThe pub is quite spacious and they have foos ball table as well which is entertaining Ã\\x83\\\\x83Ã\\x82\\\\x83Ã\\x83\\\\x82Ã\\x82\\\\x83Ã\\x83\\\\x83Ã\\x82\\\\x82Ã\\x83\\\\x82Ã\\x82Â°Ã\\x83\\\\x83Ã\\x82\\\\x83Ã\\x83\\\\x82Ã\\x82\\\\x82Ã\\x83\\\\x83Ã\\x82\\\\x82Ã\\x83\\\\x82Ã\\x82\\\\x9fÃ\\x83\\\\x83Ã\\x82\\\\x83Ã\\x83\\\\x82Ã\\x82\\\\x82Ã\\x83\\\\x83Ã\\x82\\\\x82Ã\\x83\\\\x82Ã\\x82Â¤Ã\\x83\\\\x83Ã\\x82\\\\x83Ã\\x83\\\\x82Ã\\x82\\\\x82Ã\\x83\\\\x83Ã\\x82\\\\x82Ã\\x83\\\\x82Ã\\x82\\\\x97\"), (\\'Rated 4.0\\', \\'RATED\\\\n  I go to this place on FridayÃ\\x83\\\\x83Ã\\x82\\\\x83Ã\\x83\\\\x82Ã\\x82\\\\x83Ã\\x83\\\\x83Ã\\x82\\\\x82Ã\\x83\\\\x82Ã\\x82Â¢Ã\\x83\\\\x83Ã\\x82\\\\x83Ã\\x83\\\\x82Ã\\x82\\\\x82Ã\\x83\\\\x83Ã\\x82\\\\x82Ã\\x83\\\\x82Ã\\x82\\\\x80Ã\\x83\\\\x83Ã\\x82\\\\x83Ã\\x83\\\\x82Ã\\x82\\\\x82Ã\\x83\\\\x83Ã\\x82\\\\x82Ã\\x83\\\\x82Ã\\x82\\\\x99s for a karaoke night. Beautiful ambience, nice crowd, excellent food. I always end up ordering the chilli beef and chicken fried rice. I have tried other foods like the prawn wafers, the prawn appetiser, chilli chicken, pasta, Biryani, pizzas and the vegetarian starters and they have been excellent. The staff are very friendly and quick to serve. FridayÃ\\x83\\\\x83Ã\\x82\\\\x83Ã\\x83\\\\x82Ã\\x82\\\\x83Ã\\x83\\\\x83Ã\\x82\\\\x82Ã\\x83\\\\x82Ã\\x82Â¢Ã\\x83\\\\x83Ã\\x82\\\\x83Ã\\x83\\\\x82Ã\\x82\\\\x82Ã\\x83\\\\x83Ã\\x82\\\\x82Ã\\x83\\\\x82Ã\\x82\\\\x80Ã\\x83\\\\x83Ã\\x82\\\\x83Ã\\x83\\\\x82Ã\\x82\\\\x82Ã\\x83\\\\x83Ã\\x82\\\\x82Ã\\x83\\\\x82Ã\\x82\\\\x99s can be an exception in terms of service due to the crazy crowds. I have had a couple of team dinners in PabloÃ\\x83\\\\x83Ã\\x82\\\\x83Ã\\x83\\\\x82Ã\\x82\\\\x83Ã\\x83\\\\x83Ã\\x82\\\\x82Ã\\x83\\\\x82Ã\\x82Â¢Ã\\x83\\\\x83Ã\\x82\\\\x83Ã\\x83\\\\x82Ã\\x82\\\\x82Ã\\x83\\\\x83Ã\\x82\\\\x82Ã\\x83\\\\x82Ã\\x82\\\\x80Ã\\x83\\\\x83Ã\\x82\\\\x83Ã\\x83\\\\x82Ã\\x82\\\\x82Ã\\x83\\\\x83Ã\\x82\\\\x82Ã\\x83\\\\x82Ã\\x82\\\\x99s with a very good package. My team enjoyed their evenings there.\\\\nA lovely place to be at on weekdays if you want a quiet and not very crowded place to hang out at.\\\\nP.S. The restrooms need to be checked at regular intervals.\\'), (\\'Rated 3.0\\', \"RATED\\\\n  I went to this place on a Saturday night. This place looks huge and has a good ambience, unfortunately it wasn\\'t a happening place. There were less people at the gastrobar. The drinks were just fine. The slow motion cocktail was very different from the description. They also have hookah. The beer battered onion rings were good but their chilli chicken wasn\\'t good and the chicken was pretty hard.\"), (\\'Rated 5.0\\', \"RATED\\\\n  Among my best dinner experiences in Bengaluru! And I don\\'t think it would be changing any time soon. Of course the company matters, went here with my best buddies. But nothing to take away from the place.\\\\nThe whole gastrobar has a great vibe to it with openness of the entire seating and karaoke on the side. The staff is really warm and friendly. The cheese samosas and potato jackets were great appetizers. The pizza was good too. The highlight of the whole evening was an extremely potent LIIT though ;)\\\\nThe crowd too was lively adding to the entire experience. Overall a must visit place.\"), (\\'Rated 4.0\\', \\'RATED\\\\n  Perfect place to spend your weekend nights with karaoke on fridays, tasty food and amazing service! Have gone so many times and love it each time.\\'), (\\'Rated 3.0\\', \"RATED\\\\n  The place is nice but the ambience is a bit dull. it\\'s near to my office so I have been there couple of times just because its nearby. The food is ok ok.\\\\n.\\\\nThey have kareoke night on Fridays but they only allow English songs Ã\\x83\\\\x83Ã\\x82\\\\x83Ã\\x83\\\\x82Ã\\x82\\\\x83Ã\\x83\\\\x83Ã\\x82\\\\x82Ã\\x83\\\\x82Ã\\x82Â°Ã\\x83\\\\x83Ã\\x82\\\\x83Ã\\x83\\\\x82Ã\\x82\\\\x82Ã\\x83\\\\x83Ã\\x82\\\\x82Ã\\x83\\\\x82Ã\\x82\\\\x9fÃ\\x83\\\\x83Ã\\x82\\\\x83Ã\\x83\\\\x82Ã\\x82\\\\x82Ã\\x83\\\\x83Ã\\x82\\\\x82Ã\\x83\\\\x82Ã\\x82\\\\x98Ã\\x83\\\\x83Ã\\x82\\\\x83Ã\\x83\\\\x82Ã\\x82\\\\x82Ã\\x83\\\\x83Ã\\x82\\\\x82Ã\\x83\\\\x82Ã\\x82\\\\x91Ã\\x83\\\\x83Ã\\x82\\\\x83Ã\\x83\\\\x82Ã\\x82\\\\x83Ã\\x83\\\\x83Ã\\x82\\\\x82Ã\\x83\\\\x82Ã\\x82Â°Ã\\x83\\\\x83Ã\\x82\\\\x83Ã\\x83\\\\x82Ã\\x82\\\\x82Ã\\x83\\\\x83Ã\\x82\\\\x82Ã\\x83\\\\x82Ã\\x82\\\\x9fÃ\\x83\\\\x83Ã\\x82\\\\x83Ã\\x83\\\\x82Ã\\x82\\\\x82Ã\\x83\\\\x83Ã\\x82\\\\x82Ã\\x83\\\\x82Ã\\x82\\\\x98Ã\\x83\\\\x83Ã\\x82\\\\x83Ã\\x83\\\\x82Ã\\x82\\\\x82Ã\\x83\\\\x83Ã\\x82\\\\x82Ã\\x83\\\\x82Ã\\x82\\\\x91\\\\n.\\\\nThe pub is quite spacious and they have foos ball table as well which is entertaining Ã\\x83\\\\x83Ã\\x82\\\\x83Ã\\x83\\\\x82Ã\\x82\\\\x83Ã\\x83\\\\x83Ã\\x82\\\\x82Ã\\x83\\\\x82Ã\\x82Â°Ã\\x83\\\\x83Ã\\x82\\\\x83Ã\\x83\\\\x82Ã\\x82\\\\x82Ã\\x83\\\\x83Ã\\x82\\\\x82Ã\\x83\\\\x82Ã\\x82\\\\x9fÃ\\x83\\\\x83Ã\\x82\\\\x83Ã\\x83\\\\x82Ã\\x82\\\\x82Ã\\x83\\\\x83Ã\\x82\\\\x82Ã\\x83\\\\x82Ã\\x82Â¤Ã\\x83\\\\x83Ã\\x82\\\\x83Ã\\x83\\\\x82Ã\\x82\\\\x82Ã\\x83\\\\x83Ã\\x82\\\\x82Ã\\x83\\\\x82Ã\\x82\\\\x97\"), (\\'Rated 4.0\\', \\'RATED\\\\n  Cool place to hangout with friends. We celebrated a farewell here. Had lot of beers, whisky, nachos, pizzzas. Well all drunk, we just enjoyed the show.\\'), (\\'Rated 5.0\\', \"RATED\\\\n  Pablos is a vary cheerful place and filled with youngsters as that\\'s the vibe you get here from the time you enter\\\\nLove the way they have used containers to make the kitchen and the bar\\\\n\\\\nThe karaoke at nights is super fun\\\\nHeard they are found for their whiskey sours and by God they sure we\\'re good\\\\nAnd if you are a Zomato Gold membe on drinksr then feat not as they have a 2+2 on drinks\\\\nSo yay need I say more\\\\nÃ\\x83\\\\x83Ã\\x82\\\\x83Ã\\x83\\\\x82Ã\\x82\\\\x83Ã\\x83\\\\x83Ã\\x82\\\\x82Ã\\x83\\\\x82Ã\\x82Â°Ã\\x83\\\\x83Ã\\x82\\\\x83Ã\\x83\\\\x82Ã\\x82\\\\x82Ã\\x83\\\\x83Ã\\x82\\\\x82Ã\\x83\\\\x82Ã\\x82\\\\x9fÃ\\x83\\\\x83Ã\\x82\\\\x83Ã\\x83\\\\x82Ã\\x82\\\\x82Ã\\x83\\\\x83Ã\\x82\\\\x82Ã\\x83\\\\x82Ã\\x82\\\\x98Ã\\x83\\\\x83Ã\\x82\\\\x83Ã\\x83\\\\x82Ã\\x82\\\\x82Ã\\x83\\\\x83Ã\\x82\\\\x82Ã\\x83\\\\x82Ã\\x82\\\\x80\\\\nWe had pizzas\\\\nCheese and bacon balls\\\\nChicken wings\\\\nPulled pork burgers and gisn sausage pulao\\\\nAll yum yum yum\\\\nGreat service and good music\")]'\n",
            " '[(\\'Rated 4.0\\', \"RATED\\\\n  I had :-\\\\n\\\\n1. Italian Tiramisu Shake\\\\n2. Grilled One\\'s (Burgers) Chicken\\\\n\\\\nLoved both the items... The shake was really good... It whet my appetite for the burger which too was lovely and delectable...\\\\n\\\\nThe staff was pleasant and friendly...\"), (\\'Rated 3.0\\', \"RATED\\\\n  Oliver\\'s is always the place where people working in ITPL go if they are in mood to chill post work.\\\\nThis place serves decent pizza and drinks\"), (\\'Rated 3.0\\', \\'RATED\\\\n  I have been to this place couple of times now. Found it OK in terms of food, service, ambience, pricing and availability of drinks.\\\\nOn our 1st visit we were around 6people and had ordered chicken starters, beer, wine and pizza. However, the service was too slow. Even the bill was given to us almost after 20mins of asking the waiters.\\\\nDuring 2nd visit, we were 5 people. This visit was bit disappointing, as almost 80% of the drinks on menu which I wanted to have were not available. Ultimately i had to get a diet coke. Even the food menu is a traditional one. There is nothing different and the taste is average.\\\\nMy friend also tried flame shot here, which was a big disappointment as the waiters who made it seemed amateurs. He had struggled so much to drink that flame shot, as the flame was all over the table.\\'), (\\'Rated 3.0\\', \"RATED\\\\n  I\\'m pleasantly surprised when I happen to find new places to dine close to home.\\\\nWith this in mind I stopped by Oliver a while back. \\\\nOverlooking ITPL, the atmosphere here is well lit and lively especially if you happen to be here during live match screenings. \\\\nComing to the food I was a bit disappointed. \\\\nI ordered the buenos nachos and the chicken nachos pizza. \\\\nTalking about the nachos, they were basically made with cornitos chips. \\\\nThe crust of the pizza was dry and the toppings lacked seasoning. \\\\nThe drinks we ordered were just okayish.\\\\nOverall slightly disappointed.\"), (\\'Rated 3.0\\', \\'RATED\\\\n  Ordered chilly pork, which was not really very spicy( also most of the pieces were pork fat only and not meat) . And the noodles was good but not that good. Kind of expected a little bit more from this place. Found it a bit overpriced for the quantity.\\'), (\\'Rated 3.0\\', \"RATED\\\\n  Good place to hang out and chill with your friends with good food and drinks. You would love their range of pizzas and their taste if you like thin crush pizzas - like the Mexican nachos one myself. Drinks are good too with offers - mainly people opt for Bira. Had sizzling Brownie in desserts and it was yum! Can improve more on overall crust and taste of the pizzas though - not that nice if you\\'re going only for food. Ã\\x83\\\\x83Ã\\x82\\\\x83Ã\\x83\\\\x82Ã\\x82\\\\x83Ã\\x83\\\\x83Ã\\x82\\\\x82Ã\\x83\\\\x82Ã\\x82Â¢Ã\\x83\\\\x83Ã\\x82\\\\x83Ã\\x83\\\\x82Ã\\x82\\\\x82Ã\\x83\\\\x83Ã\\x82\\\\x82Ã\\x83\\\\x82Ã\\x82\\\\x9cÃ\\x83\\\\x83Ã\\x82\\\\x83Ã\\x83\\\\x82Ã\\x82\\\\x82Ã\\x83\\\\x83Ã\\x82\\\\x82Ã\\x83\\\\x82Ã\\x82\\\\x8cÃ\\x83\\\\x83Ã\\x82\\\\x83Ã\\x83\\\\x82Ã\\x82\\\\x83Ã\\x83\\\\x83Ã\\x82\\\\x82Ã\\x83\\\\x82Ã\\x82Â°Ã\\x83\\\\x83Ã\\x82\\\\x83Ã\\x83\\\\x82Ã\\x82\\\\x82Ã\\x83\\\\x83Ã\\x82\\\\x82Ã\\x83\\\\x82Ã\\x82\\\\x9fÃ\\x83\\\\x83Ã\\x82\\\\x83Ã\\x83\\\\x82Ã\\x82\\\\x82Ã\\x83\\\\x83Ã\\x82\\\\x82Ã\\x83\\\\x82Ã\\x82\\\\x8fÃ\\x83\\\\x83Ã\\x82\\\\x83Ã\\x83\\\\x82Ã\\x82\\\\x82Ã\\x83\\\\x83Ã\\x82\\\\x82Ã\\x83\\\\x82Ã\\x82Â» #ThinCrustPizzas #Bira\"), (\\'Rated 3.0\\', \"RATED\\\\n  Visited during lunch hours.\\\\nThe nachos were pretty filling but just about above-average in taste.\\\\n\\\\nI would recommend the Gambas! Prawns were succelent and flavourful.\\\\n\\\\nThe service was also pretty quick. I\\'m not sure why the stools were a little worn out and the ambience was a little low and dim. Perhaps the aim was to give a rusty vibe but the tables and chairs seemed a little too old and rusted.\"), (\\'Rated 3.0\\', \"RATED\\\\n  It\\'s one of the few places we found open past 9pm near ITPL, that serves cocktails. It\\'s on the first floor of the shopping complex. This one cocktail called Hanky Panky was particularly good.\"), (\\'Rated 4.0\\', \"RATED\\\\n  Oliver\\'s.. The place i love for pizzas... And hey.. If you want to just chill, have some beer along with your friends then this is the place for you.. I personally love their pizzas and the ambience.. Cheers..!!\"), (\\'Rated 4.0\\', \"RATED\\\\n  Oliver\\'s have been a go to place after office as it is in ITPL itself. For drinks they don\\'t keep much options available which is disappointing. Coming to food, food is really good. We tried chilly chicken, American corn and crispy babycorn for starters and had chilly paneer tikka and spinach paneer pizza. Taste and ambience is very much lively and dewy.\"), (\\'Rated 1.0\\', \"RATED\\\\n  This restaurant was a big disappointment. The list of unprofessionalism is quite big.\\\\nWe found a dead cockroach near the table. And when pointing it out the service guy was least bothered and asked some other guy to look into it.Then we shifted to a different table.\\\\nAnother downer was the unresponsive attitude of the staff. We literally had to get up from our seats to give order.\\\\nThe food was above par to it\\'s service, which was a good thing. But when some one visits ur restaurant, they want to have the full dining experience. Otherwise food can be home delivered.\\\\nPlease work on ur cleanliness and service if u want to attract customers.\"), (\\'Rated 5.0\\', \\'RATED\\\\n  A desi styled pub easy on pocket, still under construction. Has got combo offers throughout the week. The food is great to hangout on any day of the week. Should minimise the order delivery time.\\'), (\\'Rated 4.0\\', \"RATED\\\\n  Tasty food at not so high rates. The ambience and service was pretty good.\\\\n\\\\nWe had spring rolls and jalapeno poppers for starters. They didn\\'t feel too oily and were delicious. Sauces served with them went pretty well with them.\\\\n\\\\nWe went for patata salsa pizza. Potato part tasted good. Though I would have liked better sauce.\\\\n\\\\nFor desserts, we went for brownie sundae and it was amazing. The quantity was generous as well.\"), (\\'Rated 3.0\\', \"RATED\\\\n  Not sure why it is rated so high on Zomato. When I go to any pub I expect atleast some good quality finger food and mocktails. Both were missing here. Service was way below par as the servers didn\\'t even know what to recommend and what is house special etc. Pizza was OK.\\\\n\\\\nAmbience wise a good place to hang out with friends and make some noise. They did try to make it look like a sports bar with TV screens here and there. But failed miserably.\\\\n\\\\nOverall experience was well below par.\"), (\\'Rated 4.0\\', \"RATED\\\\n  Good place for stress busting.ambience is friendly.bug food quality is not upto the mark.beer also not available according to your choice.we asked Bira..they told it\\'s not available right now (seriously?? Even on Saturday evening).Music was ok only..not a good music place.the only advantage I got is its in ITPL ,beside my office.\"), (\\'Rated 1.0\\', \"RATED\\\\n  This restaurant was a big disappointment. The list of unprofessionalism is quite big.\\\\nWe found a dead cockroach near the table. And when pointing it out the service guy was least bothered and asked some other guy to look into it.Then we shifted to a different table.\\\\nAnother downer was the unresponsive attitude of the staff. We literally had to get up from our seats to give order.\\\\nThe food was above par to it\\'s service, which was a good thing. But when some one visits ur restaurant, they want to have the full dining experience. Otherwise food can be home delivered.\\\\nPlease work on ur cleanliness and service if u want to attract customers.\"), (\\'Rated 5.0\\', \\'RATED\\\\n  A desi styled pub easy on pocket, still under construction. Has got combo offers throughout the week. The food is great to hangout on any day of the week. Should minimise the order delivery time.\\'), (\\'Rated 4.0\\', \"RATED\\\\n  Tasty food at not so high rates. The ambience and service was pretty good.\\\\n\\\\nWe had spring rolls and jalapeno poppers for starters. They didn\\'t feel too oily and were delicious. Sauces served with them went pretty well with them.\\\\n\\\\nWe went for patata salsa pizza. Potato part tasted good. Though I would have liked better sauce.\\\\n\\\\nFor desserts, we went for brownie sundae and it was amazing. The quantity was generous as well.\"), (\\'Rated 3.0\\', \"RATED\\\\n  Not sure why it is rated so high on Zomato. When I go to any pub I expect atleast some good quality finger food and mocktails. Both were missing here. Service was way below par as the servers didn\\'t even know what to recommend and what is house special etc. Pizza was OK.\\\\n\\\\nAmbience wise a good place to hang out with friends and make some noise. They did try to make it look like a sports bar with TV screens here and there. But failed miserably.\\\\n\\\\nOverall experience was well below par.\"), (\\'Rated 4.0\\', \"RATED\\\\n  Good place for stress busting.ambience is friendly.bug food quality is not upto the mark.beer also not available according to your choice.we asked Bira..they told it\\'s not available right now (seriously?? Even on Saturday evening).Music was ok only..not a good music place.the only advantage I got is its in ITPL ,beside my office.\"), (\\'Rated 1.0\\', \"RATED\\\\n  This restaurant was a big disappointment. The list of unprofessionalism is quite big.\\\\nWe found a dead cockroach near the table. And when pointing it out the service guy was least bothered and asked some other guy to look into it.Then we shifted to a different table.\\\\nAnother downer was the unresponsive attitude of the staff. We literally had to get up from our seats to give order.\\\\nThe food was above par to it\\'s service, which was a good thing. But when some one visits ur restaurant, they want to have the full dining experience. Otherwise food can be home delivered.\\\\nPlease work on ur cleanliness and service if u want to attract customers.\"), (\\'Rated 5.0\\', \\'RATED\\\\n  A desi styled pub easy on pocket, still under construction. Has got combo offers throughout the week. The food is great to hangout on any day of the week. Should minimise the order delivery time.\\'), (\\'Rated 4.0\\', \"RATED\\\\n  Tasty food at not so high rates. The ambience and service was pretty good.\\\\n\\\\nWe had spring rolls and jalapeno poppers for starters. They didn\\'t feel too oily and were delicious. Sauces served with them went pretty well with them.\\\\n\\\\nWe went for patata salsa pizza. Potato part tasted good. Though I would have liked better sauce.\\\\n\\\\nFor desserts, we went for brownie sundae and it was amazing. The quantity was generous as well.\"), (\\'Rated 3.0\\', \"RATED\\\\n  Not sure why it is rated so high on Zomato. When I go to any pub I expect atleast some good quality finger food and mocktails. Both were missing here. Service was way below par as the servers didn\\'t even know what to recommend and what is house special etc. Pizza was OK.\\\\n\\\\nAmbience wise a good place to hang out with friends and make some noise. They did try to make it look like a sports bar with TV screens here and there. But failed miserably.\\\\n\\\\nOverall experience was well below par.\"), (\\'Rated 4.0\\', \"RATED\\\\n  Good place for stress busting.ambience is friendly.bug food quality is not upto the mark.beer also not available according to your choice.we asked Bira..they told it\\'s not available right now (seriously?? Even on Saturday evening).Music was ok only..not a good music place.the only advantage I got is its in ITPL ,beside my office.\"), (\\'Rated 2.0\\', \"RATED\\\\n  Pathetic presentation of the dishes, the plate looks half empty. It\\'s just cigarette smoke that u can breath.\\\\nDid not enjoy the food or ambience.\"), (\\'Rated 3.0\\', \\'RATED\\\\n  Went there on a Friday eve. They were out of almost every good branded beers. Below average food, the place seems a little bit shady. Sitting chairs and tables are really rusty. Staffs not really pro active in serving you. They overcharged me, had to call them and get the amount back. So you get the picture.\\'), (\\'Rated 4.0\\', \"RATED\\\\n  Oliver\\'s Pub is a decent place with a good ambience. Food was pretty good although we tried only vegetarian dishes. They had limited options for drinks and few of the listed drinks were not even available. I had the most amazing Chinese bhel over here. I tried two variants of pizzas there : Paneer peri peri and Margherita paneer spinach pizza, both of them were nicely made. Please do give a try to the spinach one. It was surprisingly delicious Ã\\x83\\\\x83Ã\\x82\\\\x83Ã\\x83\\\\x82Ã\\x82\\\\x83Ã\\x83\\\\x83Ã\\x82\\\\x82Ã\\x83\\\\x82Ã\\x82Â°Ã\\x83\\\\x83Ã\\x82\\\\x83Ã\\x83\\\\x82Ã\\x82\\\\x82Ã\\x83\\\\x83Ã\\x82\\\\x82Ã\\x83\\\\x82Ã\\x82\\\\x9fÃ\\x83\\\\x83Ã\\x82\\\\x83Ã\\x83\\\\x82Ã\\x82\\\\x82Ã\\x83\\\\x83Ã\\x82\\\\x82Ã\\x83\\\\x82Ã\\x82\\\\x98Ã\\x83\\\\x83Ã\\x82\\\\x83Ã\\x83\\\\x82Ã\\x82\\\\x82Ã\\x83\\\\x83Ã\\x82\\\\x82Ã\\x83\\\\x82Ã\\x82\\\\x8b\")]']\n",
            "\n",
            "Data Type of reviews_list column is: object\n",
            "------------------------------------------------------------------------------------------\n",
            "Unique Values of menu_item column: ['[]'\n",
            " \"['Chocolate Fantasy (Pack Of 5)', 'Pan Cake (Pack Of 6)', 'Gulab Jamun (Pack Of 10)', 'Gulkand Shot (Pack Of 5)', 'Chocolate Decadence (Pack of 2)', 'CheeseCake (Pack Of 2)', 'Red Velvet Slice Cake (Pack of 2)', 'Red Velvet Slice Cake & Cheese Cake (Pack of 2)', 'Red Velvet Slice Cake & Chocolate Decadence Cake (Pack of 2)', 'Hazelnut Brownie (Pack of 2)', 'Moments', 'Red Velvet Cake With Butter Cream Frosting (750 Gm)', 'Red Velvet Slice Cake (Pack of 2)', 'Red Velvet Slice Cake & Cheese Cake (Pack of 2)', 'Red Velvet Slice Cake & Chocolate Decadence Cake (Pack of 2)', 'Red Velvet Slice Cake (Pack of 1)', 'Valentine Red Velvet Jar', 'Valentine Chocolate Jar', 'Valentines Jar Combo', 'Pink Guava 500 ML', 'Oreo Vanilla 500 ML', 'Cookie Crumble 500 ML', 'Chocolate Fantasy', 'Gulkand-E-Bahar', 'Pan Cake', 'Hazelnut Brownie (Pack Of 1)', 'Gulab Jamun (Pack Of 2)', 'Plum Cake', 'Red Velvet Cake With Butter Cream Frosting (750 Gm)', 'Chocolate Mud Cake (700 Gms)', 'CheeseCake (Pack of 1)', 'Chocolate Decadence (Pack of 1)', 'Red Velvet Slice Cake (Pack of 1)']\"\n",
            " \"['Chole Kulcha Meal', 'Upvas Aloo Paratha With Dahi', 'Singhada Aloo Paratha with Hare Tamatar Ki Sabji', 'Smoked Butter Chicken Combo', 'Paneer Methi Chaman Combo', 'Mutton Bhuna Combo', 'Rajma Masala Meal', 'Dal Makhani Veg Starter Combo', 'Dal Makhani Non-Veg Starter Combo', 'Malai Kofta Combo', 'Jumbo Chicken Wrap', 'Jumbo Veg Wrap', 'Jumbo Falafel Salsa Wrap', 'Chicken Overload Jumbo Wrap', 'Veg Pizza Wrap', 'Chicken Pizza Wrap', 'Mexican Potato Salsa Wrap', 'American Smokey Sausage Wrap', 'Makhani Falafel Wrap', 'Mutton Overload Wrap', 'Mac & Cheese Chicken Wrap', 'Mac & Cheese Veg Wrap', 'Barbeque Chicken Wrap', 'Mutton Boti Wrap', 'Masala Paneer Tikka Wrap', 'Fiery Paneer Tikka Wrap', 'Masala Chicken Tikka Wrap', 'Cheesy Corn Salsa Wrap', 'Chicken Mayo Wrap', 'Cheese Melt Chicken Wrap', 'Cheese Melt Paneer Wrap', 'Double Cheese Meatball Wrap', 'Reshmi Chicken Kebab Wrap', 'Egg Cheese Sausage Wrap', 'Double Egg Chatpata Wrap', 'Cheesy Potato Wrap', 'Veg Falafel Wrap', 'Chicken Bhuna Wrap', 'Chatpate Chole Wrap', 'Fiery Paneer Wrap', 'Fiery Chicken Wrap', 'Mac & Cheese Wrap', 'Hare Tamatar & Sabudana Wada Royal Thali', 'Singhada Aloo Paratha & Hare Tamatar Royal Satvik Meal', 'Smoked Butter Chicken With Omelette', 'Rajma Masala Royal Combo', 'Paneer Methi Chaman Royal Combo', 'Mutton Bhuna Royal Combo', 'Smoked Butter Chicken Royal Combo', 'Malai Kofta Royal Combo', 'Fusion Breakfast', 'Pan Cake', 'Aloo Paratha Combo', 'Chai for 4', 'Cheesy Chicken Meatballs', 'Peach Tea (Serves 4)', 'Falafel Nuggets with Mayo Dip', 'Potato Chilli Shots with Mayo Dip', 'Pan Cake', 'Kashmiri Kahwa (Serves 4)', 'Masala Chai (Serves 4)', 'Chai for 4 + Nature valley bar', 'Kulcha', 'Flavorful Rice Tub', 'Dal Makhani Bowl (Half KG)', 'Smoked Butter Chicken Bowl (Half KG)', 'Mutton Bhuna Bowl (Half KG)', 'Singhada Aloo Paratha Tub', 'Curd Bowl (Half KG)', 'Hare Tamatar Ki Subji (Half KG)', 'Rajma Masala Bowl (Half KG)', 'Triangle Paratha Tub', 'Malai Kofta Bowl (Half Kg)', 'Chocolate Fantasy', 'SWIG Jeera Masala', 'SWIG Green apple', 'Kesar Muesli', 'Gulab Jamun (Pack Of 2)', 'Plum Cake', 'Gulab Jamun (Pack of 1)', 'Moments', 'Hazelnut Brownie (Pack Of 1)', 'CheeseCake (Pack of 1)', 'Chocolate Decadence (Pack of 1)', 'Red Velvet Slice Cake (Pack of 1)', 'Mint Chaas']\"\n",
            " ...\n",
            " '[\\'Veg Thai Green Curry\\', \\'BBQ Sloppy Chicken Burger\\', \"Harry\\'s Farm House Pizza\", \\'Egg Schezwan Fried Rice\\', \\'Chicken Schezwan Noodles\\', \\'Veg Platter\\', \\'Non Veg Platter\\', \\'Tom Yum Goong\\', \\'Tandoori Kalonji Aloo\\', \\'Tandoori Pesto Flowerets\\', \\'Paneer and Pineapple Tikka\\', \\'Adraki Soy Chilli Chicken Kebab\\', \\'Tandoori Chicken Lollipop\\', \\'Parpika Choosa\\', \\'Lamb Seekh Kebab\\', \\'Achari Fish Tikka\\', \\'Rumali Roti\\', \\'Naan\\', \\'Butter Naan\\', \\'Garlic Naan\\', \\'Butter Garlic Naan\\', \\'Cheese Naan\\', \\'Butter Garlic Cheese Naan\\', \\'Garlic Cheese Naan\\', \\'Veg Fried Rice\\', \\'Veg Schezwan Fried Rice\\', \\'Veg Hakka Noodles\\', \\'Veg Schezwan Noodles\\', \\'Veg Singapore Noodles\\', \\'Egg Fried Rice\\', \\'Egg Schezwan Fried Rice\\', \\'Egg Hakka Noodles\\', \\'Egg Schezwan Noodles\\', \\'Egg Singapore Noodles\\', \\'Chicken Hakka Noodles\\', \\'Chicken Schezwan Noodles\\', \\'Chicken Singapore Noodles\\', \\'Prawns Fried Rice\\', \\'Prawns Schezwan Fried Rice\\', \\'Prawns Hakka Noodles\\', \\'Prawns Schezwan Noodles\\', \\'Prawns Singapore Noodles\\', \\'Margherita Pizza\\', \"Harry\\'s Farm House Pizza\", \\'Classique Paneer Tikka Pizza\\', \\'Veg Exotica Pizza\\', \\'Thai Basil Chicken Pizza\\', \\'Classic Chicken Tikka Pizza\\', \\'Spicy Pepperoni Pizza\\', \\'Penne Rustica\\', \\'Spaghetti Aglio e Olio Pasta\\', \\'HarryÃ\\x83\\\\x83Ã\\x82\\\\x83Ã\\x83\\\\x82Ã\\x82\\\\x83Ã\\x83\\\\x83Ã\\x82\\\\x82Ã\\x83\\\\x82Ã\\x82Â¢Ã\\x83\\\\x83Ã\\x82\\\\x83Ã\\x83\\\\x82Ã\\x82\\\\x82Ã\\x83\\\\x83Ã\\x82\\\\x82Ã\\x83\\\\x82Ã\\x82\\\\x80Ã\\x83\\\\x83Ã\\x82\\\\x83Ã\\x83\\\\x82Ã\\x82\\\\x82Ã\\x83\\\\x83Ã\\x82\\\\x82Ã\\x83\\\\x82Ã\\x82\\\\x99s Mac and Cheese Pasta\\', \\'Penne Vodkatini\\', \\'Baked Butter Chicken Lasaqna\\', \\'Spaghetti Carbonara\\', \\'Straight Up Veg Burger\\', \\'BBQ Sloppy Chicken Burger\\', \\'HarryÃ\\x83\\\\x83Ã\\x82\\\\x83Ã\\x83\\\\x82Ã\\x82\\\\x83Ã\\x83\\\\x83Ã\\x82\\\\x82Ã\\x83\\\\x82Ã\\x82Â¢Ã\\x83\\\\x83Ã\\x82\\\\x83Ã\\x83\\\\x82Ã\\x82\\\\x82Ã\\x83\\\\x83Ã\\x82\\\\x82Ã\\x83\\\\x82Ã\\x82\\\\x80Ã\\x83\\\\x83Ã\\x82\\\\x83Ã\\x83\\\\x82Ã\\x82\\\\x82Ã\\x83\\\\x83Ã\\x82\\\\x82Ã\\x83\\\\x82Ã\\x82\\\\x99s Lamb Burger\\', \\'Jazz Burger\\', \\'Paneer Bhurji Pav\\', \\'Egg Kejriwal\\', \\'Anda Bhurji Pav\\', \\'Omelette Pav\\', \\'Egg Chilly\\', \\'Goan Rassa Omelette with Pav\\', \\'Veg Wok Tossed Ginger Sprout Noodles with Crackling Spinach\\', \\'Veg Kung Pao Curry\\', \\'Veg Thai Green Curry\\', \\'Veg Laksa\\', \\'Chicken Wok Tossed Ginger Sprout Noodles with Crackling Spinach\\', \\'Grilled Chilly Chicken\\', \\'Chicken Kung Pao Curry\\', \\'Chicken Thai Green Curry\\', \\'Chicken Laksa\\', \\'Sri Lankan Black Pepper Chicken\\', \\'Nasi Stir Fry Rice\\', \\'Fish Wok Tossed Ginger Sprout Noodles with Crackling Spinach\\', \\'Seafood Kung Pao Curry\\', \\'Seafood Thai Green Curry\\', \\'Seafood Laksa\\', \\'Bangkok Seafood Bowl\\', \\'Crispy Garlic Bread\\', \\'Classic Masala Peanut\\', \\'Salt and Pepper Corn\\', \\'Bombay Spiced Wedges\\', \\'Harrys Onion Rings\\', \\'French Fries\\', \\'Crispy Chilli Potatoes\\', \\'Baked Sweet Potato Wedges\\', \\'Peri Peri Salsa Fries\\', \\'Parmigiana Truffle Fries\\', \\'Chicken Tikka Poutine\\', \\'Lamb Lovers Fries\\', \\'Paneer Bhurji Pav\\', \\'Cheese Chilli Toast\\', \\'Pita Chips with Classic Hummus\\', \\'Paneer Chilli Dry\\', \\'Veg Smoked Quesadillas\\', \\'Fondue Stuffed Mushrooms\\', \\'Wonton Kachories\\', \\'Cottage Cheese Malaysian Satay\\', \\'Muchos Nachos Veggie\\', \"Harry\\'s Cheese Fondue Veg Dunks\", \\'Non Veg Smoked Quesadillas\\', \\'Chilli Chicken\\', \\'Chicken Malaysian Satay\\', \\'Drunken Chicken\\', \\'Crispy Chicken\\', \\'Andhra Chicken Pepper Fry\\', \\'Singapore Chicken Lollipop\\', \\'Fiery Schezwan Pepper Chicken\\', \\'Chilli Chicken Roll\\', \\'BBQ Rum Flambeed Wings\\', \\'Grilled Tenderloin Chilli Fry\\', \\'Keema Pav\\', \\'Pigs in a Blanket\\', \\'Kerala Buff Chilly\\', \\'Buffalo Chicken Winglets\\', \\'Pattaya Beach Fish Goujons\\', \\'Fishermans Basket\\', \"Harry\\'s Cheese Fondue Non Veg Dunks\", \\'Paneer Urban Tikka Masala\\', \"Veg Harry\\'s Stroganoff\", \\'Chicken Urban Tikka Masala\\', \\'Jamaican Jerk Chicken\\', \"Chicken Harry\\'s Stroganoff\", \\'Harrys Pepper Chicken\\', \\'Peppered Tenderloin Steak\\', \"Harry\\'s Beer Batter Fish\", \\'Smoked Paprika Fish\\', \\'Darsaan\\', \\'Sizzling Brownie\\']'\n",
            " '[\\'Chicken Wings\\', \\'Pepper Chicken\\', \"Beef Grilled One\\'s Burger\", \\'Spicy Louisiana Pizza\\', \\'Chilly Chicken Pizza\\', \\'Chicken Mexicana Pizza\\', \\'Veg Italian Tomato and Fresh Basil Soup\\', \\'Chicken Lemon Coriander Soup\\', \\'Southern Fried Chicken\\', \\'Chicken Wings\\', \\'Gambas\\', \\'Bbq Jerk Chicken\\', \\'Chicken Nachos Carnitos\\', \\'Spicy Chicken Carrebbean Sausages\\', \\'Spicy Pork Carrebbean Sausages\\', \\'Pork Nachos Carnitos\\', \\'Beef Spicy New Orleans Braised Meat\\', \\'Cajun Spiced Fish Fingers\\', \\'Pepper Chicken\\', \\'Chicken Apollo Style\\', \\'Prawns Apollo Style\\', \\'Chicken Streetside Chilly Style\\', \\'Beef Streetside Chilly Style\\', \\'Pork Streetside Chilly Style\\', \\'Chicken Manchurian Style\\', \"Chicken Spicy Chef\\'s Special Style\", \"Beef Spicy Chef\\'s Special Style\", \"Chicken Kim\\'s Style\", \\'Beef Nachos Carnitos\\', \"Beef Kim\\'s Style\", \"Pork Kim\\'s Style\", \\'Chettinad Chicken Roast\\', \\'Chettinad Pudhina Chicken Roast\\', \\'Chicken Kabab\\', \"Prawns Spicy Chef\\'s Special Style\", \\'Prawns Manchurian Style\\', \\'Fried Beef\\', \\'Pork Spicy New Orleans Braised Meat\\', \\'Fried Pork\\', \"Prawns Kim\\'s Style\", \\'Fish Manchurian Style\\', \"Fish Spicy Chef\\'s Special Style\", \\'Fish Streetside Chilly Style\\', \\'Fish Apollo Style\\', \"Fish Kim\\'s Style\", \\'Pork Streetside Chilly Style\\', \"Pork Spicy Chef\\'s Special Style\", \\'Pork Manchurian Style\\', \\'Beef Manchurian Style\\', \"Paneer Korean Kim\\'s Style\", \\'Paneer Tangy Spinach Sauce\\', \\'Paneer Apollo Style Sauce\\', \\'Paneer Singaporean Style Sauce\\', \\'Paneer Ginger Chilly Garlic Sauce\\', \\'Paneer Ginger Chilly Garlic Sauce\\', \\'Paneer Ginger Chilly Garlic Sauce\\', \\'Paneer Hot Garlic Sauce\\', \\'Paneer Lemon Coriander Sauce\\', \"Veg Korean Kim\\'s Style\", \\'Veg Tangy Spinach Sauce\\', \\'Veg Apollo Style Sauce\\', \"Veg Korean Kim\\'s Style\", \\'Veg Singaporean Style Sauce\\', \\'Veg Ginger Chilly Garlic Sauce Burger\\', \\'Veg Chefs Super Spicy Style\\', \\'Veg Hot Garlic Sauce\\', \\'Lemon Coriander Sauce\\', \"Chicken Korean Kim\\'s Style\", \\'Chicken Tangy Spinach Sauce\\', \\'Apollo Style Sauce\\', \\'Chicken Singaporean Style Sauce\\', \\'Chicken Singaporean Style Sauce\\', \\'Chicken Chefs Super Spicy Style\\', \\'Chicken Hot Garlic Sauce\\', \\'Chicken Hot Garlic Sauce\\', \"Beef Korean Kim\\'s Style\", \\'Beef Tangy Spinach Sauce\\', \\'Beef Apollo Style Sauce\\', \\'Beef Singaporean Style Sauce\\', \\'Beef Ginger Chilly Garlic Sauce\\', \\'Beef Chefs Super Spicy Style\\', \\'Beef Chefs Super Spicy Style\\', \\'Beef Hot Garlic Sauce\\', \\'Beef Lemon Coriander Sauce\\', \"Pork Korean Kim\\'s Style\", \\'Pork Tangy Spinach Sauce\\', \\'Pork Apollo Style Sauce\\', \\'Pork Singaporean Style Sauce\\', \\'Pork Ginger Chilly Garlic Sauce\\', \\'Pork Chefs Super Spicy Style\\', \\'Pork Hot Garlic Sauce\\', \\'Pork Lemon Coriander Sauce\\', \"Fish Korean Kim\\'s Style\", \\'Fish Tangy Spinach Sauce\\', \\'Fish Apollo Style Sauce\\', \\'Fish Singaporean Style Sauce\\', \\'Fish Ginger Chilly Garlic Sauce\\', \\'Fish Chefs Super Spicy Style\\', \\'Fish Hot Garlic Sauce\\', \\'Fish Lemon Coriander Sauce\\', \"Korean Kim\\'s Style\", \\'Prawns Tangy Spinach Sauce\\', \\'Prawns Apollo Style Sauce\\', \\'Prawns Apollo Style Sauce\\', \\'Prawns Ginger Chilly Garlic Sauce\\', \\'Prawns Chefs Super Spicy Style\\', \\'Prawns Hot Garlic Sauce\\', \\'Prawns Lemon Coriander Sauce\\', \\'Veg Stir Fried Rice\\', \\'Veg Mongolian Rice\\', \\'Veg Olivers Spicy Rice\\', \\'Veg Singaporean Rice\\', \\'Egg Stir Fried Rice\\', \\'Egg Mongolian Rice\\', \\'Egg Olivers Spicy Rice\\', \\'Egg Singaporean Rice\\', \\'Chicken Stir Fried Rice\\', \\'Chicken Mongolian Rice\\', \\'Chicken Olivers Spicy Rice\\', \\'Chicken Singaporean Rice\\', \\'Beef Stir Fried Rice\\', \\'Beef Mongolian Rice\\', \\'Beef Olivers Spicy Rice\\', \\'Beef Singaporean Rice\\', \\'Pork Stir Fried Rice\\', \\'Pork Mongolian Rice\\', \\'Pork Olivers Spicy Rice\\', \\'Pork Singaporean Rice\\', \\'Fish Stir Fried Rice\\', \\'Fish Mongolian Rice\\', \\'Fish Olivers Spicy Rice\\', \\'Fish Singaporean Rice\\', \\'Prawns Stir Fried Rice\\', \\'Prawns Mongolian Rice\\', \\'Prawns Olivers Spicy Rice\\', \\'Prawns Singaporean Rice\\', \\'Veg Stir Fried Noodles\\', \\'Veg Mongolian Noodles\\', \\'Veg Olivers Spicy Noodles\\', \\'Veg Singaporean Noodles\\', \\'Egg Stir Fried Noodles\\', \\'Egg Mongolian Noodles\\', \\'Egg Olivers Spicy Noodles\\', \\'Egg Singaporean Noodles\\', \\'Chicken Stir Fried Noodles\\', \\'Chicken Mongolian Noodles\\', \\'Chicken Olivers Spicy Noodles\\', \\'Chicken Singaporean Noodles\\', \\'Beef Stir Fried Noodles\\', \\'Beef Mongolian Noodles\\', \\'Beef Olivers Spicy Noodles\\', \\'Beef Singaporean Noodles\\', \\'Pork Stir Fried Noodles\\', \\'Pork Mongolian Noodles\\', \\'Pork Olivers Spicy Noodles\\', \\'Pork Singaporean Noodles\\', \\'Fish Stir Fried Noodles\\', \\'Fish Mongolian Noodles\\', \\'Fish Olivers Spicy Noodles\\', \\'Fish Singaporean Noodles\\', \\'Prawns Stir Fried Noodles\\', \\'Prawns Mongolian Noodles\\', \\'Prawns Olivers Spicy Noodles\\', \\'Prawns Singaporean Noodles\\', \\'Mexican Bean Burger\\', \\'Bean Bbq\\', \\'Ginger Chilly Garlic Sauce Burger\\', \\'Cottage Cheese Jerky Burgers\\', \\'Spinach Ricotta Smashers\\', \\'Grilled Pepper Smashers\\', \\'Grilled Veg Sandwich\\', \\'Falafel\\', \\'Eggplant Parm\\', \"Chicken Grilled One\\'s Burger\", \"Beef Grilled One\\'s Burger\", \\'Almost Famous Moo Burger\\', \\'Miami Chicken Burger\\', \\'Miami Beef Burger\\', \\'Philly Cheesesteak Burger\\', \\'Santa Fe Beef Burger\\', \\'Cleveland Sandwich\\', \\'Philly Cheese Steak Sandwich\\', \\'Cuban Sandwich\\', \\'Pulled Chicken Sandwich\\', \\'Beef Saigon Bahn Mi Sandwich\\', \\'Pork Saigon Bahn Mi Sandwich\\', \\'Cheese Garlic Bread\\', \\'Jalapeno Poppers\\', \\'Cajun Spiced Potato Wedges\\', \\'Bruschetta\\', \\'Spring Rolls\\', \\'Crispy Potato Fingers\\', \\'Manchurian Style\\', \\'Streeside Chilly Style\\', \\'Crispy Fried Babycorn\\', \\'American Corn Bombs\\', \\'Cripsy Fried Paneer\\', \\'Pepper Salt\\', \\'OliverÃ\\x83\\\\x83Ã\\x82\\\\x83Ã\\x83\\\\x82Ã\\x82\\\\x83Ã\\x83\\\\x83Ã\\x82\\\\x82Ã\\x83\\\\x82Ã\\x82Â¢Ã\\x83\\\\x83Ã\\x82\\\\x83Ã\\x83\\\\x82Ã\\x82\\\\x82Ã\\x83\\\\x83Ã\\x82\\\\x82Ã\\x83\\\\x82Ã\\x82\\\\x80Ã\\x83\\\\x83Ã\\x82\\\\x83Ã\\x83\\\\x82Ã\\x82\\\\x82Ã\\x83\\\\x83Ã\\x82\\\\x82Ã\\x83\\\\x82Ã\\x82\\\\x99s Pepper Masala Paneer Roast\\', \\'OliverÃ\\x83\\\\x83Ã\\x82\\\\x83Ã\\x83\\\\x82Ã\\x82\\\\x83Ã\\x83\\\\x83Ã\\x82\\\\x82Ã\\x83\\\\x82Ã\\x82Â¢Ã\\x83\\\\x83Ã\\x82\\\\x83Ã\\x83\\\\x82Ã\\x82\\\\x82Ã\\x83\\\\x83Ã\\x82\\\\x82Ã\\x83\\\\x82Ã\\x82\\\\x80Ã\\x83\\\\x83Ã\\x82\\\\x83Ã\\x83\\\\x82Ã\\x82\\\\x82Ã\\x83\\\\x83Ã\\x82\\\\x82Ã\\x83\\\\x82Ã\\x82\\\\x99s Chettinad Aloo Roast\\', \\'OliverÃ\\x83\\\\x83Ã\\x82\\\\x83Ã\\x83\\\\x82Ã\\x82\\\\x83Ã\\x83\\\\x83Ã\\x82\\\\x82Ã\\x83\\\\x82Ã\\x82Â¢Ã\\x83\\\\x83Ã\\x82\\\\x83Ã\\x83\\\\x82Ã\\x82\\\\x82Ã\\x83\\\\x83Ã\\x82\\\\x82Ã\\x83\\\\x82Ã\\x82\\\\x80Ã\\x83\\\\x83Ã\\x82\\\\x83Ã\\x83\\\\x82Ã\\x82\\\\x82Ã\\x83\\\\x83Ã\\x82\\\\x82Ã\\x83\\\\x82Ã\\x82\\\\x99s Pudhina Aloo Roast\\', \\'Onion Pakoda\\', \\'Paneer Pakoda\\', \\'Egg Bhurji\\', \\'Masala Egg Pakoda\\', \\'Masala Omlette\\', \\'Egg Bhurji With Bacon & Sausage\\', \\'Chilly Egg\\', \\'Egg Bhurji With Bacon And Sausage\\', \\'Pizza Margharita\\', \\'Spicy Louisiana Pizza\\', \\'Wilted Spinach Pizza\\', \\'Eggplant Pizza\\', \\'Patata Salsa Pizza\\', \\'Stirfried Babycorn Pizza\\', \\'Arugula Pizza\\', \\'Pesto Shrooms Pizza\\', \\'Chilly Paneer Pizza\\', \\'Spicy Peri Peri Paneer & Spinach Pizza\\', \\'Mexican Nachos Special Pizza\\', \\'Chicken BBQ Pizza\\', \\'Chicken Sausage Pizza\\', \\'Chilly Chicken Pizza\\', \\'Chicken 65 Pizza\\', \\'Chicken Mexicana Pizza\\', \\'Chicken Bolognese Pizza\\', \\'Mexican Chicken Nachos Pizza\\', \\'Mexican Beef Nachos Pizza\\', \\'Arugula Bacon Pizza\\', \\'Pepperoni Pizza\\', \\'Chorizo Pizza\\', \\'Chocolate Brownie\\']'\n",
            " \"['Dal Tadka', 'Dal Makhani', 'Paneer Tikka Masala', 'Kadai Paneer', 'Paneer Makhani', 'Malai Kofta', 'Mutton Rogan Josh', 'Jeera Rice', 'Veg Biryani', 'Murgh Dum Biryani', 'Murgh Dum Biryani [Family Pack]', 'Hara Bara Kabab', 'Paneer Tikka', 'Tandoori Murgh', 'Murgh Lahori Kalmi', 'Jalebi with Rabdi', 'Roomali Roti', 'Afghani Naan', 'Stuffed Paratha', 'Paneer Tikka Masala Meal', 'Paneer Makhani Meal', 'Veg Biryani Meal', 'Executive Veg Box Meal', 'Executive Non Veg Box Meal', 'Rajma Meal', 'Peshawari Channa Meal', 'Paneer Tikka Masala Meal', 'Paneer Makhani Meal', 'Egg Curry Meal', 'Butter Chicken Meal', 'Rara Murgh Meal', 'Mutton Rogan Josh Meal', 'Rara Mutton Meal', 'Veg Biryani Meal', 'Egg Biryani Meal', 'Murgh Dum Biryani Meal', 'Murgh Tikka Biryani Meal', 'Mutton Biryani Meal', 'Prawns Biryani Meal', 'Executive Veg Box Meal', 'Executive Non Veg Box Meal', 'Tomato Shorba', 'Murgh Shorba', 'Bagicha ka Salad', 'Karela Salad', 'Kaju Fry Salad', 'Murgh Tikka Salad', 'French Fries', 'Aloo Tak-a-Tak', 'Baby Corn Harimirch Wala', 'Bhatti ka Gobi', 'Hara Bara Kabab', 'Tandoori Mushroom', 'Mushroom Harimirch Wala', 'Paneer Resunga', 'Paneer Tikka', 'Peshawari Seekh Kabab', 'Tandoori Murgh', 'Murgh Lahori Kalmi', 'Mutton Pepper Dry', 'Macchi Amritsari', 'Macchi Tak-a-Tak', 'Tawa Macchi', 'Prawns Balaika', 'Prawns Tak-a-Tak', 'Tandoori Prawns', 'Prawns Harimirch Wala', 'Dal Tadka', 'Dal Makhani', 'Paneer Tikka Masala', 'Paneer Saagwala', 'Kadai Paneer', 'Paneer Makhani', 'Mushroom Matar', 'Veg Patiala', 'Diwani Handi', 'Kadai Veg', 'Rajma', 'Sarson ka Saag', 'Aloo Gobi Masala', 'Bhindi Do Pyaza', 'Peshawari Channa', 'Malai Kofta', 'Kaju Masala', 'Egg Bhurji', 'Egg Masala', 'Rarra Mutton', 'Mutton Rogan Josh', 'Methi Macchi Masala', 'Macchi Jalfrezi', 'Prawns Masala', 'Plain Rice', 'Curd Rice', 'Jeera Rice', 'Veg Pulao', 'Peas Pulao', 'Veg Biryani', 'Egg Biryani', 'Murgh Dum Biryani', 'Murgh Tikka Biryani', 'Mutton Biryani', 'Prawns Biryani', 'Egg Biryani [Family Pack]', 'Murgh Dum Biryani [Family Pack]', 'Murgh Tikka Biryani [Family Pack]', 'Mutton Biryani [Family Pack]', 'Prawns Biryani [Family Pack]', 'Phulka', 'Roti', 'Butter Roti', 'Harimirch Paratha', 'Lalmirch Paratha', 'Garlic Naan', 'Naan', 'Butter Naan', 'Lachha Paratha', 'Kulcha', 'Butter Kulcha', 'Makkai Ki Roti', 'Roomali Roti', 'Afghani Naan', 'Peshawari Paratha', 'Stuffed Paratha', '8 Roti ka Chota Khazana', '12 Roti ka Bada Khazana', 'Egg Paratha', 'Mutton Keema Paratha', 'Roasted Papad', 'Masala Papad', 'Plain Curd', 'Mixed Veg Raita', 'Boondi Raita', 'Cucumber Raita', 'Pineapple Raita', 'Onion Raita', 'Mint Raita', 'Rabdi', 'Jalebi', 'Jalebi with Rabdi', 'Gulab Jamun', 'Rasgulla', 'Bhune Jeere ki Chaach', 'Jal Jeera', 'Meetha Punjabi Lassi', 'Namkeen Punjabi Lassi', 'Masala Punjabi Lassi', 'Patiala Punjabi Lassi', 'Meetha Nimboo Paani', 'Namkeen Nimboo Paani', 'Roohafza Sherbat', 'Mineral Water [1 litre]']\"]\n",
            "\n",
            "Data Type of menu_item column is: object\n",
            "------------------------------------------------------------------------------------------\n",
            "Unique Values of type column: ['Buffet' 'Cafes' 'Delivery' 'Desserts' 'Dine-out' 'Drinks & nightlife'\n",
            " 'Pubs and bars']\n",
            "\n",
            "Data Type of type column is: object\n",
            "------------------------------------------------------------------------------------------\n",
            "Unique Values of city column: ['Banashankari' 'Bannerghatta Road' 'Basavanagudi' 'Bellandur'\n",
            " 'Brigade Road' 'Brookefield' 'BTM' 'Church Street' 'Electronic City'\n",
            " 'Frazer Town' 'HSR' 'Indiranagar' 'Jayanagar' 'JP Nagar' 'Kalyan Nagar'\n",
            " 'Kammanahalli' 'Koramangala 4th Block' 'Koramangala 5th Block'\n",
            " 'Koramangala 6th Block' 'Koramangala 7th Block' 'Lavelle Road'\n",
            " 'Malleshwaram' 'Marathahalli' 'MG Road' 'New BEL Road' 'Old Airport Road'\n",
            " 'Rajajinagar' 'Residency Road' 'Sarjapur Road' 'Whitefield']\n",
            "\n",
            "Data Type of city column is: object\n",
            "------------------------------------------------------------------------------------------\n"
          ],
          "name": "stdout"
        }
      ]
    },
    {
      "cell_type": "markdown",
      "metadata": {
        "id": "3SFkRzGS4-Tv"
      },
      "source": [
        "### Cost Column Transformation"
      ]
    },
    {
      "cell_type": "code",
      "metadata": {
        "id": "YhQvdSZr4KQM"
      },
      "source": [
        "dataset['cost'] = dataset['cost'].astype(str) #Changing the cost to string"
      ],
      "execution_count": 34,
      "outputs": []
    },
    {
      "cell_type": "code",
      "metadata": {
        "id": "N_SAcbeEP7M5",
        "outputId": "65037cf3-14d5-4c01-f701-4b1bc4d3e689",
        "colab": {
          "base_uri": "https://localhost:8080/"
        }
      },
      "source": [
        "dataset['cost'].dtype"
      ],
      "execution_count": 35,
      "outputs": [
        {
          "output_type": "execute_result",
          "data": {
            "text/plain": [
              "dtype('O')"
            ]
          },
          "metadata": {
            "tags": []
          },
          "execution_count": 35
        }
      ]
    },
    {
      "cell_type": "code",
      "metadata": {
        "id": "yFtY9oOOP-D8"
      },
      "source": [
        "dataset['cost'] = dataset['cost'].apply(lambda x: x.replace(',','.'))"
      ],
      "execution_count": 36,
      "outputs": []
    },
    {
      "cell_type": "code",
      "metadata": {
        "id": "YuaTf4WgQaxu",
        "outputId": "fabc434a-b9fd-454a-d451-6135b90af803",
        "colab": {
          "base_uri": "https://localhost:8080/"
        }
      },
      "source": [
        "dataset['cost'].unique()"
      ],
      "execution_count": 38,
      "outputs": [
        {
          "output_type": "execute_result",
          "data": {
            "text/plain": [
              "array(['800', '300', '600', '700', '550', '500', '450', '650', '400',\n",
              "       '900', '200', '750', '150', '850', '100', '1.200', '350', '250',\n",
              "       '950', '1.000', '1.500', '1.300', '199', '80', '1.100', '160',\n",
              "       '1.600', '230', '130', '1.700', '1.400', '1.350', '2.200', '2.000',\n",
              "       '1.800', '1.900', '180', '330', '2.500', '2.100', '3.000', '2.800',\n",
              "       '3.400', '50', '40', '1.250', '3.500', '4.000', '2.400', '2.600',\n",
              "       '1.450', '70', '3.200', '560', '240', '360', '6.000', '1.050',\n",
              "       '2.300', '4.100', '120', '5.000', '3.700', '1.650', '2.700',\n",
              "       '4.500'], dtype=object)"
            ]
          },
          "metadata": {
            "tags": []
          },
          "execution_count": 38
        }
      ]
    },
    {
      "cell_type": "code",
      "metadata": {
        "id": "HEl-zCdcQe9A"
      },
      "source": [
        "dataset['cost'] = dataset['cost'].astype(float)"
      ],
      "execution_count": 39,
      "outputs": []
    },
    {
      "cell_type": "code",
      "metadata": {
        "id": "NB54Wa4KQzzG",
        "outputId": "af7d6f73-41a4-403d-bfac-9c88f81092a1",
        "colab": {
          "base_uri": "https://localhost:8080/"
        }
      },
      "source": [
        "dataset['cost'].unique()"
      ],
      "execution_count": 42,
      "outputs": [
        {
          "output_type": "execute_result",
          "data": {
            "text/plain": [
              "array([800.  , 300.  , 600.  , 700.  , 550.  , 500.  , 450.  , 650.  ,\n",
              "       400.  , 900.  , 200.  , 750.  , 150.  , 850.  , 100.  ,   1.2 ,\n",
              "       350.  , 250.  , 950.  ,   1.  ,   1.5 ,   1.3 , 199.  ,  80.  ,\n",
              "         1.1 , 160.  ,   1.6 , 230.  , 130.  ,   1.7 ,   1.4 ,   1.35,\n",
              "         2.2 ,   2.  ,   1.8 ,   1.9 , 180.  , 330.  ,   2.5 ,   2.1 ,\n",
              "         3.  ,   2.8 ,   3.4 ,  50.  ,  40.  ,   1.25,   3.5 ,   4.  ,\n",
              "         2.4 ,   2.6 ,   1.45,  70.  ,   3.2 , 560.  , 240.  , 360.  ,\n",
              "         6.  ,   1.05,   2.3 ,   4.1 , 120.  ,   5.  ,   3.7 ,   1.65,\n",
              "         2.7 ,   4.5 ])"
            ]
          },
          "metadata": {
            "tags": []
          },
          "execution_count": 42
        }
      ]
    },
    {
      "cell_type": "code",
      "metadata": {
        "id": "bTQGUWORQ2Lx",
        "outputId": "98a9d9bf-be43-4267-a109-67113fb83f4d",
        "colab": {
          "base_uri": "https://localhost:8080/"
        }
      },
      "source": [
        "dataset['cost'].dtype"
      ],
      "execution_count": 43,
      "outputs": [
        {
          "output_type": "execute_result",
          "data": {
            "text/plain": [
              "dtype('float64')"
            ]
          },
          "metadata": {
            "tags": []
          },
          "execution_count": 43
        }
      ]
    },
    {
      "cell_type": "markdown",
      "metadata": {
        "id": "UPxt4fpISK3H"
      },
      "source": [
        "### Removing '/5' from Rates"
      ]
    },
    {
      "cell_type": "code",
      "metadata": {
        "id": "EZOt3chyRYA2",
        "outputId": "321cc1a2-dcbc-4deb-a081-c3c8ffbe5a96",
        "colab": {
          "base_uri": "https://localhost:8080/"
        }
      },
      "source": [
        "dataset['rate'].unique()"
      ],
      "execution_count": 44,
      "outputs": [
        {
          "output_type": "execute_result",
          "data": {
            "text/plain": [
              "array(['4.1/5', '3.8/5', '3.7/5', '3.6/5', '4.6/5', '4.0/5', '4.2/5',\n",
              "       '3.9/5', '3.1/5', '3.0/5', '3.2/5', '3.3/5', '2.8/5', '4.4/5',\n",
              "       '4.3/5', 'NEW', '2.9/5', '3.5/5', '2.6/5', '3.8 /5', '3.4/5',\n",
              "       '4.5/5', '2.5/5', '2.7/5', '4.7/5', '2.4/5', '2.2/5', '2.3/5',\n",
              "       '3.4 /5', '-', '3.6 /5', '4.8/5', '3.9 /5', '4.2 /5', '4.0 /5',\n",
              "       '4.1 /5', '3.7 /5', '3.1 /5', '2.9 /5', '3.3 /5', '2.8 /5',\n",
              "       '3.5 /5', '2.7 /5', '2.5 /5', '3.2 /5', '2.6 /5', '4.5 /5',\n",
              "       '4.3 /5', '4.4 /5', '4.9/5', '2.1/5', '2.0/5', '1.8/5', '4.6 /5',\n",
              "       '4.9 /5', '3.0 /5', '4.8 /5', '2.3 /5', '4.7 /5', '2.4 /5',\n",
              "       '2.1 /5', '2.2 /5', '2.0 /5', '1.8 /5'], dtype=object)"
            ]
          },
          "metadata": {
            "tags": []
          },
          "execution_count": 44
        }
      ]
    },
    {
      "cell_type": "code",
      "metadata": {
        "id": "7Qy8rjBLSZc5"
      },
      "source": [
        "dataset = dataset.loc[dataset.rate !='NEW']"
      ],
      "execution_count": 45,
      "outputs": []
    },
    {
      "cell_type": "code",
      "metadata": {
        "id": "xqn9VArKSx4F"
      },
      "source": [
        "dataset = dataset.loc[dataset.rate !='-']"
      ],
      "execution_count": 47,
      "outputs": []
    },
    {
      "cell_type": "code",
      "metadata": {
        "id": "cAYHMO_HSp5C",
        "outputId": "8d64c1ca-e077-4110-9252-5aa3c54c9a1b",
        "colab": {
          "base_uri": "https://localhost:8080/"
        }
      },
      "source": [
        "dataset['rate'].unique()"
      ],
      "execution_count": 48,
      "outputs": [
        {
          "output_type": "execute_result",
          "data": {
            "text/plain": [
              "array(['4.1/5', '3.8/5', '3.7/5', '3.6/5', '4.6/5', '4.0/5', '4.2/5',\n",
              "       '3.9/5', '3.1/5', '3.0/5', '3.2/5', '3.3/5', '2.8/5', '4.4/5',\n",
              "       '4.3/5', '2.9/5', '3.5/5', '2.6/5', '3.8 /5', '3.4/5', '4.5/5',\n",
              "       '2.5/5', '2.7/5', '4.7/5', '2.4/5', '2.2/5', '2.3/5', '3.4 /5',\n",
              "       '3.6 /5', '4.8/5', '3.9 /5', '4.2 /5', '4.0 /5', '4.1 /5',\n",
              "       '3.7 /5', '3.1 /5', '2.9 /5', '3.3 /5', '2.8 /5', '3.5 /5',\n",
              "       '2.7 /5', '2.5 /5', '3.2 /5', '2.6 /5', '4.5 /5', '4.3 /5',\n",
              "       '4.4 /5', '4.9/5', '2.1/5', '2.0/5', '1.8/5', '4.6 /5', '4.9 /5',\n",
              "       '3.0 /5', '4.8 /5', '2.3 /5', '4.7 /5', '2.4 /5', '2.1 /5',\n",
              "       '2.2 /5', '2.0 /5', '1.8 /5'], dtype=object)"
            ]
          },
          "metadata": {
            "tags": []
          },
          "execution_count": 48
        }
      ]
    },
    {
      "cell_type": "code",
      "metadata": {
        "id": "WJMI2-xMSraF"
      },
      "source": [
        "remove_slash = lambda x: x.replace('/5', '') if type(x) == np.str else x"
      ],
      "execution_count": 49,
      "outputs": []
    },
    {
      "cell_type": "code",
      "metadata": {
        "id": "oWiShmHjTHUI"
      },
      "source": [
        "dataset.rate = dataset.rate.apply(remove_slash).str.strip().astype('float')"
      ],
      "execution_count": 50,
      "outputs": []
    },
    {
      "cell_type": "code",
      "metadata": {
        "id": "KAArJ3NWTQj6",
        "outputId": "b2e34ae0-b773-484a-f36b-925d3adf57e4",
        "colab": {
          "base_uri": "https://localhost:8080/"
        }
      },
      "source": [
        "dataset['rate'].unique()"
      ],
      "execution_count": 52,
      "outputs": [
        {
          "output_type": "execute_result",
          "data": {
            "text/plain": [
              "array([4.1, 3.8, 3.7, 3.6, 4.6, 4. , 4.2, 3.9, 3.1, 3. , 3.2, 3.3, 2.8,\n",
              "       4.4, 4.3, 2.9, 3.5, 2.6, 3.4, 4.5, 2.5, 2.7, 4.7, 2.4, 2.2, 2.3,\n",
              "       4.8, 4.9, 2.1, 2. , 1.8])"
            ]
          },
          "metadata": {
            "tags": []
          },
          "execution_count": 52
        }
      ]
    },
    {
      "cell_type": "markdown",
      "metadata": {
        "id": "DO2RJNMtT4Wx"
      },
      "source": [
        "### Some Transformation"
      ]
    },
    {
      "cell_type": "code",
      "metadata": {
        "id": "oCSeDUb0UFIr"
      },
      "source": [
        "dataset.online_order.replace(('Yes','No'),(1, 0),inplace=True)\n",
        "dataset.book_table.replace(('Yes','No'),(1, 0),inplace=True)"
      ],
      "execution_count": 57,
      "outputs": []
    },
    {
      "cell_type": "code",
      "metadata": {
        "id": "aa-Q5hjTUraW",
        "outputId": "c9082e5f-6c99-48e5-a862-f64da7440744",
        "colab": {
          "base_uri": "https://localhost:8080/"
        }
      },
      "source": [
        "dataset.online_order.unique()"
      ],
      "execution_count": 59,
      "outputs": [
        {
          "output_type": "execute_result",
          "data": {
            "text/plain": [
              "array([1, 0])"
            ]
          },
          "metadata": {
            "tags": []
          },
          "execution_count": 59
        }
      ]
    },
    {
      "cell_type": "code",
      "metadata": {
        "id": "a50WMxEqVySn",
        "outputId": "5cc000a4-7ef2-437b-ec07-1cbcfde85ba1",
        "colab": {
          "base_uri": "https://localhost:8080/"
        }
      },
      "source": [
        "dataset.info()"
      ],
      "execution_count": 60,
      "outputs": [
        {
          "output_type": "stream",
          "text": [
            "<class 'pandas.core.frame.DataFrame'>\n",
            "Int64Index: 41226 entries, 0 to 51716\n",
            "Data columns (total 13 columns):\n",
            " #   Column        Non-Null Count  Dtype  \n",
            "---  ------        --------------  -----  \n",
            " 0   name          41226 non-null  object \n",
            " 1   online_order  41226 non-null  int64  \n",
            " 2   book_table    41226 non-null  int64  \n",
            " 3   rate          41226 non-null  float64\n",
            " 4   votes         41226 non-null  int64  \n",
            " 5   location      41226 non-null  object \n",
            " 6   rest_type     41226 non-null  object \n",
            " 7   cuisines      41226 non-null  object \n",
            " 8   cost          41226 non-null  float64\n",
            " 9   reviews_list  41226 non-null  object \n",
            " 10  menu_item     41226 non-null  object \n",
            " 11  type          41226 non-null  object \n",
            " 12  city          41226 non-null  object \n",
            "dtypes: float64(2), int64(3), object(8)\n",
            "memory usage: 4.4+ MB\n"
          ],
          "name": "stdout"
        }
      ]
    },
    {
      "cell_type": "code",
      "metadata": {
        "id": "a9o9x2PYWQ4f"
      },
      "source": [
        "columns = []"
      ],
      "execution_count": 69,
      "outputs": []
    },
    {
      "cell_type": "code",
      "metadata": {
        "id": "jmd9tYKhWjiK",
        "outputId": "e86c67ed-33ab-43dd-eb0a-537cec37a91b",
        "colab": {
          "base_uri": "https://localhost:8080/"
        }
      },
      "source": [
        "for column in dataset.columns:\n",
        "  if dataset[column].dtype == 'object':\n",
        "    columns.append(column)\n",
        "  else:\n",
        "    print(column)"
      ],
      "execution_count": 72,
      "outputs": [
        {
          "output_type": "stream",
          "text": [
            "online_order\n",
            "book_table\n",
            "rate\n",
            "votes\n",
            "cost\n"
          ],
          "name": "stdout"
        }
      ]
    },
    {
      "cell_type": "code",
      "metadata": {
        "id": "Osp79QLIXPZ6",
        "outputId": "b60b5b3d-1db2-465b-99cc-7bb921d774b2",
        "colab": {
          "base_uri": "https://localhost:8080/"
        }
      },
      "source": [
        "columns"
      ],
      "execution_count": 73,
      "outputs": [
        {
          "output_type": "execute_result",
          "data": {
            "text/plain": [
              "['name',\n",
              " 'location',\n",
              " 'rest_type',\n",
              " 'cuisines',\n",
              " 'reviews_list',\n",
              " 'menu_item',\n",
              " 'type',\n",
              " 'city',\n",
              " 'name',\n",
              " 'location',\n",
              " 'rest_type',\n",
              " 'cuisines',\n",
              " 'reviews_list',\n",
              " 'menu_item',\n",
              " 'type',\n",
              " 'city']"
            ]
          },
          "metadata": {
            "tags": []
          },
          "execution_count": 73
        }
      ]
    },
    {
      "cell_type": "markdown",
      "metadata": {
        "id": "Z0yPvB4GVBvP"
      },
      "source": [
        "### Encode the input Variables"
      ]
    },
    {
      "cell_type": "code",
      "metadata": {
        "id": "WnubbOBZUt3C"
      },
      "source": [
        "def Encode(dataset):\n",
        "  for column in columns:\n",
        "    dataset[column] = dataset[column].factorize()[0]\n",
        "  return dataset"
      ],
      "execution_count": 77,
      "outputs": []
    },
    {
      "cell_type": "code",
      "metadata": {
        "id": "7oR_yRICYVPC"
      },
      "source": [
        "dataset_en = Encode(dataset.copy())"
      ],
      "execution_count": 78,
      "outputs": []
    },
    {
      "cell_type": "code",
      "metadata": {
        "id": "LAaJ6UknYZu8",
        "outputId": "32149400-e717-4b6e-a44e-9fcf1a5fa3b6",
        "colab": {
          "base_uri": "https://localhost:8080/",
          "height": 204
        }
      },
      "source": [
        "dataset_en.head()"
      ],
      "execution_count": 79,
      "outputs": [
        {
          "output_type": "execute_result",
          "data": {
            "text/html": [
              "<div>\n",
              "<style scoped>\n",
              "    .dataframe tbody tr th:only-of-type {\n",
              "        vertical-align: middle;\n",
              "    }\n",
              "\n",
              "    .dataframe tbody tr th {\n",
              "        vertical-align: top;\n",
              "    }\n",
              "\n",
              "    .dataframe thead th {\n",
              "        text-align: right;\n",
              "    }\n",
              "</style>\n",
              "<table border=\"1\" class=\"dataframe\">\n",
              "  <thead>\n",
              "    <tr style=\"text-align: right;\">\n",
              "      <th></th>\n",
              "      <th>name</th>\n",
              "      <th>online_order</th>\n",
              "      <th>book_table</th>\n",
              "      <th>rate</th>\n",
              "      <th>votes</th>\n",
              "      <th>location</th>\n",
              "      <th>rest_type</th>\n",
              "      <th>cuisines</th>\n",
              "      <th>cost</th>\n",
              "      <th>reviews_list</th>\n",
              "      <th>menu_item</th>\n",
              "      <th>type</th>\n",
              "      <th>city</th>\n",
              "    </tr>\n",
              "  </thead>\n",
              "  <tbody>\n",
              "    <tr>\n",
              "      <th>0</th>\n",
              "      <td>0</td>\n",
              "      <td>1</td>\n",
              "      <td>1</td>\n",
              "      <td>4.1</td>\n",
              "      <td>775</td>\n",
              "      <td>0</td>\n",
              "      <td>0</td>\n",
              "      <td>0</td>\n",
              "      <td>800.0</td>\n",
              "      <td>0</td>\n",
              "      <td>0</td>\n",
              "      <td>0</td>\n",
              "      <td>0</td>\n",
              "    </tr>\n",
              "    <tr>\n",
              "      <th>1</th>\n",
              "      <td>1</td>\n",
              "      <td>1</td>\n",
              "      <td>0</td>\n",
              "      <td>4.1</td>\n",
              "      <td>787</td>\n",
              "      <td>0</td>\n",
              "      <td>0</td>\n",
              "      <td>1</td>\n",
              "      <td>800.0</td>\n",
              "      <td>1</td>\n",
              "      <td>0</td>\n",
              "      <td>0</td>\n",
              "      <td>0</td>\n",
              "    </tr>\n",
              "    <tr>\n",
              "      <th>2</th>\n",
              "      <td>2</td>\n",
              "      <td>1</td>\n",
              "      <td>0</td>\n",
              "      <td>3.8</td>\n",
              "      <td>918</td>\n",
              "      <td>0</td>\n",
              "      <td>1</td>\n",
              "      <td>2</td>\n",
              "      <td>800.0</td>\n",
              "      <td>2</td>\n",
              "      <td>0</td>\n",
              "      <td>0</td>\n",
              "      <td>0</td>\n",
              "    </tr>\n",
              "    <tr>\n",
              "      <th>3</th>\n",
              "      <td>3</td>\n",
              "      <td>0</td>\n",
              "      <td>0</td>\n",
              "      <td>3.7</td>\n",
              "      <td>88</td>\n",
              "      <td>0</td>\n",
              "      <td>2</td>\n",
              "      <td>3</td>\n",
              "      <td>300.0</td>\n",
              "      <td>3</td>\n",
              "      <td>0</td>\n",
              "      <td>0</td>\n",
              "      <td>0</td>\n",
              "    </tr>\n",
              "    <tr>\n",
              "      <th>4</th>\n",
              "      <td>4</td>\n",
              "      <td>0</td>\n",
              "      <td>0</td>\n",
              "      <td>3.8</td>\n",
              "      <td>166</td>\n",
              "      <td>1</td>\n",
              "      <td>0</td>\n",
              "      <td>4</td>\n",
              "      <td>600.0</td>\n",
              "      <td>4</td>\n",
              "      <td>0</td>\n",
              "      <td>0</td>\n",
              "      <td>0</td>\n",
              "    </tr>\n",
              "  </tbody>\n",
              "</table>\n",
              "</div>"
            ],
            "text/plain": [
              "   name  online_order  book_table  rate  ...  reviews_list  menu_item  type  city\n",
              "0     0             1           1   4.1  ...             0          0     0     0\n",
              "1     1             1           0   4.1  ...             1          0     0     0\n",
              "2     2             1           0   3.8  ...             2          0     0     0\n",
              "3     3             0           0   3.7  ...             3          0     0     0\n",
              "4     4             0           0   3.8  ...             4          0     0     0\n",
              "\n",
              "[5 rows x 13 columns]"
            ]
          },
          "metadata": {
            "tags": []
          },
          "execution_count": 79
        }
      ]
    },
    {
      "cell_type": "code",
      "metadata": {
        "id": "0F7J-fVyYc1h",
        "outputId": "543da9d1-5558-4f1d-addf-0b12926a9c94",
        "colab": {
          "base_uri": "https://localhost:8080/"
        }
      },
      "source": [
        "dataset_en.info()"
      ],
      "execution_count": 81,
      "outputs": [
        {
          "output_type": "stream",
          "text": [
            "<class 'pandas.core.frame.DataFrame'>\n",
            "Int64Index: 41226 entries, 0 to 51716\n",
            "Data columns (total 13 columns):\n",
            " #   Column        Non-Null Count  Dtype  \n",
            "---  ------        --------------  -----  \n",
            " 0   name          41226 non-null  int64  \n",
            " 1   online_order  41226 non-null  int64  \n",
            " 2   book_table    41226 non-null  int64  \n",
            " 3   rate          41226 non-null  float64\n",
            " 4   votes         41226 non-null  int64  \n",
            " 5   location      41226 non-null  int64  \n",
            " 6   rest_type     41226 non-null  int64  \n",
            " 7   cuisines      41226 non-null  int64  \n",
            " 8   cost          41226 non-null  float64\n",
            " 9   reviews_list  41226 non-null  int64  \n",
            " 10  menu_item     41226 non-null  int64  \n",
            " 11  type          41226 non-null  int64  \n",
            " 12  city          41226 non-null  int64  \n",
            "dtypes: float64(2), int64(11)\n",
            "memory usage: 4.4 MB\n"
          ],
          "name": "stdout"
        }
      ]
    },
    {
      "cell_type": "markdown",
      "metadata": {
        "id": "QgMf3DxMZuex"
      },
      "source": [
        "### Plotting Correlation between variables"
      ]
    },
    {
      "cell_type": "code",
      "metadata": {
        "id": "YMG29sVCYjdg"
      },
      "source": [
        "corr = dataset_en.corr(method='kendall')"
      ],
      "execution_count": 83,
      "outputs": []
    },
    {
      "cell_type": "code",
      "metadata": {
        "id": "MC2Thg2gaAZ7",
        "outputId": "8cb896d8-7901-426e-8c8d-0e2e4d285be6",
        "colab": {
          "base_uri": "https://localhost:8080/",
          "height": 607
        }
      },
      "source": [
        "plt.figure(figsize=(15,8))\n",
        "sns.heatmap(corr, annot=True)\n",
        "dataset_en.columns"
      ],
      "execution_count": 84,
      "outputs": [
        {
          "output_type": "execute_result",
          "data": {
            "text/plain": [
              "Index(['name', 'online_order', 'book_table', 'rate', 'votes', 'location',\n",
              "       'rest_type', 'cuisines', 'cost', 'reviews_list', 'menu_item', 'type',\n",
              "       'city'],\n",
              "      dtype='object')"
            ]
          },
          "metadata": {
            "tags": []
          },
          "execution_count": 84
        },
        {
          "output_type": "display_data",
          "data": {
            "image/png": "[encoded data removed]",
            "text/plain": [
              "<Figure size 1080x576 with 2 Axes>"
            ]
          },
          "metadata": {
            "tags": [],
            "needs_background": "light"
          }
        }
      ]
    },
    {
      "cell_type": "markdown",
      "metadata": {
        "id": "-46CvhelbSOh"
      },
      "source": [
        "### Taking X and Y\n"
      ]
    },
    {
      "cell_type": "code",
      "metadata": {
        "id": "zueG70d-aJgX",
        "outputId": "29568c4d-c7b9-4169-8e4c-622acd68f201",
        "colab": {
          "base_uri": "https://localhost:8080/",
          "height": 204
        }
      },
      "source": [
        "dataset_en.head()"
      ],
      "execution_count": 85,
      "outputs": [
        {
          "output_type": "execute_result",
          "data": {
            "text/html": [
              "<div>\n",
              "<style scoped>\n",
              "    .dataframe tbody tr th:only-of-type {\n",
              "        vertical-align: middle;\n",
              "    }\n",
              "\n",
              "    .dataframe tbody tr th {\n",
              "        vertical-align: top;\n",
              "    }\n",
              "\n",
              "    .dataframe thead th {\n",
              "        text-align: right;\n",
              "    }\n",
              "</style>\n",
              "<table border=\"1\" class=\"dataframe\">\n",
              "  <thead>\n",
              "    <tr style=\"text-align: right;\">\n",
              "      <th></th>\n",
              "      <th>name</th>\n",
              "      <th>online_order</th>\n",
              "      <th>book_table</th>\n",
              "      <th>rate</th>\n",
              "      <th>votes</th>\n",
              "      <th>location</th>\n",
              "      <th>rest_type</th>\n",
              "      <th>cuisines</th>\n",
              "      <th>cost</th>\n",
              "      <th>reviews_list</th>\n",
              "      <th>menu_item</th>\n",
              "      <th>type</th>\n",
              "      <th>city</th>\n",
              "    </tr>\n",
              "  </thead>\n",
              "  <tbody>\n",
              "    <tr>\n",
              "      <th>0</th>\n",
              "      <td>0</td>\n",
              "      <td>1</td>\n",
              "      <td>1</td>\n",
              "      <td>4.1</td>\n",
              "      <td>775</td>\n",
              "      <td>0</td>\n",
              "      <td>0</td>\n",
              "      <td>0</td>\n",
              "      <td>800.0</td>\n",
              "      <td>0</td>\n",
              "      <td>0</td>\n",
              "      <td>0</td>\n",
              "      <td>0</td>\n",
              "    </tr>\n",
              "    <tr>\n",
              "      <th>1</th>\n",
              "      <td>1</td>\n",
              "      <td>1</td>\n",
              "      <td>0</td>\n",
              "      <td>4.1</td>\n",
              "      <td>787</td>\n",
              "      <td>0</td>\n",
              "      <td>0</td>\n",
              "      <td>1</td>\n",
              "      <td>800.0</td>\n",
              "      <td>1</td>\n",
              "      <td>0</td>\n",
              "      <td>0</td>\n",
              "      <td>0</td>\n",
              "    </tr>\n",
              "    <tr>\n",
              "      <th>2</th>\n",
              "      <td>2</td>\n",
              "      <td>1</td>\n",
              "      <td>0</td>\n",
              "      <td>3.8</td>\n",
              "      <td>918</td>\n",
              "      <td>0</td>\n",
              "      <td>1</td>\n",
              "      <td>2</td>\n",
              "      <td>800.0</td>\n",
              "      <td>2</td>\n",
              "      <td>0</td>\n",
              "      <td>0</td>\n",
              "      <td>0</td>\n",
              "    </tr>\n",
              "    <tr>\n",
              "      <th>3</th>\n",
              "      <td>3</td>\n",
              "      <td>0</td>\n",
              "      <td>0</td>\n",
              "      <td>3.7</td>\n",
              "      <td>88</td>\n",
              "      <td>0</td>\n",
              "      <td>2</td>\n",
              "      <td>3</td>\n",
              "      <td>300.0</td>\n",
              "      <td>3</td>\n",
              "      <td>0</td>\n",
              "      <td>0</td>\n",
              "      <td>0</td>\n",
              "    </tr>\n",
              "    <tr>\n",
              "      <th>4</th>\n",
              "      <td>4</td>\n",
              "      <td>0</td>\n",
              "      <td>0</td>\n",
              "      <td>3.8</td>\n",
              "      <td>166</td>\n",
              "      <td>1</td>\n",
              "      <td>0</td>\n",
              "      <td>4</td>\n",
              "      <td>600.0</td>\n",
              "      <td>4</td>\n",
              "      <td>0</td>\n",
              "      <td>0</td>\n",
              "      <td>0</td>\n",
              "    </tr>\n",
              "  </tbody>\n",
              "</table>\n",
              "</div>"
            ],
            "text/plain": [
              "   name  online_order  book_table  rate  ...  reviews_list  menu_item  type  city\n",
              "0     0             1           1   4.1  ...             0          0     0     0\n",
              "1     1             1           0   4.1  ...             1          0     0     0\n",
              "2     2             1           0   3.8  ...             2          0     0     0\n",
              "3     3             0           0   3.7  ...             3          0     0     0\n",
              "4     4             0           0   3.8  ...             4          0     0     0\n",
              "\n",
              "[5 rows x 13 columns]"
            ]
          },
          "metadata": {
            "tags": []
          },
          "execution_count": 85
        }
      ]
    },
    {
      "cell_type": "code",
      "metadata": {
        "id": "TSQjfWyFbQx1"
      },
      "source": [
        "X = dataset_en.drop(columns = ['name', 'rate', 'reviews_list', 'type', 'city'], axis = 1)"
      ],
      "execution_count": 90,
      "outputs": []
    },
    {
      "cell_type": "code",
      "metadata": {
        "id": "5yD6UwABcrdc",
        "outputId": "0e5beb0f-26ea-4fb7-8bc4-182c40d97c88",
        "colab": {
          "base_uri": "https://localhost:8080/",
          "height": 204
        }
      },
      "source": [
        "X.head()"
      ],
      "execution_count": 91,
      "outputs": [
        {
          "output_type": "execute_result",
          "data": {
            "text/html": [
              "<div>\n",
              "<style scoped>\n",
              "    .dataframe tbody tr th:only-of-type {\n",
              "        vertical-align: middle;\n",
              "    }\n",
              "\n",
              "    .dataframe tbody tr th {\n",
              "        vertical-align: top;\n",
              "    }\n",
              "\n",
              "    .dataframe thead th {\n",
              "        text-align: right;\n",
              "    }\n",
              "</style>\n",
              "<table border=\"1\" class=\"dataframe\">\n",
              "  <thead>\n",
              "    <tr style=\"text-align: right;\">\n",
              "      <th></th>\n",
              "      <th>online_order</th>\n",
              "      <th>book_table</th>\n",
              "      <th>votes</th>\n",
              "      <th>location</th>\n",
              "      <th>rest_type</th>\n",
              "      <th>cuisines</th>\n",
              "      <th>cost</th>\n",
              "      <th>menu_item</th>\n",
              "    </tr>\n",
              "  </thead>\n",
              "  <tbody>\n",
              "    <tr>\n",
              "      <th>0</th>\n",
              "      <td>1</td>\n",
              "      <td>1</td>\n",
              "      <td>775</td>\n",
              "      <td>0</td>\n",
              "      <td>0</td>\n",
              "      <td>0</td>\n",
              "      <td>800.0</td>\n",
              "      <td>0</td>\n",
              "    </tr>\n",
              "    <tr>\n",
              "      <th>1</th>\n",
              "      <td>1</td>\n",
              "      <td>0</td>\n",
              "      <td>787</td>\n",
              "      <td>0</td>\n",
              "      <td>0</td>\n",
              "      <td>1</td>\n",
              "      <td>800.0</td>\n",
              "      <td>0</td>\n",
              "    </tr>\n",
              "    <tr>\n",
              "      <th>2</th>\n",
              "      <td>1</td>\n",
              "      <td>0</td>\n",
              "      <td>918</td>\n",
              "      <td>0</td>\n",
              "      <td>1</td>\n",
              "      <td>2</td>\n",
              "      <td>800.0</td>\n",
              "      <td>0</td>\n",
              "    </tr>\n",
              "    <tr>\n",
              "      <th>3</th>\n",
              "      <td>0</td>\n",
              "      <td>0</td>\n",
              "      <td>88</td>\n",
              "      <td>0</td>\n",
              "      <td>2</td>\n",
              "      <td>3</td>\n",
              "      <td>300.0</td>\n",
              "      <td>0</td>\n",
              "    </tr>\n",
              "    <tr>\n",
              "      <th>4</th>\n",
              "      <td>0</td>\n",
              "      <td>0</td>\n",
              "      <td>166</td>\n",
              "      <td>1</td>\n",
              "      <td>0</td>\n",
              "      <td>4</td>\n",
              "      <td>600.0</td>\n",
              "      <td>0</td>\n",
              "    </tr>\n",
              "  </tbody>\n",
              "</table>\n",
              "</div>"
            ],
            "text/plain": [
              "   online_order  book_table  votes  ...  cuisines   cost  menu_item\n",
              "0             1           1    775  ...         0  800.0          0\n",
              "1             1           0    787  ...         1  800.0          0\n",
              "2             1           0    918  ...         2  800.0          0\n",
              "3             0           0     88  ...         3  300.0          0\n",
              "4             0           0    166  ...         4  600.0          0\n",
              "\n",
              "[5 rows x 8 columns]"
            ]
          },
          "metadata": {
            "tags": []
          },
          "execution_count": 91
        }
      ]
    },
    {
      "cell_type": "code",
      "metadata": {
        "id": "bnT_Twi4c1If"
      },
      "source": [
        "y = dataset_en['rate']"
      ],
      "execution_count": 92,
      "outputs": []
    },
    {
      "cell_type": "code",
      "metadata": {
        "id": "QrLWHr0odAaJ",
        "outputId": "813afbec-5447-49ee-9606-690a9850afa9",
        "colab": {
          "base_uri": "https://localhost:8080/"
        }
      },
      "source": [
        "y.head()"
      ],
      "execution_count": 93,
      "outputs": [
        {
          "output_type": "execute_result",
          "data": {
            "text/plain": [
              "0    4.1\n",
              "1    4.1\n",
              "2    3.8\n",
              "3    3.7\n",
              "4    3.8\n",
              "Name: rate, dtype: float64"
            ]
          },
          "metadata": {
            "tags": []
          },
          "execution_count": 93
        }
      ]
    },
    {
      "cell_type": "markdown",
      "metadata": {
        "id": "HDz2WmpsdWM-"
      },
      "source": [
        "### Splitting Data into train and test"
      ]
    },
    {
      "cell_type": "code",
      "metadata": {
        "id": "-zirVWuMdBv-"
      },
      "source": [
        "from sklearn.model_selection import train_test_split\n",
        "X_train, X_test, y_train, y_test = train_test_split(X, y, test_size = 0.1, random_state = 353)"
      ],
      "execution_count": 94,
      "outputs": []
    },
    {
      "cell_type": "code",
      "metadata": {
        "id": "eg_Z7_I9dsjx",
        "outputId": "1b274273-5eef-435e-c55a-5d45cca0d3f7",
        "colab": {
          "base_uri": "https://localhost:8080/",
          "height": 204
        }
      },
      "source": [
        "X_train.head()"
      ],
      "execution_count": 95,
      "outputs": [
        {
          "output_type": "execute_result",
          "data": {
            "text/html": [
              "<div>\n",
              "<style scoped>\n",
              "    .dataframe tbody tr th:only-of-type {\n",
              "        vertical-align: middle;\n",
              "    }\n",
              "\n",
              "    .dataframe tbody tr th {\n",
              "        vertical-align: top;\n",
              "    }\n",
              "\n",
              "    .dataframe thead th {\n",
              "        text-align: right;\n",
              "    }\n",
              "</style>\n",
              "<table border=\"1\" class=\"dataframe\">\n",
              "  <thead>\n",
              "    <tr style=\"text-align: right;\">\n",
              "      <th></th>\n",
              "      <th>online_order</th>\n",
              "      <th>book_table</th>\n",
              "      <th>votes</th>\n",
              "      <th>location</th>\n",
              "      <th>rest_type</th>\n",
              "      <th>cuisines</th>\n",
              "      <th>cost</th>\n",
              "      <th>menu_item</th>\n",
              "    </tr>\n",
              "  </thead>\n",
              "  <tbody>\n",
              "    <tr>\n",
              "      <th>19461</th>\n",
              "      <td>1</td>\n",
              "      <td>0</td>\n",
              "      <td>204</td>\n",
              "      <td>12</td>\n",
              "      <td>35</td>\n",
              "      <td>20</td>\n",
              "      <td>500.0</td>\n",
              "      <td>0</td>\n",
              "    </tr>\n",
              "    <tr>\n",
              "      <th>28762</th>\n",
              "      <td>1</td>\n",
              "      <td>0</td>\n",
              "      <td>97</td>\n",
              "      <td>29</td>\n",
              "      <td>2</td>\n",
              "      <td>698</td>\n",
              "      <td>300.0</td>\n",
              "      <td>0</td>\n",
              "    </tr>\n",
              "    <tr>\n",
              "      <th>5945</th>\n",
              "      <td>0</td>\n",
              "      <td>1</td>\n",
              "      <td>8375</td>\n",
              "      <td>32</td>\n",
              "      <td>65</td>\n",
              "      <td>1026</td>\n",
              "      <td>2.0</td>\n",
              "      <td>0</td>\n",
              "    </tr>\n",
              "    <tr>\n",
              "      <th>12844</th>\n",
              "      <td>1</td>\n",
              "      <td>0</td>\n",
              "      <td>125</td>\n",
              "      <td>31</td>\n",
              "      <td>3</td>\n",
              "      <td>866</td>\n",
              "      <td>900.0</td>\n",
              "      <td>1952</td>\n",
              "    </tr>\n",
              "    <tr>\n",
              "      <th>45313</th>\n",
              "      <td>0</td>\n",
              "      <td>0</td>\n",
              "      <td>91</td>\n",
              "      <td>28</td>\n",
              "      <td>2</td>\n",
              "      <td>29</td>\n",
              "      <td>300.0</td>\n",
              "      <td>0</td>\n",
              "    </tr>\n",
              "  </tbody>\n",
              "</table>\n",
              "</div>"
            ],
            "text/plain": [
              "       online_order  book_table  votes  ...  cuisines   cost  menu_item\n",
              "19461             1           0    204  ...        20  500.0          0\n",
              "28762             1           0     97  ...       698  300.0          0\n",
              "5945              0           1   8375  ...      1026    2.0          0\n",
              "12844             1           0    125  ...       866  900.0       1952\n",
              "45313             0           0     91  ...        29  300.0          0\n",
              "\n",
              "[5 rows x 8 columns]"
            ]
          },
          "metadata": {
            "tags": []
          },
          "execution_count": 95
        }
      ]
    },
    {
      "cell_type": "code",
      "metadata": {
        "id": "fTBF7OYzduQT",
        "outputId": "dcca7ee6-5fdb-4d84-e635-affb767d803b",
        "colab": {
          "base_uri": "https://localhost:8080/"
        }
      },
      "source": [
        "y_train.head()"
      ],
      "execution_count": 96,
      "outputs": [
        {
          "output_type": "execute_result",
          "data": {
            "text/plain": [
              "19461    4.0\n",
              "28762    3.6\n",
              "5945     4.5\n",
              "12844    4.1\n",
              "45313    2.6\n",
              "Name: rate, dtype: float64"
            ]
          },
          "metadata": {
            "tags": []
          },
          "execution_count": 96
        }
      ]
    },
    {
      "cell_type": "markdown",
      "metadata": {
        "id": "6NOla0usd-9_"
      },
      "source": [
        "### Data Visualization"
      ]
    },
    {
      "cell_type": "markdown",
      "metadata": {
        "id": "jVSvuWkKeBvS"
      },
      "source": [
        "**How many of the Resturants Delivering Online??**\n",
        "\n"
      ]
    },
    {
      "cell_type": "code",
      "metadata": {
        "id": "cnRm8VQpd54e",
        "outputId": "96458cfe-d42d-4f7a-fc22-34c68aed786b",
        "colab": {
          "base_uri": "https://localhost:8080/",
          "height": 693
        }
      },
      "source": [
        "#Restaurants delivering Online or not\n",
        "sns.countplot(dataset_en['online_order'])\n",
        "fig = plt.gcf()\n",
        "fig.set_size_inches(10,10)\n",
        "plt.title('Restaurants delivering online or Not')"
      ],
      "execution_count": 97,
      "outputs": [
        {
          "output_type": "stream",
          "text": [
            "/usr/local/lib/python3.6/dist-packages/seaborn/_decorators.py:43: FutureWarning: Pass the following variable as a keyword arg: x. From version 0.12, the only valid positional argument will be `data`, and passing other arguments without an explicit keyword will result in an error or misinterpretation.\n",
            "  FutureWarning\n"
          ],
          "name": "stderr"
        },
        {
          "output_type": "execute_result",
          "data": {
            "text/plain": [
              "Text(0.5, 1.0, 'Restaurants delivering online or Not')"
            ]
          },
          "metadata": {
            "tags": []
          },
          "execution_count": 97
        },
        {
          "output_type": "display_data",
          "data": {
            "image/png": "[encoded data removed]",
            "text/plain": [
              "<Figure size 720x720 with 1 Axes>"
            ]
          },
          "metadata": {
            "tags": [],
            "needs_background": "light"
          }
        }
      ]
    },
    {
      "cell_type": "markdown",
      "metadata": {
        "id": "cQv4bURrecvO"
      },
      "source": [
        "**How many of the Resturants Allowing table Booking??**"
      ]
    },
    {
      "cell_type": "code",
      "metadata": {
        "id": "mGfdvf3IeWjO",
        "outputId": "88ee1ea8-ea6c-4f52-ad4f-50522543b0ba",
        "colab": {
          "base_uri": "https://localhost:8080/",
          "height": 693
        }
      },
      "source": [
        "sns.countplot(dataset_en['book_table'])\n",
        "fig = plt.gcf()\n",
        "fig.set_size_inches(10,10)\n",
        "plt.title('Restaurants allowing table booking or not')"
      ],
      "execution_count": 98,
      "outputs": [
        {
          "output_type": "stream",
          "text": [
            "/usr/local/lib/python3.6/dist-packages/seaborn/_decorators.py:43: FutureWarning: Pass the following variable as a keyword arg: x. From version 0.12, the only valid positional argument will be `data`, and passing other arguments without an explicit keyword will result in an error or misinterpretation.\n",
            "  FutureWarning\n"
          ],
          "name": "stderr"
        },
        {
          "output_type": "execute_result",
          "data": {
            "text/plain": [
              "Text(0.5, 1.0, 'Restaurants allowing table booking or not')"
            ]
          },
          "metadata": {
            "tags": []
          },
          "execution_count": 98
        },
        {
          "output_type": "display_data",
          "data": {
            "image/png": "[encoded data removed]",
            "text/plain": [
              "<Figure size 720x720 with 1 Axes>"
            ]
          },
          "metadata": {
            "tags": [],
            "needs_background": "light"
          }
        }
      ]
    },
    {
      "cell_type": "code",
      "metadata": {
        "id": "D-7Nd-WMeq3t"
      },
      "source": [
        ""
      ],
      "execution_count": null,
      "outputs": []
    }
  ]
}